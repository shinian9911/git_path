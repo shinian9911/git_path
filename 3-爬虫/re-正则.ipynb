{
 "cells": [
  {
   "cell_type": "code",
   "execution_count": 1,
   "id": "0e637543",
   "metadata": {},
   "outputs": [],
   "source": [
    "import re"
   ]
  },
  {
   "cell_type": "code",
   "execution_count": 2,
   "id": "2d243ff4",
   "metadata": {},
   "outputs": [
    {
     "data": {
      "text/plain": [
       "[]"
      ]
     },
     "execution_count": 2,
     "metadata": {},
     "output_type": "execute_result"
    }
   ],
   "source": [
    "html = '''\n",
    "        <div data-v-7f856186=\"\" class=\"m-v-sm info\">\n",
    "            <span data-v-7f856186=\"\">中国内地、中国香港</span>\n",
    "            <span data-v-7f856186=\"\"> / </span>\n",
    "            <span data-v-7f856186=\"\">171 分钟</span>\n",
    "        </div>\n",
    "        <div data-v-7f856186=\"\" class=\"m-v-sm info\">\n",
    "            <span data-v-7f856186=\"\">1993-07-26 上映</span>\n",
    "        </div>\n",
    "    '''\n",
    "\n",
    "pattern = re.compile('class=\".*?info.*?\"><span.*?>(.*?)</span>', re.S)\n",
    "# pattern = re.compile('class=\".*?info.*?\"><span.*?>(.*?)</span>', re.S)\n",
    "results = re.findall(pattern, html)\n",
    "results"
   ]
  },
  {
   "cell_type": "code",
   "execution_count": 3,
   "id": "ad1d6f19",
   "metadata": {},
   "outputs": [
    {
     "name": "stdout",
     "output_type": "stream",
     "text": [
      "中国内地、中国香港\n",
      "/\n",
      "171 分钟\n",
      "1993-07-26 上映\n"
     ]
    }
   ],
   "source": [
    "import re\n",
    "\n",
    "html = '''\n",
    "        <div data-v-7f856186=\"\" class=\"m-v-sm info\">\n",
    "            <span data-v-7f856186=\"\">中国内地、中国香港</span>\n",
    "            <span data-v-7f856186=\"\"> / </span>\n",
    "            <span data-v-7f856186=\"\">171 分钟</span>\n",
    "        </div>\n",
    "        <div data-v-7f856186=\"\" class=\"m-v-sm info\">\n",
    "            <span data-v-7f856186=\"\">1993-07-26 上映</span>\n",
    "        </div>\n",
    "    '''\n",
    "\n",
    "pattern = re.compile('<span.*?>(.*?)</span>', re.S)\n",
    "results = re.findall(pattern, html)\n",
    "\n",
    "for result in results:\n",
    "    print(result.strip())\n"
   ]
  },
  {
   "cell_type": "code",
   "execution_count": null,
   "id": "3fdb7bf9",
   "metadata": {},
   "outputs": [],
   "source": []
  },
  {
   "cell_type": "code",
   "execution_count": 26,
   "id": "15f35e09",
   "metadata": {},
   "outputs": [],
   "source": []
  }
 ],
 "metadata": {
  "kernelspec": {
   "display_name": "Python 3 (ipykernel)",
   "language": "python",
   "name": "python3"
  },
  "language_info": {
   "codemirror_mode": {
    "name": "ipython",
    "version": 3
   },
   "file_extension": ".py",
   "mimetype": "text/x-python",
   "name": "python",
   "nbconvert_exporter": "python",
   "pygments_lexer": "ipython3",
   "version": "3.11.3"
  }
 },
 "nbformat": 4,
 "nbformat_minor": 5
}
