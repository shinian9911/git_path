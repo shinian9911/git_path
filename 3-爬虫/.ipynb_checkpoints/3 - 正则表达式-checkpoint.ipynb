{
 "cells": [
  {
   "cell_type": "markdown",
   "id": "bee214de",
   "metadata": {},
   "source": [
    "## 1 - match\n",
    "\n",
    "--- match 方法会尝试从字符串的起始位置匹配正则表达式，如果匹配，就返回匹配成功的结果；如果不匹配，就返回 None\n",
    "\n",
    "--- match 方法在使用时需要考虑到开头的内容，这在做匹配时并不方便。它更适合用来检测某个字符串是否符合某个正则表达式的规则。"
   ]
  },
  {
   "cell_type": "code",
   "execution_count": null,
   "id": "3c969647",
   "metadata": {},
   "outputs": [],
   "source": []
  },
  {
   "cell_type": "code",
   "execution_count": 1,
   "id": "b055507b",
   "metadata": {},
   "outputs": [],
   "source": [
    "import re"
   ]
  },
  {
   "cell_type": "code",
   "execution_count": 2,
   "id": "8654c900",
   "metadata": {},
   "outputs": [
    {
     "name": "stdout",
     "output_type": "stream",
     "text": [
      "<re.Match object; span=(0, 25), match='Hello 123 4567 World_This'>\n",
      "Hello 123 4567 World_This\n",
      "(0, 25)\n"
     ]
    }
   ],
   "source": [
    "content = 'Hello 123 4567 World_This is a Regex Demo'\n",
    "result = re.match('^Hello\\s\\d\\d\\d\\s\\d{4}\\s\\w{10}', content)\n",
    "print(result)\n",
    "print(result.group())\n",
    "print(result.span())"
   ]
  },
  {
   "cell_type": "markdown",
   "id": "ab47fe53",
   "metadata": {},
   "source": [
    "### 匹配目标"
   ]
  },
  {
   "cell_type": "code",
   "execution_count": 3,
   "id": "344be830",
   "metadata": {},
   "outputs": [
    {
     "name": "stdout",
     "output_type": "stream",
     "text": [
      "<re.Match object; span=(0, 19), match='Hello 1234567 World'>\n",
      "Hello 1234567 World\n",
      "1234567\n",
      "(0, 19)\n"
     ]
    }
   ],
   "source": [
    "content = 'Hello 1234567 World_This is a Regex Demo'\n",
    "result = re.match('^Hello\\s(\\d+)\\sWorld', content)\n",
    "print(result)\n",
    "print(result.group())\n",
    "print(result.group(1))\n",
    "print(result.span())"
   ]
  },
  {
   "cell_type": "markdown",
   "id": "0090ee78",
   "metadata": {},
   "source": [
    "## 通用匹配"
   ]
  },
  {
   "cell_type": "code",
   "execution_count": 4,
   "id": "c57a577b",
   "metadata": {},
   "outputs": [
    {
     "name": "stdout",
     "output_type": "stream",
     "text": [
      "<re.Match object; span=(0, 40), match='Hello 1234567 World_This is a Regex Demo'>\n",
      "Hello 1234567 World_This is a Regex Demo\n",
      " 1234567 World_This is a Regex \n",
      "(0, 40)\n"
     ]
    }
   ],
   "source": [
    "result = re.match('^Hello(.*?)Demo$', content)\n",
    "print(result)\n",
    "print(result.group())\n",
    "print(result.group(1))\n",
    "print(result.span())"
   ]
  },
  {
   "cell_type": "markdown",
   "id": "1153a32e",
   "metadata": {},
   "source": [
    "## 贪婪与非贪婪"
   ]
  },
  {
   "cell_type": "code",
   "execution_count": 5,
   "id": "f658eec1",
   "metadata": {},
   "outputs": [
    {
     "name": "stdout",
     "output_type": "stream",
     "text": [
      "<re.Match object; span=(0, 40), match='Hello 1234567 World_This is a Regex Demo'>\n",
      "Hello 1234567 World_This is a Regex Demo\n",
      "7\n"
     ]
    }
   ],
   "source": [
    "result = re.match('^He.*(\\d+).*Demo$', content)\n",
    "print(result)\n",
    "print(result.group())\n",
    "print(result.group(1))"
   ]
  },
  {
   "cell_type": "code",
   "execution_count": 6,
   "id": "49e28cc5",
   "metadata": {},
   "outputs": [
    {
     "name": "stdout",
     "output_type": "stream",
     "text": [
      "<re.Match object; span=(0, 40), match='Hello 1234567 World_This is a Regex Demo'>\n",
      "Hello 1234567 World_This is a Regex Demo\n",
      "1234567\n"
     ]
    }
   ],
   "source": [
    "result = re.match('^He.*?(\\d+).*Demo$', content)\n",
    "print(result)\n",
    "print(result.group())\n",
    "print(result.group(1))"
   ]
  },
  {
   "cell_type": "code",
   "execution_count": 7,
   "id": "2ce10385",
   "metadata": {},
   "outputs": [
    {
     "name": "stdout",
     "output_type": "stream",
     "text": [
      "result1  \n",
      "result2  /kEraCN\n"
     ]
    }
   ],
   "source": [
    "# 匹配中间的字符尽量适用非贪婪，匹配结尾的字符尽量用贪婪\n",
    "content = 'http://weibo.com/comment/kEraCN'\n",
    "result1 = re.match('http.*?comment(.*?)', content)\n",
    "result2 = re.match('http.*?comment(.*)', content)\n",
    "print('result1 ',result1.group(1))\n",
    "print('result2 ',result2.group(1))"
   ]
  },
  {
   "cell_type": "markdown",
   "id": "3042252f",
   "metadata": {},
   "source": [
    "## 修饰符"
   ]
  },
  {
   "cell_type": "code",
   "execution_count": 8,
   "id": "305c2ad6",
   "metadata": {},
   "outputs": [
    {
     "name": "stdout",
     "output_type": "stream",
     "text": [
      "1234567\n"
     ]
    }
   ],
   "source": [
    "content = '''Hello 1234567 World_This\n",
    "is a Regex Demo\n",
    "'''\n",
    "result = re.match('^He.*?(\\d+).*Demo$', content, re.S)\n",
    "print(result.group(1))"
   ]
  },
  {
   "cell_type": "markdown",
   "id": "a6fe5162",
   "metadata": {},
   "source": [
    "## 转义匹配"
   ]
  },
  {
   "cell_type": "code",
   "execution_count": 9,
   "id": "a91d3f66",
   "metadata": {},
   "outputs": [
    {
     "name": "stdout",
     "output_type": "stream",
     "text": [
      "<re.Match object; span=(0, 18), match='(百度) www.baidu.com'>\n",
      " www\n",
      "baidu\n",
      "com\n"
     ]
    }
   ],
   "source": [
    "content = '(百度) www.baidu.com'\n",
    "result = re.match('\\(百度\\)(.*)\\.(.*)\\.(.*)', content)\n",
    "print(result)\n",
    "print(result.group(1))\n",
    "print(result.group(2))\n",
    "print(result.group(3))"
   ]
  },
  {
   "cell_type": "markdown",
   "id": "ea0d8f9a",
   "metadata": {},
   "source": [
    "## 2- search\n",
    "\n",
    "--- match 方法在使用时需要考虑到开头的内容，这在做匹配时并不方便。它更适合用来检测某个字符串是否符合某个正则表达式的规则。"
   ]
  },
  {
   "cell_type": "code",
   "execution_count": 10,
   "id": "5a6a5f70",
   "metadata": {},
   "outputs": [
    {
     "name": "stdout",
     "output_type": "stream",
     "text": [
      "<re.Match object; span=(13, 53), match='Hello 1234567 World_This is a Regex Demo'>\n",
      "1234567\n"
     ]
    }
   ],
   "source": [
    "content = 'Extra stings Hello 1234567 World_This is a Regex Demo Extra stings'\n",
    "result = re.search('Hello.*?(\\d+).*Demo', content)\n",
    "print(result)\n",
    "print(result.group(1))"
   ]
  },
  {
   "cell_type": "code",
   "execution_count": 21,
   "id": "63b64403",
   "metadata": {},
   "outputs": [],
   "source": [
    "html = '''\n",
    "<div id=\"songs-list\">\n",
    "  <h2 class=\"title\">经典老歌</h2>\n",
    "  <p class=\"introduction\">经典老歌列表</p>\n",
    "  <ul id=\"list\" class=\"list-group\">\n",
    "    <li data-view=\"2\">一路上有你</li>\n",
    "    <li data-view=\"7\">\n",
    "      <a href=\"/2.mp3\" singer=\"任贤齐\">沧海一声笑</a>\n",
    "    </li>\n",
    "    <li data-view=\"4\" class=\"active\">\n",
    "      <a href=\"/3.mp3\" singer=\"齐秦\">往事随风</a>\n",
    "    </li>\n",
    "    <li data-view=\"6\"><a href=\"/4.mp3\" singer=\"beyond\">光辉岁月</a></li>\n",
    "    <li data-view=\"5\"><a href=\"/5.mp3\" singer=\"陈慧琳\">记事本</a></li>\n",
    "    <li data-view=\"5\">\n",
    "      <a href=\"/6.mp3\" singer=\"邓丽君\">但愿人长久</a>\n",
    "    </li>\n",
    "  </ul>\n",
    "</div>\n",
    "'''"
   ]
  },
  {
   "cell_type": "code",
   "execution_count": 43,
   "id": "6e15ff53",
   "metadata": {},
   "outputs": [
    {
     "name": "stdout",
     "output_type": "stream",
     "text": [
      "<li data-view=\"2\">一路上有你</li>\n",
      "    <li data-view=\"7\">\n",
      "      <a href=\"/2.mp3\" singer=\"任贤齐\">沧海一声笑</a>\n",
      "    </li>\n",
      "    <li data-view=\"4\" class=\"active\">\n",
      "      <a href=\"/3.mp3\" singer=\"齐秦\">往事随风</a>\n",
      "/3.mp3\n",
      "齐秦\n",
      "往事随风\n"
     ]
    }
   ],
   "source": [
    "pattern = '<li.*?active.*?href=\"(.*?)\"\\ssinger=\"(.*?)\">(.*?)</a>'\n",
    "result = re.search(pattern, html, re.S)\n",
    "# print(result)\n",
    "print(result.group(0))\n",
    "print(result.group(1))\n",
    "print(result.group(2))\n",
    "print(result.group(3))"
   ]
  },
  {
   "cell_type": "markdown",
   "id": "0000cef3",
   "metadata": {},
   "source": [
    "## 3 - findall"
   ]
  },
  {
   "cell_type": "code",
   "execution_count": 47,
   "id": "1257bb3d",
   "metadata": {},
   "outputs": [
    {
     "name": "stdout",
     "output_type": "stream",
     "text": [
      "('/2.mp3', '任贤齐', '沧海一声笑')\n",
      "/2.mp3 任贤齐 沧海一声笑\n",
      "('/3.mp3', '齐秦', '往事随风')\n",
      "/3.mp3 齐秦 往事随风\n",
      "('/4.mp3', 'beyond', '光辉岁月')\n",
      "/4.mp3 beyond 光辉岁月\n",
      "('/5.mp3', '陈慧琳', '记事本')\n",
      "/5.mp3 陈慧琳 记事本\n",
      "('/6.mp3', '邓丽君', '但愿人长久')\n",
      "/6.mp3 邓丽君 但愿人长久\n"
     ]
    }
   ],
   "source": [
    "results = re.findall('<li.*?href=\"(.*?)\"\\ssinger=\"(.*?)\">(.*?)</a>', html, re.S)\n",
    "# print(results)\n",
    "for result in results:\n",
    "    print(result)\n",
    "    print(result[0], result[1], result[2])"
   ]
  },
  {
   "cell_type": "markdown",
   "id": "62a83af3",
   "metadata": {},
   "source": [
    "## 4 - sub"
   ]
  },
  {
   "cell_type": "code",
   "execution_count": 48,
   "id": "8c17cf64",
   "metadata": {},
   "outputs": [
    {
     "name": "stdout",
     "output_type": "stream",
     "text": [
      "aKyroiRixLg\n"
     ]
    }
   ],
   "source": [
    "content = '54aK54yr5oiR54ix5L2g'\n",
    "content = re.sub('\\d+', '', content)\n",
    "print(content)f"
   ]
  },
  {
   "cell_type": "code",
   "execution_count": 51,
   "id": "72e94d1f",
   "metadata": {},
   "outputs": [
    {
     "name": "stdout",
     "output_type": "stream",
     "text": [
      "2019-12-15  2019-12-17  2019-12-22 \n"
     ]
    }
   ],
   "source": [
    "content1 = '2019-12-15 12:00'\n",
    "content2 = '2019-12-17 12:55'\n",
    "content3 = '2019-12-22 13:21'\n",
    "pattern = re.compile('\\d{2}:\\d{2}')\n",
    "result1 = re.sub(pattern, '', content1)\n",
    "result2 = re.sub(pattern, '', content2)\n",
    "result3 = re.sub(pattern, '', content3)\n",
    "print(result1, result2, result3)"
   ]
  },
  {
   "cell_type": "code",
   "execution_count": null,
   "id": "e48a4fa8",
   "metadata": {},
   "outputs": [],
   "source": []
  },
  {
   "cell_type": "code",
   "execution_count": null,
   "id": "759dc3b5",
   "metadata": {},
   "outputs": [],
   "source": []
  },
  {
   "cell_type": "code",
   "execution_count": null,
   "id": "93ec3ae2",
   "metadata": {},
   "outputs": [],
   "source": []
  },
  {
   "cell_type": "code",
   "execution_count": null,
   "id": "78036616",
   "metadata": {},
   "outputs": [],
   "source": []
  },
  {
   "cell_type": "code",
   "execution_count": null,
   "id": "bc866994",
   "metadata": {},
   "outputs": [],
   "source": []
  },
  {
   "cell_type": "code",
   "execution_count": null,
   "id": "4da5db70",
   "metadata": {},
   "outputs": [],
   "source": []
  },
  {
   "cell_type": "code",
   "execution_count": null,
   "id": "d6d34405",
   "metadata": {},
   "outputs": [],
   "source": []
  },
  {
   "cell_type": "code",
   "execution_count": null,
   "id": "b9b1b87b",
   "metadata": {},
   "outputs": [],
   "source": []
  }
 ],
 "metadata": {
  "kernelspec": {
   "display_name": "Python 3 (ipykernel)",
   "language": "python",
   "name": "python3"
  },
  "language_info": {
   "codemirror_mode": {
    "name": "ipython",
    "version": 3
   },
   "file_extension": ".py",
   "mimetype": "text/x-python",
   "name": "python",
   "nbconvert_exporter": "python",
   "pygments_lexer": "ipython3",
   "version": "3.11.3"
  }
 },
 "nbformat": 4,
 "nbformat_minor": 5
}
