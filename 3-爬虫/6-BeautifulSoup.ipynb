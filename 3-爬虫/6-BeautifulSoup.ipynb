{
 "cells": [
  {
   "cell_type": "code",
   "execution_count": 10,
   "id": "f26dee2d",
   "metadata": {
    "ExecuteTime": {
     "end_time": "2023-11-21T14:32:15.164628Z",
     "start_time": "2023-11-21T14:32:15.160410Z"
    }
   },
   "outputs": [],
   "source": [
    "html = \"\"\"\n",
    "<html>\n",
    "    <head>\n",
    "        <title>The Dormouse's story</title>\n",
    "    </head>\n",
    "    <body>\n",
    "        <p class=\"story\">\n",
    "            Once upon a time there were three little sisters; and their names were\n",
    "            <a href=\"http://example.com/elsie\" class=\"sister\" id=\"link1\">\n",
    "                <span>Elsie</span>\n",
    "            </a>\n",
    "            <a href=\"http://example.com/lacie\" class=\"sister\" id=\"link2\">Lacie</a>\n",
    "            and\n",
    "            <a href=\"http://example.com/tillie\" class=\"sister\" id=\"link3\">Tillie</a>\n",
    "            and they lived at the bottom of a well.\n",
    "        </p>\n",
    "        <p class=\"story\">...</p>\n",
    "\"\"\""
   ]
  },
  {
   "cell_type": "code",
   "execution_count": 11,
   "id": "3dfd9065",
   "metadata": {
    "ExecuteTime": {
     "end_time": "2023-11-21T14:32:15.670870Z",
     "start_time": "2023-11-21T14:32:15.660603Z"
    }
   },
   "outputs": [
    {
     "name": "stdout",
     "output_type": "stream",
     "text": [
      "<title>The Dormouse's story</title>\n",
      "<class 'bs4.element.Tag'>\n",
      "The Dormouse's story\n",
      "<head>\n",
      "<title>The Dormouse's story</title>\n",
      "</head>\n",
      "<p class=\"story\">\n",
      "            Once upon a time there were three little sisters; and their names were\n",
      "            <a class=\"sister\" href=\"http://example.com/elsie\" id=\"link1\">\n",
      "<span>Elsie</span>\n",
      "</a>\n",
      "<a class=\"sister\" href=\"http://example.com/lacie\" id=\"link2\">Lacie</a>\n",
      "            and\n",
      "            <a class=\"sister\" href=\"http://example.com/tillie\" id=\"link3\">Tillie</a>\n",
      "            and they lived at the bottom of a well.\n",
      "        </p>\n"
     ]
    }
   ],
   "source": [
    "# 节点选择器\n",
    "\n",
    "from bs4 import BeautifulSoup\n",
    "soup = BeautifulSoup(html, 'lxml')\n",
    "# print(soup.prettify())\n",
    "print(soup.title)\n",
    "print(type(soup.title))\n",
    "print(soup.title.string)\n",
    "print(soup.head)\n",
    "print(soup.p)"
   ]
  },
  {
   "cell_type": "code",
   "execution_count": 18,
   "id": "bc1fcd82",
   "metadata": {
    "ExecuteTime": {
     "end_time": "2023-11-21T14:32:41.778473Z",
     "start_time": "2023-11-21T14:32:41.772769Z"
    }
   },
   "outputs": [
    {
     "name": "stdout",
     "output_type": "stream",
     "text": [
      "title\n",
      "{'class': ['story']}\n"
     ]
    }
   ],
   "source": [
    "# 提取信息\n",
    "\n",
    "# 获取名称\n",
    "print(soup.title.name)\n",
    "\n",
    "# 获取属性\n",
    "print(soup.p.attrs)\n",
    "# print(soup.p.attrs['name'])\n",
    "\n",
    "# print(soup.p['name'])\n",
    "# print(soup.p['class'])"
   ]
  },
  {
   "cell_type": "code",
   "execution_count": 13,
   "id": "76c73561",
   "metadata": {
    "ExecuteTime": {
     "end_time": "2023-11-21T14:32:15.821059Z",
     "start_time": "2023-11-21T14:32:15.818577Z"
    }
   },
   "outputs": [
    {
     "name": "stdout",
     "output_type": "stream",
     "text": [
      "None\n",
      "'\\n            Once upon a time there were three little sisters; and their names were\\n            '\n",
      "'\\n'\n",
      "'Elsie'\n",
      "'\\n'\n",
      "'\\n'\n",
      "'Lacie'\n",
      "'\\n            and\\n            '\n",
      "'Tillie'\n",
      "'\\n            and they lived at the bottom of a well.\\n        '\n"
     ]
    }
   ],
   "source": [
    "# 获取内容\n",
    "\n",
    "print(soup.p.string)\n",
    "for string in soup.p.strings:\n",
    "    print(repr(string))"
   ]
  },
  {
   "cell_type": "code",
   "execution_count": 14,
   "id": "139d90e7",
   "metadata": {
    "ExecuteTime": {
     "end_time": "2023-11-21T14:32:15.903933Z",
     "start_time": "2023-11-21T14:32:15.901693Z"
    }
   },
   "outputs": [
    {
     "name": "stdout",
     "output_type": "stream",
     "text": [
      "The Dormouse's story\n",
      "<class 'bs4.element.NavigableString'>\n"
     ]
    }
   ],
   "source": [
    "# 嵌套选择\n",
    "\n",
    "print(soup.head.title.string)\n",
    "print(type(soup.head.title.string))"
   ]
  },
  {
   "cell_type": "code",
   "execution_count": 24,
   "id": "c0f907f4",
   "metadata": {
    "ExecuteTime": {
     "end_time": "2023-11-21T14:40:55.575662Z",
     "start_time": "2023-11-21T14:40:55.571327Z"
    }
   },
   "outputs": [],
   "source": [
    "# 关联选择\n",
    "\n",
    "# print(soup.prettify())\n",
    "# print(soup.p.contents)"
   ]
  },
  {
   "cell_type": "code",
   "execution_count": 19,
   "id": "18361e15",
   "metadata": {
    "ExecuteTime": {
     "end_time": "2023-11-21T14:37:25.497380Z",
     "start_time": "2023-11-21T14:37:25.491522Z"
    }
   },
   "outputs": [],
   "source": [
    "# print(soup.children)\n",
    "# for i, child in enumerate(soup.p.children):\n",
    "#     print(i, child)\n",
    "#     print('--------------')"
   ]
  },
  {
   "cell_type": "code",
   "execution_count": 22,
   "id": "073c0ce0",
   "metadata": {
    "ExecuteTime": {
     "end_time": "2023-11-21T14:39:30.306044Z",
     "start_time": "2023-11-21T14:39:30.301257Z"
    }
   },
   "outputs": [],
   "source": [
    "# for i, descendant in enumerate(soup.p.descendants):\n",
    "#     print(i, descendant)"
   ]
  },
  {
   "cell_type": "code",
   "execution_count": 23,
   "id": "4f2a9daa",
   "metadata": {
    "ExecuteTime": {
     "end_time": "2023-11-21T14:40:39.955420Z",
     "start_time": "2023-11-21T14:40:39.953641Z"
    }
   },
   "outputs": [
    {
     "name": "stdout",
     "output_type": "stream",
     "text": [
      "<p class=\"story\">\n",
      "            Once upon a time there were three little sisters; and their names were\n",
      "            <a class=\"sister\" href=\"http://example.com/elsie\" id=\"link1\">\n",
      "<span>Elsie</span>\n",
      "</a>\n",
      "<a class=\"sister\" href=\"http://example.com/lacie\" id=\"link2\">Lacie</a>\n",
      "            and\n",
      "            <a class=\"sister\" href=\"http://example.com/tillie\" id=\"link3\">Tillie</a>\n",
      "            and they lived at the bottom of a well.\n",
      "        </p>\n"
     ]
    }
   ],
   "source": [
    "print(soup.a.parent)"
   ]
  },
  {
   "cell_type": "code",
   "execution_count": 31,
   "id": "6d20e1f7",
   "metadata": {
    "ExecuteTime": {
     "end_time": "2023-11-21T15:49:59.053163Z",
     "start_time": "2023-11-21T15:49:59.044423Z"
    }
   },
   "outputs": [],
   "source": [
    "html = \"\"\"\n",
    "<html>\n",
    "    <head>\n",
    "        <title>The Dormouse's story</title>\n",
    "    </head>\n",
    "    <body>\n",
    "        <p class=\"story\">\n",
    "            Once upon a time there were three little sisters; and their names were\n",
    "            <a href=\"http://example.com/elsie\" class=\"sister\" id=\"link1\">\n",
    "                <span>Elsie</span>\n",
    "            </a>\n",
    "        </p>\n",
    "        <p class=\"story\">...</p>\n",
    "\"\"\"\n",
    "from bs4 import BeautifulSoup\n",
    "soup = BeautifulSoup(html, 'lxml')\n",
    "# 父节点\n",
    "# print(soup.a.parent)\n",
    "\n",
    "# 祖先节点\n",
    "# print(list(enumerate(soup.a.parents)))"
   ]
  },
  {
   "cell_type": "code",
   "execution_count": 59,
   "id": "85ff8033",
   "metadata": {
    "ExecuteTime": {
     "end_time": "2023-11-21T16:04:05.486669Z",
     "start_time": "2023-11-21T16:04:05.478195Z"
    }
   },
   "outputs": [
    {
     "name": "stdout",
     "output_type": "stream",
     "text": [
      "['story']\n"
     ]
    }
   ],
   "source": [
    "# 兄弟节点\n",
    "\n",
    "html = \"\"\"\n",
    "<html>\n",
    "    <body>\n",
    "        <p class=\"story\">\n",
    "            Once upon a time there were three little sisters; and their names were\n",
    "            <a href=\"http://example.com/elsie\" class=\"sister\" id=\"link1\">\n",
    "                <span>Elsie</span>\n",
    "            </a>\n",
    "            Hello\n",
    "            <a href=\"http://example.com/lacie\" class=\"sister\" id=\"link2\">Lacie</a>\n",
    "            and\n",
    "            <a href=\"http://example.com/tillie\" class=\"sister\" id=\"link3\">Tillie</a>\n",
    "            and they lived at the bottom of a well.\n",
    "        </p>\n",
    "\"\"\"\n",
    "\n",
    "# 下一个兄弟节点\n",
    "# print(\"next_sibling: \", soup.a.next_sibling)\n",
    "\n",
    "# 上一个兄弟节点\n",
    "# print(\"previous_sibling\", soup.a.previous_sibling)\n",
    "\n",
    "# 后面的全部兄弟节点\n",
    "# print(soup.a.next_siblings)\n",
    "\n",
    "# 前面的全部兄弟节点\n",
    "# print(soup.a.previous_siblings)\n",
    "\n",
    "# print(soup.a.parent)\n",
    "# print(list(soup.a.parents)[0])\n",
    "# print('-----------------')\n",
    "# print(list(soup.a.parents)[1])\n",
    "# print('-----------------')\n",
    "# print(list(soup.a.parents)[2])\n",
    "print(list(soup.a.parents)[0].attrs['class'])"
   ]
  },
  {
   "cell_type": "markdown",
   "id": "53884414",
   "metadata": {},
   "source": [
    "--- 方法选择器"
   ]
  },
  {
   "cell_type": "code",
   "execution_count": 63,
   "id": "e600fece",
   "metadata": {
    "ExecuteTime": {
     "end_time": "2023-11-21T16:19:13.633173Z",
     "start_time": "2023-11-21T16:19:13.625021Z"
    }
   },
   "outputs": [
    {
     "name": "stdout",
     "output_type": "stream",
     "text": [
      "['Hello, this is a link', 'Hello, this is a link, too']\n"
     ]
    }
   ],
   "source": [
    "import re\n",
    "html='''\n",
    "<div class=\"panel\">\n",
    "    <div class=\"panel-body\">\n",
    "        <a>Hello, this is a link</a>\n",
    "        <a>Hello, this is a link, too</a>\n",
    "    </div>\n",
    "</div>\n",
    "'''\n",
    "from bs4 import BeautifulSoup\n",
    "soup = BeautifulSoup(html, 'lxml')\n",
    "print(soup.find_all(string=re.compile('link')))"
   ]
  },
  {
   "cell_type": "code",
   "execution_count": null,
   "id": "b83d02be",
   "metadata": {},
   "outputs": [],
   "source": []
  },
  {
   "cell_type": "code",
   "execution_count": null,
   "id": "8f4285b7",
   "metadata": {},
   "outputs": [],
   "source": []
  },
  {
   "cell_type": "code",
   "execution_count": null,
   "id": "c7798db5",
   "metadata": {},
   "outputs": [],
   "source": []
  },
  {
   "cell_type": "code",
   "execution_count": null,
   "id": "12b8623a",
   "metadata": {},
   "outputs": [],
   "source": []
  },
  {
   "cell_type": "code",
   "execution_count": null,
   "id": "566f022a",
   "metadata": {},
   "outputs": [],
   "source": []
  },
  {
   "cell_type": "code",
   "execution_count": null,
   "id": "5fa7da1e",
   "metadata": {},
   "outputs": [],
   "source": []
  },
  {
   "cell_type": "code",
   "execution_count": null,
   "id": "9ed57ecc",
   "metadata": {},
   "outputs": [],
   "source": []
  },
  {
   "cell_type": "code",
   "execution_count": null,
   "id": "78bae0b8",
   "metadata": {},
   "outputs": [],
   "source": []
  },
  {
   "cell_type": "code",
   "execution_count": null,
   "id": "fe0654d8",
   "metadata": {},
   "outputs": [],
   "source": []
  },
  {
   "cell_type": "code",
   "execution_count": null,
   "id": "6584089e",
   "metadata": {},
   "outputs": [],
   "source": []
  },
  {
   "cell_type": "code",
   "execution_count": null,
   "id": "c77d9c16",
   "metadata": {},
   "outputs": [],
   "source": []
  },
  {
   "cell_type": "code",
   "execution_count": null,
   "id": "b7a1dda5",
   "metadata": {},
   "outputs": [],
   "source": []
  },
  {
   "cell_type": "code",
   "execution_count": null,
   "id": "00085d1f",
   "metadata": {},
   "outputs": [],
   "source": []
  },
  {
   "cell_type": "code",
   "execution_count": null,
   "id": "05e3d306",
   "metadata": {},
   "outputs": [],
   "source": []
  }
 ],
 "metadata": {
  "kernelspec": {
   "display_name": "Python 3 (ipykernel)",
   "language": "python",
   "name": "python3"
  },
  "language_info": {
   "codemirror_mode": {
    "name": "ipython",
    "version": 3
   },
   "file_extension": ".py",
   "mimetype": "text/x-python",
   "name": "python",
   "nbconvert_exporter": "python",
   "pygments_lexer": "ipython3",
   "version": "3.11.4"
  },
  "toc": {
   "base_numbering": 1,
   "nav_menu": {},
   "number_sections": true,
   "sideBar": true,
   "skip_h1_title": false,
   "title_cell": "Table of Contents",
   "title_sidebar": "Contents",
   "toc_cell": false,
   "toc_position": {},
   "toc_section_display": true,
   "toc_window_display": false
  },
  "varInspector": {
   "cols": {
    "lenName": 16,
    "lenType": 16,
    "lenVar": 40
   },
   "kernels_config": {
    "python": {
     "delete_cmd_postfix": "",
     "delete_cmd_prefix": "del ",
     "library": "var_list.py",
     "varRefreshCmd": "print(var_dic_list())"
    },
    "r": {
     "delete_cmd_postfix": ") ",
     "delete_cmd_prefix": "rm(",
     "library": "var_list.r",
     "varRefreshCmd": "cat(var_dic_list()) "
    }
   },
   "types_to_exclude": [
    "module",
    "function",
    "builtin_function_or_method",
    "instance",
    "_Feature"
   ],
   "window_display": false
  }
 },
 "nbformat": 4,
 "nbformat_minor": 5
}
