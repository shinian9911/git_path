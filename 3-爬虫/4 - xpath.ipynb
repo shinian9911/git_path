{
 "cells": [
  {
   "cell_type": "markdown",
   "id": "3557df6a",
   "metadata": {},
   "source": [
    "#  - httpx支持http2.0"
   ]
  },
  {
   "cell_type": "code",
   "execution_count": 2,
   "id": "fa47fb6b",
   "metadata": {
    "ExecuteTime": {
     "end_time": "2023-11-19T12:33:03.294440Z",
     "start_time": "2023-11-19T12:33:03.220777Z"
    }
   },
   "outputs": [],
   "source": [
    "import httpx"
   ]
  },
  {
   "cell_type": "code",
   "execution_count": 3,
   "id": "14a148f7",
   "metadata": {
    "ExecuteTime": {
     "end_time": "2023-11-19T12:34:45.602827Z",
     "start_time": "2023-11-19T12:34:43.214831Z"
    }
   },
   "outputs": [
    {
     "name": "stdout",
     "output_type": "stream",
     "text": [
      "200\n",
      "Headers({'date': 'Sun, 19 Nov 2023 12:34:45 GMT', 'content-type': 'application/json', 'content-length': '316', 'connection': 'keep-alive', 'server': 'gunicorn/19.9.0', 'access-control-allow-origin': '*', 'access-control-allow-credentials': 'true'})\n",
      "{\n",
      "  \"args\": {}, \n",
      "  \"headers\": {\n",
      "    \"Accept\": \"*/*\", \n",
      "    \"Accept-Encoding\": \"gzip, deflate, br\", \n",
      "    \"Host\": \"www.httpbin.org\", \n",
      "    \"User-Agent\": \"python-httpx/0.25.1\", \n",
      "    \"X-Amzn-Trace-Id\": \"Root=1-655a00e5-48f25cd238cb89540f17c701\"\n",
      "  }, \n",
      "  \"origin\": \"54.254.235.25\", \n",
      "  \"url\": \"https://www.httpbin.org/get\"\n",
      "}\n",
      "\n"
     ]
    }
   ],
   "source": [
    "response = httpx.get('https://www.httpbin.org/get')\n",
    "print(response.status_code)\n",
    "print(response.headers)\n",
    "print(response.text)"
   ]
  },
  {
   "cell_type": "code",
   "execution_count": 10,
   "id": "8e664fbd",
   "metadata": {
    "ExecuteTime": {
     "end_time": "2023-11-19T12:42:05.072018Z",
     "start_time": "2023-11-19T12:42:02.742954Z"
    }
   },
   "outputs": [
    {
     "name": "stdout",
     "output_type": "stream",
     "text": [
      "my-app/0.0.1\n"
     ]
    }
   ],
   "source": [
    "url = 'https://www.httpbin.org/get'\n",
    "headers = {'User-Agent': 'my-app/0.0.1'}\n",
    "\n",
    "with httpx.Client(headers=headers) as client:\n",
    "    response = client.get(url)\n",
    "    print(response.json()['headers']['User-Agent'])"
   ]
  },
  {
   "cell_type": "code",
   "execution_count": 8,
   "id": "210f8f0a",
   "metadata": {
    "ExecuteTime": {
     "end_time": "2023-11-19T12:39:34.964689Z",
     "start_time": "2023-11-19T12:39:33.071296Z"
    }
   },
   "outputs": [],
   "source": [
    "# 等价于\n",
    "client = httpx.Client()\n",
    "\n",
    "try:\n",
    "    response = client.get('https://www.httpbin.org/get')\n",
    "finally:\n",
    "    client.close()"
   ]
  },
  {
   "cell_type": "markdown",
   "id": "050f0e5b",
   "metadata": {},
   "source": [
    "# - xpath 实例引入"
   ]
  },
  {
   "cell_type": "code",
   "execution_count": 16,
   "id": "46122e88",
   "metadata": {
    "ExecuteTime": {
     "end_time": "2023-11-19T13:05:55.482610Z",
     "start_time": "2023-11-19T13:05:55.476479Z"
    }
   },
   "outputs": [],
   "source": [
    "from lxml import etree\n",
    "text = '''\n",
    "<div>\n",
    "    <ul>\n",
    "         <li class=\"item-0\"><a href=\"link1.html\">first item</a></li>\n",
    "         <li class=\"item-1\"><a href=\"link2.html\">second item</a></li>\n",
    "         <li class=\"item-inactive\"><a href=\"link3.html\">third item</a></li>\n",
    "         <li class=\"item-1\"><a href=\"link4.html\">fourth item</a></li>\n",
    "         <li class=\"item-0\"><a href=\"link5.html\">fifth item</a>\n",
    "     </ul>\n",
    " </div>\n",
    "'''\n",
    "html = etree.HTML(text)\n",
    "result = etree.tostring(html)\n",
    "# print(result.decode('utf-8'))"
   ]
  },
  {
   "cell_type": "code",
   "execution_count": 19,
   "id": "6b14f8ea",
   "metadata": {
    "ExecuteTime": {
     "end_time": "2023-11-19T13:14:55.946359Z",
     "start_time": "2023-11-19T13:14:55.939034Z"
    }
   },
   "outputs": [
    {
     "name": "stdout",
     "output_type": "stream",
     "text": [
      "<!DOCTYPE html PUBLIC \"-//W3C//DTD HTML 4.0 Transitional//EN\" \"http://www.w3.org/TR/REC-html40/loose.dtd\">\n",
      "<html><body><div>\n",
      "  <ul>\n",
      "    <li class=\"item-0\"><a href=\"link1.html\">first item</a></li>\n",
      "    <li class=\"item-1\"><a href=\"link2.html\">second item</a></li>\n",
      "    <li class=\"item-inactive\"><a href=\"link3.html\">third item</a></li>\n",
      "    <li class=\"item-1\"><a href=\"link4.html\">fourth item</a></li>\n",
      "    <li class=\"item-0\"><a href=\"link5.html\">fifth item</a></li>\n",
      "  </ul>\n",
      "</div></body></html>\n"
     ]
    }
   ],
   "source": [
    "html = etree.parse('./test.html', etree.HTMLParser())\n",
    "result = etree.tostring(html, method='html')\n",
    "print(result.decode('utf-8'))"
   ]
  },
  {
   "cell_type": "markdown",
   "id": "b22930be",
   "metadata": {},
   "source": [
    "## 所有节点"
   ]
  },
  {
   "cell_type": "code",
   "execution_count": 21,
   "id": "620cdfff",
   "metadata": {
    "ExecuteTime": {
     "end_time": "2023-11-19T13:16:09.538002Z",
     "start_time": "2023-11-19T13:16:09.525820Z"
    }
   },
   "outputs": [
    {
     "data": {
      "text/plain": [
       "[<Element html at 0x15bf047c0>,\n",
       " <Element body at 0x15d05a9c0>,\n",
       " <Element div at 0x15be6e1c0>,\n",
       " <Element ul at 0x15be65900>,\n",
       " <Element li at 0x15d07ee40>,\n",
       " <Element a at 0x15d07db80>,\n",
       " <Element li at 0x15d07e980>,\n",
       " <Element a at 0x15d07f100>,\n",
       " <Element li at 0x15d07d5c0>,\n",
       " <Element a at 0x15d07d640>,\n",
       " <Element li at 0x15d085900>,\n",
       " <Element a at 0x15d087d00>,\n",
       " <Element li at 0x15d087580>,\n",
       " <Element a at 0x15d084f00>]"
      ]
     },
     "execution_count": 21,
     "metadata": {},
     "output_type": "execute_result"
    }
   ],
   "source": [
    "result = html.xpath('//*')\n",
    "result"
   ]
  },
  {
   "cell_type": "code",
   "execution_count": 32,
   "id": "e89a0291",
   "metadata": {
    "ExecuteTime": {
     "end_time": "2023-11-19T13:20:50.314379Z",
     "start_time": "2023-11-19T13:20:50.306089Z"
    }
   },
   "outputs": [
    {
     "data": {
      "text/plain": [
       "[<Element li at 0x15d07ee40>,\n",
       " <Element li at 0x15d07e980>,\n",
       " <Element li at 0x15d07d5c0>,\n",
       " <Element li at 0x15d085900>,\n",
       " <Element li at 0x15d087580>]"
      ]
     },
     "execution_count": 32,
     "metadata": {},
     "output_type": "execute_result"
    }
   ],
   "source": [
    "result = html.xpath('//li')\n",
    "result"
   ]
  },
  {
   "cell_type": "code",
   "execution_count": 29,
   "id": "48c6ac12",
   "metadata": {
    "ExecuteTime": {
     "end_time": "2023-11-19T13:20:08.108391Z",
     "start_time": "2023-11-19T13:20:08.100689Z"
    }
   },
   "outputs": [
    {
     "data": {
      "text/plain": [
       "['first item', 'second item', 'third item', 'fourth item', 'fifth item']"
      ]
     },
     "execution_count": 29,
     "metadata": {},
     "output_type": "execute_result"
    }
   ],
   "source": [
    "# 子节点\n",
    "result = html.xpath('//li/a/text()')\n",
    "result"
   ]
  },
  {
   "cell_type": "code",
   "execution_count": 35,
   "id": "58c5c470",
   "metadata": {
    "ExecuteTime": {
     "end_time": "2023-11-19T13:24:03.077343Z",
     "start_time": "2023-11-19T13:24:03.069160Z"
    }
   },
   "outputs": [
    {
     "data": {
      "text/plain": [
       "['item-1']"
      ]
     },
     "execution_count": 35,
     "metadata": {},
     "output_type": "execute_result"
    }
   ],
   "source": [
    "# 父节点\n",
    "# result = html.xpath('//a[@href=\"link4.html\"]/../@class')\n",
    "result = html.xpath('//a[@href=\"link4.html\"]/parent::*/@class')\n",
    "result"
   ]
  },
  {
   "cell_type": "code",
   "execution_count": 37,
   "id": "29cd5abe",
   "metadata": {
    "ExecuteTime": {
     "end_time": "2023-11-19T13:25:06.627094Z",
     "start_time": "2023-11-19T13:25:06.620084Z"
    }
   },
   "outputs": [
    {
     "data": {
      "text/plain": [
       "[<Element li at 0x15d07ee40>, <Element li at 0x15d087580>]"
      ]
     },
     "execution_count": 37,
     "metadata": {},
     "output_type": "execute_result"
    }
   ],
   "source": [
    "# 属性匹配\n",
    "result = html.xpath('//li[@class=\"item-0\"]')\n",
    "result"
   ]
  },
  {
   "cell_type": "code",
   "execution_count": 41,
   "id": "b0c49a1e",
   "metadata": {
    "ExecuteTime": {
     "end_time": "2023-11-19T13:27:30.489043Z",
     "start_time": "2023-11-19T13:27:30.481152Z"
    }
   },
   "outputs": [
    {
     "name": "stdout",
     "output_type": "stream",
     "text": [
      "['first item', 'fifth item']\n",
      "['first item', 'fifth item']\n"
     ]
    }
   ],
   "source": [
    "# 文本获取\n",
    "result = html.xpath('//li[@class=\"item-0\"]/a/text()')\n",
    "result1 = html.xpath('//li[@class=\"item-0\"]//text()')\n",
    "print(result)\n",
    "print(result1)"
   ]
  },
  {
   "cell_type": "markdown",
   "id": "4140560e",
   "metadata": {},
   "source": [
    "注意，此处和属性匹配的方法不同，属性匹配是中括号加属性名和值来限定某个属性，\n",
    "如 [@href=\"link1.html\"]，\n",
    "\n",
    "而此处的 @href 指的是获取节点的某个属性，二者需要做好区分。"
   ]
  },
  {
   "cell_type": "code",
   "execution_count": 42,
   "id": "8649003a",
   "metadata": {
    "ExecuteTime": {
     "end_time": "2023-11-19T13:29:45.905715Z",
     "start_time": "2023-11-19T13:29:45.898175Z"
    }
   },
   "outputs": [
    {
     "data": {
      "text/plain": [
       "['link1.html', 'link2.html', 'link3.html', 'link4.html', 'link5.html']"
      ]
     },
     "execution_count": 42,
     "metadata": {},
     "output_type": "execute_result"
    }
   ],
   "source": [
    "result = html.xpath('//li/a/@href')\n",
    "result"
   ]
  },
  {
   "cell_type": "code",
   "execution_count": 43,
   "id": "a4ef5f5e",
   "metadata": {
    "ExecuteTime": {
     "end_time": "2023-11-19T13:31:35.745592Z",
     "start_time": "2023-11-19T13:31:35.742313Z"
    }
   },
   "outputs": [],
   "source": [
    "# 属性多值匹配"
   ]
  },
  {
   "cell_type": "code",
   "execution_count": 46,
   "id": "96a9f3de",
   "metadata": {
    "ExecuteTime": {
     "end_time": "2023-11-19T13:34:07.547731Z",
     "start_time": "2023-11-19T13:34:07.539206Z"
    }
   },
   "outputs": [
    {
     "data": {
      "text/plain": [
       "['first item']"
      ]
     },
     "execution_count": 46,
     "metadata": {},
     "output_type": "execute_result"
    }
   ],
   "source": [
    "text = '''\n",
    "<li class=\"li li-first\"><a href=\"link.html\">first item</a></li>\n",
    "'''\n",
    "html = etree.HTML(text)\n",
    "# result = html.xpath('//li[@class=\"li\"]/a/text()')\n",
    "result = html.xpath('//li[contains(@class, \"li\")]/a/text()')\n",
    "result"
   ]
  },
  {
   "cell_type": "code",
   "execution_count": 47,
   "id": "2e512444",
   "metadata": {
    "ExecuteTime": {
     "end_time": "2023-11-19T13:35:38.767262Z",
     "start_time": "2023-11-19T13:35:38.761639Z"
    }
   },
   "outputs": [],
   "source": [
    "# 多属性匹配"
   ]
  },
  {
   "cell_type": "code",
   "execution_count": 49,
   "id": "3e27cd00",
   "metadata": {
    "ExecuteTime": {
     "end_time": "2023-11-19T13:37:09.138986Z",
     "start_time": "2023-11-19T13:37:09.132238Z"
    }
   },
   "outputs": [
    {
     "data": {
      "text/plain": [
       "['first item']"
      ]
     },
     "execution_count": 49,
     "metadata": {},
     "output_type": "execute_result"
    }
   ],
   "source": [
    "text = '''\n",
    "<li class=\"li li-first\" name=\"item\"><a href=\"link.html\">first item</a></li>\n",
    "'''\n",
    "html = etree.HTML(text)\n",
    "result = html.xpath('//li[contains(@class, \"li\") and @name=\"item\"]/a/text()')\n",
    "result"
   ]
  },
  {
   "cell_type": "code",
   "execution_count": 50,
   "id": "bc9b719c",
   "metadata": {
    "ExecuteTime": {
     "end_time": "2023-11-19T13:37:39.200280Z",
     "start_time": "2023-11-19T13:37:39.195598Z"
    }
   },
   "outputs": [],
   "source": [
    "# 按序选择"
   ]
  },
  {
   "cell_type": "code",
   "execution_count": 59,
   "id": "32987345",
   "metadata": {
    "ExecuteTime": {
     "end_time": "2023-11-19T13:42:32.746984Z",
     "start_time": "2023-11-19T13:42:32.735746Z"
    }
   },
   "outputs": [
    {
     "name": "stdout",
     "output_type": "stream",
     "text": [
      "['first item']\n",
      "['fifth item']\n",
      "['first item', 'second item']\n",
      "['third item']\n"
     ]
    }
   ],
   "source": [
    "text = '''\n",
    "<div>\n",
    "    <ul>\n",
    "         <li class=\"item-0\"><a href=\"link1.html\">first item</a></li>\n",
    "         <li class=\"item-1\"><a href=\"link2.html\">second item</a></li>\n",
    "         <li class=\"item-inactive\"><a href=\"link3.html\">third item</a></li>\n",
    "         <li class=\"item-1\"><a href=\"link4.html\">fourth item</a></li>\n",
    "         <li class=\"item-0\"><a href=\"link5.html\">fifth item</a>\n",
    "     </ul>\n",
    " </div>\n",
    "'''\n",
    "html = etree.HTML(text)\n",
    "result = html.xpath('//li[1]/a/text()')\n",
    "print(result)\n",
    "result = html.xpath('//li[last()]/a/text()')\n",
    "print(result)\n",
    "result = html.xpath('//li[position()<3]/a/text()')\n",
    "print(result)\n",
    "result = html.xpath('//li[last()-2]/a/text()')\n",
    "print(result)"
   ]
  },
  {
   "cell_type": "code",
   "execution_count": null,
   "id": "cc693139",
   "metadata": {},
   "outputs": [],
   "source": [
    "# 节点轴的选择\n",
    "'''\n",
    "\n",
    "ancestor:   祖先\n",
    "attribute:  属性值\n",
    "child:      子节点\n",
    "descendant: 子孙节点\n",
    "follwing:   当前节点之后的所有节点\n",
    "follwing-sibling: 获取当前节点之后的所有同级节点\n",
    "\n",
    "'''"
   ]
  },
  {
   "cell_type": "code",
   "execution_count": 78,
   "id": "8d4583da",
   "metadata": {
    "ExecuteTime": {
     "end_time": "2023-11-19T13:56:24.582064Z",
     "start_time": "2023-11-19T13:56:24.570102Z"
    }
   },
   "outputs": [
    {
     "name": "stdout",
     "output_type": "stream",
     "text": [
      "[<Element html at 0x15d07c580>, <Element body at 0x15ce5ef40>, <Element div at 0x15d2c78c0>, <Element ul at 0x15ce64680>]\n",
      "-------------\n",
      "[<Element div at 0x15d2c78c0>]\n",
      "-------------\n",
      "['item-0']\n",
      "-------------\n",
      "[<Element a at 0x15b3dff80>]\n",
      "-------------\n",
      "[<Element span at 0x15d296840>]\n",
      "-------------\n",
      "[<Element li at 0x15b3dff80>, <Element a at 0x15d28b4c0>, <Element li at 0x15b620840>, <Element a at 0x15ce64680>, <Element li at 0x15ce66100>, <Element a at 0x15ce66480>, <Element li at 0x15ce665c0>, <Element a at 0x15ce64300>]\n",
      "-------------\n",
      "[<Element li at 0x15b3dff80>, <Element li at 0x15b620840>, <Element li at 0x15ce66100>, <Element li at 0x15ce665c0>]\n"
     ]
    }
   ],
   "source": [
    "text = '''\n",
    "<div>\n",
    "    <ul>\n",
    "         <li class=\"item-0\"><a href=\"link1.html\"><span>first item</span></a></li>\n",
    "         <li class=\"item-1\"><a href=\"link2.html\">second item</a></li>\n",
    "         <li class=\"item-inactive\"><a href=\"link3.html\">third item</a></li>\n",
    "         <li class=\"item-1\"><a href=\"link4.html\">fourth item</a></li>\n",
    "         <li class=\"item-0\"><a href=\"link5.html\">fifth item</a>\n",
    "     </ul>\n",
    " </div>\n",
    "'''\n",
    "html = etree.HTML(text)\n",
    "result = html.xpath('//li[1]/ancestor::*')\n",
    "print(result)\n",
    "print('-------------')\n",
    "result = html.xpath('//li[1]/ancestor::div')\n",
    "print(result)\n",
    "print('-------------')\n",
    "result = html.xpath('//li[1]/attribute::*')\n",
    "print(result)\n",
    "print('-------------')\n",
    "result = html.xpath('//li[1]/child::a[@href=\"link1.html\"]')\n",
    "print(result)\n",
    "print('-------------')\n",
    "result = html.xpath('//li[1]/descendant::span')\n",
    "print(result)\n",
    "print('-------------')\n",
    "result = html.xpath('//li[1]/following::*')\n",
    "print(result)\n",
    "print('-------------')\n",
    "result = html.xpath('//li[1]/following-sibling::*')\n",
    "print(result)"
   ]
  },
  {
   "cell_type": "code",
   "execution_count": 79,
   "id": "be61c2c2",
   "metadata": {
    "ExecuteTime": {
     "end_time": "2023-11-19T14:00:06.293667Z",
     "start_time": "2023-11-19T14:00:06.284105Z"
    }
   },
   "outputs": [
    {
     "name": "stdout",
     "output_type": "stream",
     "text": [
      "<li class=\"item-1\">\n",
      "  <a href=\"link2.html\">second item</a>\n",
      "</li>\n",
      "         \n",
      "\n",
      "<a href=\"link2.html\">second item</a>\n",
      "\n",
      "<li class=\"item-inactive\">\n",
      "  <a href=\"link3.html\">third item</a>\n",
      "</li>\n",
      "         \n",
      "\n",
      "<a href=\"link3.html\">third item</a>\n",
      "\n",
      "<li class=\"item-1\">\n",
      "  <a href=\"link4.html\">fourth item</a>\n",
      "</li>\n",
      "         \n",
      "\n",
      "<a href=\"link4.html\">fourth item</a>\n",
      "\n",
      "<li class=\"item-0\"><a href=\"link5.html\">fifth item</a>\n",
      "     </li>\n",
      "\n",
      "<a href=\"link5.html\">fifth item</a>\n",
      "     \n",
      "\n"
     ]
    }
   ],
   "source": [
    "from lxml import etree\n",
    "\n",
    "text = '''\n",
    "<div>\n",
    "    <ul>\n",
    "         <li class=\"item-0\"><a href=\"link1.html\"><span>first item</span></a></li>\n",
    "         <li class=\"item-1\"><a href=\"link2.html\">second item</a></li>\n",
    "         <li class=\"item-inactive\"><a href=\"link3.html\">third item</a></li>\n",
    "         <li class=\"item-1\"><a href=\"link4.html\">fourth item</a></li>\n",
    "         <li class=\"item-0\"><a href=\"link5.html\">fifth item</a>\n",
    "     </ul>\n",
    " </div>\n",
    "'''\n",
    "\n",
    "# 使用lxml库解析HTML文本\n",
    "html = etree.HTML(text)\n",
    "\n",
    "# 选择第一个<li>元素之后的所有节点\n",
    "result = html.xpath('//li[@class=\"item-0\"][1]/following::*')\n",
    "\n",
    "# 打印结果\n",
    "for elem in result:\n",
    "    print(etree.tostring(elem, pretty_print=True, encoding='unicode'))\n"
   ]
  },
  {
   "cell_type": "code",
   "execution_count": null,
   "id": "95fa71c4",
   "metadata": {},
   "outputs": [],
   "source": []
  },
  {
   "cell_type": "code",
   "execution_count": null,
   "id": "23ef9a65",
   "metadata": {},
   "outputs": [],
   "source": []
  },
  {
   "cell_type": "code",
   "execution_count": null,
   "id": "a42d5a0a",
   "metadata": {},
   "outputs": [],
   "source": []
  },
  {
   "cell_type": "code",
   "execution_count": null,
   "id": "53e34f2a",
   "metadata": {},
   "outputs": [],
   "source": []
  },
  {
   "cell_type": "code",
   "execution_count": null,
   "id": "eb76178c",
   "metadata": {},
   "outputs": [],
   "source": []
  },
  {
   "cell_type": "code",
   "execution_count": null,
   "id": "ab96c729",
   "metadata": {},
   "outputs": [],
   "source": []
  },
  {
   "cell_type": "code",
   "execution_count": null,
   "id": "62808cb4",
   "metadata": {},
   "outputs": [],
   "source": []
  },
  {
   "cell_type": "code",
   "execution_count": null,
   "id": "e5d4576d",
   "metadata": {},
   "outputs": [],
   "source": []
  },
  {
   "cell_type": "code",
   "execution_count": null,
   "id": "8dec7ba3",
   "metadata": {},
   "outputs": [],
   "source": []
  },
  {
   "cell_type": "code",
   "execution_count": null,
   "id": "c13dcf64",
   "metadata": {},
   "outputs": [],
   "source": []
  }
 ],
 "metadata": {
  "kernelspec": {
   "display_name": "Python 3 (ipykernel)",
   "language": "python",
   "name": "python3"
  },
  "language_info": {
   "codemirror_mode": {
    "name": "ipython",
    "version": 3
   },
   "file_extension": ".py",
   "mimetype": "text/x-python",
   "name": "python",
   "nbconvert_exporter": "python",
   "pygments_lexer": "ipython3",
   "version": "3.11.4"
  },
  "toc": {
   "base_numbering": 1,
   "nav_menu": {},
   "number_sections": true,
   "sideBar": true,
   "skip_h1_title": false,
   "title_cell": "Table of Contents",
   "title_sidebar": "Contents",
   "toc_cell": false,
   "toc_position": {},
   "toc_section_display": true,
   "toc_window_display": false
  },
  "varInspector": {
   "cols": {
    "lenName": 16,
    "lenType": 16,
    "lenVar": 40
   },
   "kernels_config": {
    "python": {
     "delete_cmd_postfix": "",
     "delete_cmd_prefix": "del ",
     "library": "var_list.py",
     "varRefreshCmd": "print(var_dic_list())"
    },
    "r": {
     "delete_cmd_postfix": ") ",
     "delete_cmd_prefix": "rm(",
     "library": "var_list.r",
     "varRefreshCmd": "cat(var_dic_list()) "
    }
   },
   "types_to_exclude": [
    "module",
    "function",
    "builtin_function_or_method",
    "instance",
    "_Feature"
   ],
   "window_display": false
  }
 },
 "nbformat": 4,
 "nbformat_minor": 5
}
