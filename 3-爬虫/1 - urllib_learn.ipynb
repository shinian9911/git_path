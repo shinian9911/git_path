{
 "cells": [
  {
   "cell_type": "markdown",
   "id": "88758204",
   "metadata": {},
   "source": [
    "# 1.1 urlopen"
   ]
  },
  {
   "cell_type": "code",
   "execution_count": 1,
   "id": "32cff64a",
   "metadata": {},
   "outputs": [],
   "source": [
    "import urllib.request\n",
    "import urllib.parse\n",
    "import socket\n",
    "import urllib.error"
   ]
  },
  {
   "cell_type": "markdown",
   "id": "e96d0672",
   "metadata": {},
   "source": [
    "## 1.1.1 了解urlopen - 发送请求"
   ]
  },
  {
   "cell_type": "code",
   "execution_count": 56,
   "id": "b6a918e6",
   "metadata": {},
   "outputs": [
    {
     "name": "stdout",
     "output_type": "stream",
     "text": [
      "<class 'http.client.HTTPResponse'>\n",
      "50067\n"
     ]
    }
   ],
   "source": [
    "response = urllib.request.urlopen('https://www.python.org/')\n",
    "print(type(response))\n",
    "print(len(response.read().decode('utf-8')))"
   ]
  },
  {
   "cell_type": "code",
   "execution_count": 3,
   "id": "1145e3b7",
   "metadata": {},
   "outputs": [
    {
     "name": "stdout",
     "output_type": "stream",
     "text": [
      "200\n",
      "[('Connection', 'close'), ('Content-Length', '50071'), ('Report-To', '{\"group\":\"heroku-nel\",\"max_age\":3600,\"endpoints\":[{\"url\":\"https://nel.heroku.com/reports?ts=1698731661&sid=67ff5de4-ad2b-4112-9289-cf96be89efed&s=i%2BfDTTLz7SWng1F9ZWG8e7V4bN7jm227fieKQ9bDAXE%3D\"}]}'), ('Reporting-Endpoints', 'heroku-nel=https://nel.heroku.com/reports?ts=1698731661&sid=67ff5de4-ad2b-4112-9289-cf96be89efed&s=i%2BfDTTLz7SWng1F9ZWG8e7V4bN7jm227fieKQ9bDAXE%3D'), ('Nel', '{\"report_to\":\"heroku-nel\",\"max_age\":3600,\"success_fraction\":0.005,\"failure_fraction\":0.05,\"response_headers\":[\"Via\"]}'), ('Server', 'nginx'), ('Content-Type', 'text/html; charset=utf-8'), ('X-Frame-Options', 'SAMEORIGIN'), ('Via', '1.1 vegur, 1.1 varnish, 1.1 varnish'), ('Accept-Ranges', 'bytes'), ('Date', 'Tue, 31 Oct 2023 06:45:20 GMT'), ('Age', '3004'), ('X-Served-By', 'cache-iad-kiad7000025-IAD, cache-bur-kbur8200116-BUR'), ('X-Cache', 'HIT, HIT'), ('X-Cache-Hits', '10, 2'), ('X-Timer', 'S1698734720.106884,VS0,VE0'), ('Vary', 'Cookie'), ('Strict-Transport-Security', 'max-age=63072000; includeSubDomains; preload')]\n",
      "nginx\n"
     ]
    }
   ],
   "source": [
    "# status 查看状态码\n",
    "# getheaders 返回一个包含所有响应头信息的列表\n",
    "# getheader 获取特定响应头字段的值，例如 'Server' 头字段\n",
    "print(response.status)\n",
    "print(response.getheaders())\n",
    "print(response.getheader('Server'))"
   ]
  },
  {
   "cell_type": "markdown",
   "id": "1b85af07",
   "metadata": {},
   "source": [
    "## 1.1.2 post请求  - data参数"
   ]
  },
  {
   "cell_type": "code",
   "execution_count": 4,
   "id": "97232fcb",
   "metadata": {},
   "outputs": [
    {
     "name": "stdout",
     "output_type": "stream",
     "text": [
      "{\n",
      "  \"args\": {}, \n",
      "  \"data\": \"\", \n",
      "  \"files\": {}, \n",
      "  \"form\": {\n",
      "    \"name\": \"germy\"\n",
      "  }, \n",
      "  \"headers\": {\n",
      "    \"Accept-Encoding\": \"identity\", \n",
      "    \"Content-Length\": \"10\", \n",
      "    \"Content-Type\": \"application/x-www-form-urlencoded\", \n",
      "    \"Host\": \"www.httpbin.org\", \n",
      "    \"User-Agent\": \"Python-urllib/3.11\", \n",
      "    \"X-Amzn-Trace-Id\": \"Root=1-6540a282-133102ce28f8cb801826a25b\"\n",
      "  }, \n",
      "  \"json\": null, \n",
      "  \"origin\": \"206.189.175.168\", \n",
      "  \"url\": \"https://www.httpbin.org/post\"\n",
      "}\n",
      "\n"
     ]
    }
   ],
   "source": [
    "data = bytes(urllib.parse.urlencode({'name': 'germy'}), encoding='utf-8')\n",
    "response = urllib.request.urlopen('https://www.httpbin.org/post', data=data)\n",
    "print(response.read().decode('utf-8'))"
   ]
  },
  {
   "cell_type": "markdown",
   "id": "86bb57c1",
   "metadata": {},
   "source": [
    "## 1.1.3 get请求 - timeout参数\n",
    "\n",
    "#### 其他参数\n",
    "\n",
    "1. context 参数，该参数必须是ssl.SSLContext类型，用来指定SSL的设置\n",
    "2. cafile喝capath分别指定CA证书和其路径，这两个在请求HTTPS链接时会游泳"
   ]
  },
  {
   "cell_type": "code",
   "execution_count": 5,
   "id": "d39bdb59",
   "metadata": {},
   "outputs": [
    {
     "name": "stdout",
     "output_type": "stream",
     "text": [
      "{\n",
      "  \"args\": {}, \n",
      "  \"headers\": {\n",
      "    \"Accept-Encoding\": \"identity\", \n",
      "    \"Host\": \"www.httpbin.org\", \n",
      "    \"User-Agent\": \"Python-urllib/3.11\", \n",
      "    \"X-Amzn-Trace-Id\": \"Root=1-6540a284-700304ad194a523b3e03fed1\"\n",
      "  }, \n",
      "  \"origin\": \"206.189.175.168\", \n",
      "  \"url\": \"https://www.httpbin.org/get\"\n",
      "}\n",
      "\n"
     ]
    }
   ],
   "source": [
    "try:\n",
    "    response = urllib.request.urlopen('https://www.httpbin.org/get', timeout=5)\n",
    "    print(response.read().decode('utf-8'))\n",
    "except urllib.error.URLError as e:\n",
    "    if isinstance(e.reason, socket.timeout):\n",
    "        print('Time out')"
   ]
  },
  {
   "cell_type": "markdown",
   "id": "cf58be28",
   "metadata": {},
   "source": [
    "## 1.2 Request"
   ]
  },
  {
   "cell_type": "code",
   "execution_count": 6,
   "id": "4d783413",
   "metadata": {},
   "outputs": [],
   "source": [
    "request = urllib.request.Request('https://www.python.org/')\n",
    "response = urllib.request.urlopen(request)\n",
    "# response.read().decode('utf-8')"
   ]
  },
  {
   "cell_type": "markdown",
   "id": "f6d4ca7b",
   "metadata": {},
   "source": [
    "## 1.2.1 parse方法"
   ]
  },
  {
   "cell_type": "code",
   "execution_count": 7,
   "id": "4a107fad",
   "metadata": {},
   "outputs": [],
   "source": [
    "from urllib import request,parse"
   ]
  },
  {
   "cell_type": "code",
   "execution_count": 8,
   "id": "d07e7fe7",
   "metadata": {},
   "outputs": [
    {
     "name": "stdout",
     "output_type": "stream",
     "text": [
      "{\n",
      "  \"args\": {}, \n",
      "  \"data\": \"\", \n",
      "  \"files\": {}, \n",
      "  \"form\": {\n",
      "    \"name\": \"germy\"\n",
      "  }, \n",
      "  \"headers\": {\n",
      "    \"Accept-Encoding\": \"identity\", \n",
      "    \"Content-Length\": \"10\", \n",
      "    \"Content-Type\": \"application/x-www-form-urlencoded\", \n",
      "    \"Host\": \"www.httpbin.org\", \n",
      "    \"User-Agent\": \"Mozilla/5.0 (Windows NT 10.0; Win64; x64) AppleWebKit/537.36 (KHTML, like Gecko) Chrome/118.0.0.0 Safari/537.36\", \n",
      "    \"X-Amzn-Trace-Id\": \"Root=1-6540a286-0d7721195d5e2c204a0dd8e3\"\n",
      "  }, \n",
      "  \"json\": null, \n",
      "  \"origin\": \"206.189.175.168\", \n",
      "  \"url\": \"https://www.httpbin.org/post\"\n",
      "}\n",
      "\n"
     ]
    }
   ],
   "source": [
    "url = 'https://www.httpbin.org/post'\n",
    "headers = {'User-Agent': 'Mozilla/5.0 (Windows NT 10.0; Win64; x64) AppleWebKit/537.36 (KHTML, like Gecko) Chrome/118.0.0.0 Safari/537.36',\n",
    "           'Host': 'www.httpbin.org'}\n",
    "dict = {'name': 'germy'}\n",
    "\n",
    "# 要用bytes方法编码，对dice序列化操作\n",
    "data = bytes(parse.urlencode(dict), encoding='utf-8')\n",
    "req = request.Request(url, data=data, headers=headers, method='POST')\n",
    "response = request.urlopen(req)\n",
    "print(response.read().decode('utf-8'))"
   ]
  },
  {
   "cell_type": "markdown",
   "id": "83be3e1f",
   "metadata": {},
   "source": [
    "## 1.3 高级用法\n",
    "1. HTTPDefaultErroryand1er 用于处理HTTP响应错误，所有错误都会抛出HTTPError类型的异常\n",
    "2. HTTPRedirectHandler 用于处理重定向\n",
    "3. HTTPC00kieProcessor 用于处理Cookie\n",
    "4. ProxyHandler 用于设置代理，代理默认为空\n",
    "5. HTTPPasswordMgr 用于管理密码，它维护着用户名密码的对照表\n",
    "6. HTTPBaSiCAuthHand1er 用于管理认证，如果一个链接在打开时需要认证，那么可以用这个类来解决认证问题。"
   ]
  },
  {
   "cell_type": "markdown",
   "id": "bda9383d",
   "metadata": {},
   "source": [
    "## 1.3.1 验证"
   ]
  },
  {
   "cell_type": "code",
   "execution_count": 52,
   "id": "be550017",
   "metadata": {},
   "outputs": [],
   "source": [
    "from urllib.request import HTTPPasswordMgrWithDefaultRealm, HTTPBasicAuthHandler, build_opener\n",
    "from urllib.error import URLError"
   ]
  },
  {
   "cell_type": "code",
   "execution_count": 53,
   "id": "fbfd1c7e",
   "metadata": {},
   "outputs": [],
   "source": [
    "username = 'admin'\n",
    "password = 'admin'\n",
    "url = 'https://ssr3.scrape.center/'"
   ]
  },
  {
   "cell_type": "code",
   "execution_count": 54,
   "id": "68a46d4c",
   "metadata": {},
   "outputs": [
    {
     "name": "stdout",
     "output_type": "stream",
     "text": [
      "<html lang=\"en\">\n",
      "<head>\n",
      "  \n",
      "  <meta charset=\"utf-8\">\n",
      "  <meta http-equiv=\"X-UA-Compatible\" content=\"IE=edge\">\n",
      "  <meta name=\"viewport\" content=\"width=device-width,initial-scale=1\">\n",
      "  <link rel=\"icon\" href=\"/static/img/favicon.ico\">\n",
      "  <title>Scrape | Movie</title>\n",
      "  \n",
      "\n",
      "  <link href=\"/static/css/app.css\" type=\"text/css\" rel=\"stylesheet\">\n",
      "  \n",
      "<link href=\"/static/css/index.css\" type=\"text/css\" rel=\"stylesheet\">\n",
      "\n",
      "</head>\n",
      "<body>\n",
      "<div id=\"app\">\n",
      "  <div data-v-74e8b908=\"\" class=\"el-row\" id=\"header\">\n",
      "    <div data-v-74e8b908=\"\" class=\"container el-col el-col-18 el-col-offset-3\">\n",
      "      <div data-v-74e8b908=\"\" class=\"el-row\">\n",
      "        <div data-v-74e8b908=\"\" class=\"logo el-col el-col-4\">\n",
      "          <a data-v-74e8b908=\"\" href=\"/\" class=\"router-link-exact-active router-link-active\">\n",
      "            <img data-v-74e8b908=\"\" src=\"/static/img/logo.png\" class=\"logo-image\">\n",
      "            <span data-v-74e8b908=\"\" class=\"logo-title\">Scrape</span>\n",
      "          </a>\n",
      "        </div>\n",
      "      </div>\n",
      "    </div>\n",
      "  </div>\n",
      "  \n",
      "<div data-v-7f856186=\"\" id=\"index\">\n",
      "  <div data-v-7f856186=\"\" class=\"el-row\">\n",
      "    <div data-v-7f856186=\"\" class=\"el-col el-col-18 el-col-offset-3\">\n",
      "      \n",
      "      <div data-v-7f856186=\"\" class=\"el-card item m-t is-hover-shadow\">\n",
      "        <div class=\"el-card__body\">\n",
      "          <div data-v-7f856186=\"\" class=\"el-row\">\n",
      "            <div data-v-7f856186=\"\" class=\"el-col el-col-24 el-col-xs-8 el-col-sm-6 el-col-md-4\">\n",
      "              <a data-v-7f856186=\"\"\n",
      "                 href=\"/detail/1\"\n",
      "                 class=\"\">\n",
      "                <img\n",
      "                    data-v-7f856186=\"\"\n",
      "                    src=\"https://p0.meituan.net/movie/ce4da3e03e655b5b88ed31b5cd7896cf62472.jpg@464w_644h_1e_1c\"\n",
      "                    class=\"cover\">\n",
      "              </a>\n",
      "            </div>\n",
      "            <div data-v-7f856186=\"\" class=\"p-h el-col el-col-24 el-col-xs-9 el-col-sm-13 el-col-md-16\">\n",
      "              <a data-v-7f856186=\"\" href=\"/detail/1\" class=\"name\">\n",
      "                <h2 data-v-7f856186=\"\" class=\"m-b-sm\">霸王别姬 - Farewell My Concubine</h2>\n",
      "              </a>\n",
      "              <div data-v-7f856186=\"\" class=\"categories\">\n",
      "                \n",
      "                <button data-v-7f856186=\"\" type=\"button\"\n",
      "                        class=\"el-button category el-button--primary el-button--mini\">\n",
      "                  <span>剧情</span>\n",
      "                </button>\n",
      "                \n",
      "                <button data-v-7f856186=\"\" type=\"button\"\n",
      "                        class=\"el-button category el-button--primary el-button--mini\">\n",
      "                  <span>爱情</span>\n",
      "                </button>\n",
      "                \n",
      "              </div>\n",
      "              <div data-v-7f856186=\"\" class=\"m-v-sm info\">\n",
      "                <span data-v-7f856186=\"\">中国内地、中国香港</span>\n",
      "                <span data-v-7f856186=\"\"> / </span>\n",
      "                <span data-v-7f856186=\"\">171 分钟</span>\n",
      "              </div>\n",
      "              <div data-v-7f856186=\"\" class=\"m-v-sm info\">\n",
      "                \n",
      "                <span data-v-7f856186=\"\">1993-07-26 上映</span>\n",
      "                \n",
      "              </div>\n",
      "            </div>\n",
      "            <div data-v-7f856186=\"\" class=\"el-col el-col-24 el-col-xs-5 el-col-sm-5 el-col-md-4\">\n",
      "              <p data-v-7f856186=\"\"\n",
      "                 class=\"score m-t-md m-b-n-sm\">\n",
      "                9.5</p>\n",
      "              <p data-v-7f856186=\"\">\n",
      "              <div data-v-7f856186=\"\" role=\"slider\" aria-valuenow=\"4.75\" aria-valuetext=\"\" aria-valuemin=\"0\"\n",
      "                   aria-valuemax=\"5\" tabindex=\"0\" class=\"el-rate\">\n",
      "                \n",
      "                <span class=\"el-rate__item\" style=\"cursor: auto;\"><i\n",
      "                    class=\"el-rate__icon el-icon-star-on\" style=\"color: rgb(247, 186, 42);\"></i>\n",
      "                </span>\n",
      "                \n",
      "                <span class=\"el-rate__item\" style=\"cursor: auto;\"><i\n",
      "                    class=\"el-rate__icon el-icon-star-on\" style=\"color: rgb(247, 186, 42);\"></i>\n",
      "                </span>\n",
      "                \n",
      "                <span class=\"el-rate__item\" style=\"cursor: auto;\"><i\n",
      "                    class=\"el-rate__icon el-icon-star-on\" style=\"color: rgb(247, 186, 42);\"></i>\n",
      "                </span>\n",
      "                \n",
      "                <span class=\"el-rate__item\" style=\"cursor: auto;\"><i\n",
      "                    class=\"el-rate__icon el-icon-star-on\" style=\"color: rgb(247, 186, 42);\"></i>\n",
      "                </span>\n",
      "                \n",
      "                <span\n",
      "                    class=\"el-rate__item\" style=\"cursor: auto;\"><i class=\"el-rate__icon el-icon-star-on\"\n",
      "                                                                   style=\"color: rgb(239, 242, 247);\"><i\n",
      "                    class=\"el-rate__decimal el-icon-star-on\"\n",
      "                    style=\"color: rgb(247, 186, 42); width: 75.0%;\"></i></i>\n",
      "                </span>\n",
      "              </div>\n",
      "              </p></div>\n",
      "          </div>\n",
      "        </div>\n",
      "      </div>\n",
      "      \n",
      "      <div data-v-7f856186=\"\" class=\"el-card item m-t is-hover-shadow\">\n",
      "        <div class=\"el-card__body\">\n",
      "          <div data-v-7f856186=\"\" class=\"el-row\">\n",
      "            <div data-v-7f856186=\"\" class=\"el-col el-col-24 el-col-xs-8 el-col-sm-6 el-col-md-4\">\n",
      "              <a data-v-7f856186=\"\"\n",
      "                 href=\"/detail/2\"\n",
      "                 class=\"\">\n",
      "                <img\n",
      "                    data-v-7f856186=\"\"\n",
      "                    src=\"https://p1.meituan.net/movie/6bea9af4524dfbd0b668eaa7e187c3df767253.jpg@464w_644h_1e_1c\"\n",
      "                    class=\"cover\">\n",
      "              </a>\n",
      "            </div>\n",
      "            <div data-v-7f856186=\"\" class=\"p-h el-col el-col-24 el-col-xs-9 el-col-sm-13 el-col-md-16\">\n",
      "              <a data-v-7f856186=\"\" href=\"/detail/2\" class=\"name\">\n",
      "                <h2 data-v-7f856186=\"\" class=\"m-b-sm\">这个杀手不太冷 - Léon</h2>\n",
      "              </a>\n",
      "              <div data-v-7f856186=\"\" class=\"categories\">\n",
      "                \n",
      "                <button data-v-7f856186=\"\" type=\"button\"\n",
      "                        class=\"el-button category el-button--primary el-button--mini\">\n",
      "                  <span>剧情</span>\n",
      "                </button>\n",
      "                \n",
      "                <button data-v-7f856186=\"\" type=\"button\"\n",
      "                        class=\"el-button category el-button--primary el-button--mini\">\n",
      "                  <span>动作</span>\n",
      "                </button>\n",
      "                \n",
      "                <button data-v-7f856186=\"\" type=\"button\"\n",
      "                        class=\"el-button category el-button--primary el-button--mini\">\n",
      "                  <span>犯罪</span>\n",
      "                </button>\n",
      "                \n",
      "              </div>\n",
      "              <div data-v-7f856186=\"\" class=\"m-v-sm info\">\n",
      "                <span data-v-7f856186=\"\">法国</span>\n",
      "                <span data-v-7f856186=\"\"> / </span>\n",
      "                <span data-v-7f856186=\"\">110 分钟</span>\n",
      "              </div>\n",
      "              <div data-v-7f856186=\"\" class=\"m-v-sm info\">\n",
      "                \n",
      "                <span data-v-7f856186=\"\">1994-09-14 上映</span>\n",
      "                \n",
      "              </div>\n",
      "            </div>\n",
      "            <div data-v-7f856186=\"\" class=\"el-col el-col-24 el-col-xs-5 el-col-sm-5 el-col-md-4\">\n",
      "              <p data-v-7f856186=\"\"\n",
      "                 class=\"score m-t-md m-b-n-sm\">\n",
      "                9.5</p>\n",
      "              <p data-v-7f856186=\"\">\n",
      "              <div data-v-7f856186=\"\" role=\"slider\" aria-valuenow=\"4.75\" aria-valuetext=\"\" aria-valuemin=\"0\"\n",
      "                   aria-valuemax=\"5\" tabindex=\"0\" class=\"el-rate\">\n",
      "                \n",
      "                <span class=\"el-rate__item\" style=\"cursor: auto;\"><i\n",
      "                    class=\"el-rate__icon el-icon-star-on\" style=\"color: rgb(247, 186, 42);\"></i>\n",
      "                </span>\n",
      "                \n",
      "                <span class=\"el-rate__item\" style=\"cursor: auto;\"><i\n",
      "                    class=\"el-rate__icon el-icon-star-on\" style=\"color: rgb(247, 186, 42);\"></i>\n",
      "                </span>\n",
      "                \n",
      "                <span class=\"el-rate__item\" style=\"cursor: auto;\"><i\n",
      "                    class=\"el-rate__icon el-icon-star-on\" style=\"color: rgb(247, 186, 42);\"></i>\n",
      "                </span>\n",
      "                \n",
      "                <span class=\"el-rate__item\" style=\"cursor: auto;\"><i\n",
      "                    class=\"el-rate__icon el-icon-star-on\" style=\"color: rgb(247, 186, 42);\"></i>\n",
      "                </span>\n",
      "                \n",
      "                <span\n",
      "                    class=\"el-rate__item\" style=\"cursor: auto;\"><i class=\"el-rate__icon el-icon-star-on\"\n",
      "                                                                   style=\"color: rgb(239, 242, 247);\"><i\n",
      "                    class=\"el-rate__decimal el-icon-star-on\"\n",
      "                    style=\"color: rgb(247, 186, 42); width: 75.0%;\"></i></i>\n",
      "                </span>\n",
      "              </div>\n",
      "              </p></div>\n",
      "          </div>\n",
      "        </div>\n",
      "      </div>\n",
      "      \n",
      "      <div data-v-7f856186=\"\" class=\"el-card item m-t is-hover-shadow\">\n",
      "        <div class=\"el-card__body\">\n",
      "          <div data-v-7f856186=\"\" class=\"el-row\">\n",
      "            <div data-v-7f856186=\"\" class=\"el-col el-col-24 el-col-xs-8 el-col-sm-6 el-col-md-4\">\n",
      "              <a data-v-7f856186=\"\"\n",
      "                 href=\"/detail/3\"\n",
      "                 class=\"\">\n",
      "                <img\n",
      "                    data-v-7f856186=\"\"\n",
      "                    src=\"https://p0.meituan.net/movie/283292171619cdfd5b240c8fd093f1eb255670.jpg@464w_644h_1e_1c\"\n",
      "                    class=\"cover\">\n",
      "              </a>\n",
      "            </div>\n",
      "            <div data-v-7f856186=\"\" class=\"p-h el-col el-col-24 el-col-xs-9 el-col-sm-13 el-col-md-16\">\n",
      "              <a data-v-7f856186=\"\" href=\"/detail/3\" class=\"name\">\n",
      "                <h2 data-v-7f856186=\"\" class=\"m-b-sm\">肖申克的救赎 - The Shawshank Redemption</h2>\n",
      "              </a>\n",
      "              <div data-v-7f856186=\"\" class=\"categories\">\n",
      "                \n",
      "                <button data-v-7f856186=\"\" type=\"button\"\n",
      "                        class=\"el-button category el-button--primary el-button--mini\">\n",
      "                  <span>剧情</span>\n",
      "                </button>\n",
      "                \n",
      "                <button data-v-7f856186=\"\" type=\"button\"\n",
      "                        class=\"el-button category el-button--primary el-button--mini\">\n",
      "                  <span>犯罪</span>\n",
      "                </button>\n",
      "                \n",
      "              </div>\n",
      "              <div data-v-7f856186=\"\" class=\"m-v-sm info\">\n",
      "                <span data-v-7f856186=\"\">美国</span>\n",
      "                <span data-v-7f856186=\"\"> / </span>\n",
      "                <span data-v-7f856186=\"\">142 分钟</span>\n",
      "              </div>\n",
      "              <div data-v-7f856186=\"\" class=\"m-v-sm info\">\n",
      "                \n",
      "                <span data-v-7f856186=\"\">1994-09-10 上映</span>\n",
      "                \n",
      "              </div>\n",
      "            </div>\n",
      "            <div data-v-7f856186=\"\" class=\"el-col el-col-24 el-col-xs-5 el-col-sm-5 el-col-md-4\">\n",
      "              <p data-v-7f856186=\"\"\n",
      "                 class=\"score m-t-md m-b-n-sm\">\n",
      "                9.5</p>\n",
      "              <p data-v-7f856186=\"\">\n",
      "              <div data-v-7f856186=\"\" role=\"slider\" aria-valuenow=\"4.75\" aria-valuetext=\"\" aria-valuemin=\"0\"\n",
      "                   aria-valuemax=\"5\" tabindex=\"0\" class=\"el-rate\">\n",
      "                \n",
      "                <span class=\"el-rate__item\" style=\"cursor: auto;\"><i\n",
      "                    class=\"el-rate__icon el-icon-star-on\" style=\"color: rgb(247, 186, 42);\"></i>\n",
      "                </span>\n",
      "                \n",
      "                <span class=\"el-rate__item\" style=\"cursor: auto;\"><i\n",
      "                    class=\"el-rate__icon el-icon-star-on\" style=\"color: rgb(247, 186, 42);\"></i>\n",
      "                </span>\n",
      "                \n",
      "                <span class=\"el-rate__item\" style=\"cursor: auto;\"><i\n",
      "                    class=\"el-rate__icon el-icon-star-on\" style=\"color: rgb(247, 186, 42);\"></i>\n",
      "                </span>\n",
      "                \n",
      "                <span class=\"el-rate__item\" style=\"cursor: auto;\"><i\n",
      "                    class=\"el-rate__icon el-icon-star-on\" style=\"color: rgb(247, 186, 42);\"></i>\n",
      "                </span>\n",
      "                \n",
      "                <span\n",
      "                    class=\"el-rate__item\" style=\"cursor: auto;\"><i class=\"el-rate__icon el-icon-star-on\"\n",
      "                                                                   style=\"color: rgb(239, 242, 247);\"><i\n",
      "                    class=\"el-rate__decimal el-icon-star-on\"\n",
      "                    style=\"color: rgb(247, 186, 42); width: 75.0%;\"></i></i>\n",
      "                </span>\n",
      "              </div>\n",
      "              </p></div>\n",
      "          </div>\n",
      "        </div>\n",
      "      </div>\n",
      "      \n",
      "      <div data-v-7f856186=\"\" class=\"el-card item m-t is-hover-shadow\">\n",
      "        <div class=\"el-card__body\">\n",
      "          <div data-v-7f856186=\"\" class=\"el-row\">\n",
      "            <div data-v-7f856186=\"\" class=\"el-col el-col-24 el-col-xs-8 el-col-sm-6 el-col-md-4\">\n",
      "              <a data-v-7f856186=\"\"\n",
      "                 href=\"/detail/4\"\n",
      "                 class=\"\">\n",
      "                <img\n",
      "                    data-v-7f856186=\"\"\n",
      "                    src=\"https://p1.meituan.net/movie/b607fba7513e7f15eab170aac1e1400d878112.jpg@464w_644h_1e_1c\"\n",
      "                    class=\"cover\">\n",
      "              </a>\n",
      "            </div>\n",
      "            <div data-v-7f856186=\"\" class=\"p-h el-col el-col-24 el-col-xs-9 el-col-sm-13 el-col-md-16\">\n",
      "              <a data-v-7f856186=\"\" href=\"/detail/4\" class=\"name\">\n",
      "                <h2 data-v-7f856186=\"\" class=\"m-b-sm\">泰坦尼克号 - Titanic</h2>\n",
      "              </a>\n",
      "              <div data-v-7f856186=\"\" class=\"categories\">\n",
      "                \n",
      "                <button data-v-7f856186=\"\" type=\"button\"\n",
      "                        class=\"el-button category el-button--primary el-button--mini\">\n",
      "                  <span>剧情</span>\n",
      "                </button>\n",
      "                \n",
      "                <button data-v-7f856186=\"\" type=\"button\"\n",
      "                        class=\"el-button category el-button--primary el-button--mini\">\n",
      "                  <span>爱情</span>\n",
      "                </button>\n",
      "                \n",
      "                <button data-v-7f856186=\"\" type=\"button\"\n",
      "                        class=\"el-button category el-button--primary el-button--mini\">\n",
      "                  <span>灾难</span>\n",
      "                </button>\n",
      "                \n",
      "              </div>\n",
      "              <div data-v-7f856186=\"\" class=\"m-v-sm info\">\n",
      "                <span data-v-7f856186=\"\">美国</span>\n",
      "                <span data-v-7f856186=\"\"> / </span>\n",
      "                <span data-v-7f856186=\"\">194 分钟</span>\n",
      "              </div>\n",
      "              <div data-v-7f856186=\"\" class=\"m-v-sm info\">\n",
      "                \n",
      "                <span data-v-7f856186=\"\">1998-04-03 上映</span>\n",
      "                \n",
      "              </div>\n",
      "            </div>\n",
      "            <div data-v-7f856186=\"\" class=\"el-col el-col-24 el-col-xs-5 el-col-sm-5 el-col-md-4\">\n",
      "              <p data-v-7f856186=\"\"\n",
      "                 class=\"score m-t-md m-b-n-sm\">\n",
      "                9.5</p>\n",
      "              <p data-v-7f856186=\"\">\n",
      "              <div data-v-7f856186=\"\" role=\"slider\" aria-valuenow=\"4.75\" aria-valuetext=\"\" aria-valuemin=\"0\"\n",
      "                   aria-valuemax=\"5\" tabindex=\"0\" class=\"el-rate\">\n",
      "                \n",
      "                <span class=\"el-rate__item\" style=\"cursor: auto;\"><i\n",
      "                    class=\"el-rate__icon el-icon-star-on\" style=\"color: rgb(247, 186, 42);\"></i>\n",
      "                </span>\n",
      "                \n",
      "                <span class=\"el-rate__item\" style=\"cursor: auto;\"><i\n",
      "                    class=\"el-rate__icon el-icon-star-on\" style=\"color: rgb(247, 186, 42);\"></i>\n",
      "                </span>\n",
      "                \n",
      "                <span class=\"el-rate__item\" style=\"cursor: auto;\"><i\n",
      "                    class=\"el-rate__icon el-icon-star-on\" style=\"color: rgb(247, 186, 42);\"></i>\n",
      "                </span>\n",
      "                \n",
      "                <span class=\"el-rate__item\" style=\"cursor: auto;\"><i\n",
      "                    class=\"el-rate__icon el-icon-star-on\" style=\"color: rgb(247, 186, 42);\"></i>\n",
      "                </span>\n",
      "                \n",
      "                <span\n",
      "                    class=\"el-rate__item\" style=\"cursor: auto;\"><i class=\"el-rate__icon el-icon-star-on\"\n",
      "                                                                   style=\"color: rgb(239, 242, 247);\"><i\n",
      "                    class=\"el-rate__decimal el-icon-star-on\"\n",
      "                    style=\"color: rgb(247, 186, 42); width: 75.0%;\"></i></i>\n",
      "                </span>\n",
      "              </div>\n",
      "              </p></div>\n",
      "          </div>\n",
      "        </div>\n",
      "      </div>\n",
      "      \n",
      "      <div data-v-7f856186=\"\" class=\"el-card item m-t is-hover-shadow\">\n",
      "        <div class=\"el-card__body\">\n",
      "          <div data-v-7f856186=\"\" class=\"el-row\">\n",
      "            <div data-v-7f856186=\"\" class=\"el-col el-col-24 el-col-xs-8 el-col-sm-6 el-col-md-4\">\n",
      "              <a data-v-7f856186=\"\"\n",
      "                 href=\"/detail/5\"\n",
      "                 class=\"\">\n",
      "                <img\n",
      "                    data-v-7f856186=\"\"\n",
      "                    src=\"https://p0.meituan.net/movie/289f98ceaa8a0ae737d3dc01cd05ab052213631.jpg@464w_644h_1e_1c\"\n",
      "                    class=\"cover\">\n",
      "              </a>\n",
      "            </div>\n",
      "            <div data-v-7f856186=\"\" class=\"p-h el-col el-col-24 el-col-xs-9 el-col-sm-13 el-col-md-16\">\n",
      "              <a data-v-7f856186=\"\" href=\"/detail/5\" class=\"name\">\n",
      "                <h2 data-v-7f856186=\"\" class=\"m-b-sm\">罗马假日 - Roman Holiday</h2>\n",
      "              </a>\n",
      "              <div data-v-7f856186=\"\" class=\"categories\">\n",
      "                \n",
      "                <button data-v-7f856186=\"\" type=\"button\"\n",
      "                        class=\"el-button category el-button--primary el-button--mini\">\n",
      "                  <span>剧情</span>\n",
      "                </button>\n",
      "                \n",
      "                <button data-v-7f856186=\"\" type=\"button\"\n",
      "                        class=\"el-button category el-button--primary el-button--mini\">\n",
      "                  <span>喜剧</span>\n",
      "                </button>\n",
      "                \n",
      "                <button data-v-7f856186=\"\" type=\"button\"\n",
      "                        class=\"el-button category el-button--primary el-button--mini\">\n",
      "                  <span>爱情</span>\n",
      "                </button>\n",
      "                \n",
      "              </div>\n",
      "              <div data-v-7f856186=\"\" class=\"m-v-sm info\">\n",
      "                <span data-v-7f856186=\"\">美国</span>\n",
      "                <span data-v-7f856186=\"\"> / </span>\n",
      "                <span data-v-7f856186=\"\">118 分钟</span>\n",
      "              </div>\n",
      "              <div data-v-7f856186=\"\" class=\"m-v-sm info\">\n",
      "                \n",
      "                <span data-v-7f856186=\"\">1953-08-20 上映</span>\n",
      "                \n",
      "              </div>\n",
      "            </div>\n",
      "            <div data-v-7f856186=\"\" class=\"el-col el-col-24 el-col-xs-5 el-col-sm-5 el-col-md-4\">\n",
      "              <p data-v-7f856186=\"\"\n",
      "                 class=\"score m-t-md m-b-n-sm\">\n",
      "                9.5</p>\n",
      "              <p data-v-7f856186=\"\">\n",
      "              <div data-v-7f856186=\"\" role=\"slider\" aria-valuenow=\"4.75\" aria-valuetext=\"\" aria-valuemin=\"0\"\n",
      "                   aria-valuemax=\"5\" tabindex=\"0\" class=\"el-rate\">\n",
      "                \n",
      "                <span class=\"el-rate__item\" style=\"cursor: auto;\"><i\n",
      "                    class=\"el-rate__icon el-icon-star-on\" style=\"color: rgb(247, 186, 42);\"></i>\n",
      "                </span>\n",
      "                \n",
      "                <span class=\"el-rate__item\" style=\"cursor: auto;\"><i\n",
      "                    class=\"el-rate__icon el-icon-star-on\" style=\"color: rgb(247, 186, 42);\"></i>\n",
      "                </span>\n",
      "                \n",
      "                <span class=\"el-rate__item\" style=\"cursor: auto;\"><i\n",
      "                    class=\"el-rate__icon el-icon-star-on\" style=\"color: rgb(247, 186, 42);\"></i>\n",
      "                </span>\n",
      "                \n",
      "                <span class=\"el-rate__item\" style=\"cursor: auto;\"><i\n",
      "                    class=\"el-rate__icon el-icon-star-on\" style=\"color: rgb(247, 186, 42);\"></i>\n",
      "                </span>\n",
      "                \n",
      "                <span\n",
      "                    class=\"el-rate__item\" style=\"cursor: auto;\"><i class=\"el-rate__icon el-icon-star-on\"\n",
      "                                                                   style=\"color: rgb(239, 242, 247);\"><i\n",
      "                    class=\"el-rate__decimal el-icon-star-on\"\n",
      "                    style=\"color: rgb(247, 186, 42); width: 75.0%;\"></i></i>\n",
      "                </span>\n",
      "              </div>\n",
      "              </p></div>\n",
      "          </div>\n",
      "        </div>\n",
      "      </div>\n",
      "      \n",
      "      <div data-v-7f856186=\"\" class=\"el-card item m-t is-hover-shadow\">\n",
      "        <div class=\"el-card__body\">\n",
      "          <div data-v-7f856186=\"\" class=\"el-row\">\n",
      "            <div data-v-7f856186=\"\" class=\"el-col el-col-24 el-col-xs-8 el-col-sm-6 el-col-md-4\">\n",
      "              <a data-v-7f856186=\"\"\n",
      "                 href=\"/detail/6\"\n",
      "                 class=\"\">\n",
      "                <img\n",
      "                    data-v-7f856186=\"\"\n",
      "                    src=\"https://p0.meituan.net/movie/da64660f82b98cdc1b8a3804e69609e041108.jpg@464w_644h_1e_1c\"\n",
      "                    class=\"cover\">\n",
      "              </a>\n",
      "            </div>\n",
      "            <div data-v-7f856186=\"\" class=\"p-h el-col el-col-24 el-col-xs-9 el-col-sm-13 el-col-md-16\">\n",
      "              <a data-v-7f856186=\"\" href=\"/detail/6\" class=\"name\">\n",
      "                <h2 data-v-7f856186=\"\" class=\"m-b-sm\">唐伯虎点秋香 - Flirting Scholar</h2>\n",
      "              </a>\n",
      "              <div data-v-7f856186=\"\" class=\"categories\">\n",
      "                \n",
      "                <button data-v-7f856186=\"\" type=\"button\"\n",
      "                        class=\"el-button category el-button--primary el-button--mini\">\n",
      "                  <span>喜剧</span>\n",
      "                </button>\n",
      "                \n",
      "                <button data-v-7f856186=\"\" type=\"button\"\n",
      "                        class=\"el-button category el-button--primary el-button--mini\">\n",
      "                  <span>爱情</span>\n",
      "                </button>\n",
      "                \n",
      "                <button data-v-7f856186=\"\" type=\"button\"\n",
      "                        class=\"el-button category el-button--primary el-button--mini\">\n",
      "                  <span>古装</span>\n",
      "                </button>\n",
      "                \n",
      "              </div>\n",
      "              <div data-v-7f856186=\"\" class=\"m-v-sm info\">\n",
      "                <span data-v-7f856186=\"\">中国香港</span>\n",
      "                <span data-v-7f856186=\"\"> / </span>\n",
      "                <span data-v-7f856186=\"\">102 分钟</span>\n",
      "              </div>\n",
      "              <div data-v-7f856186=\"\" class=\"m-v-sm info\">\n",
      "                \n",
      "                <span data-v-7f856186=\"\">1993-07-01 上映</span>\n",
      "                \n",
      "              </div>\n",
      "            </div>\n",
      "            <div data-v-7f856186=\"\" class=\"el-col el-col-24 el-col-xs-5 el-col-sm-5 el-col-md-4\">\n",
      "              <p data-v-7f856186=\"\"\n",
      "                 class=\"score m-t-md m-b-n-sm\">\n",
      "                9.5</p>\n",
      "              <p data-v-7f856186=\"\">\n",
      "              <div data-v-7f856186=\"\" role=\"slider\" aria-valuenow=\"4.75\" aria-valuetext=\"\" aria-valuemin=\"0\"\n",
      "                   aria-valuemax=\"5\" tabindex=\"0\" class=\"el-rate\">\n",
      "                \n",
      "                <span class=\"el-rate__item\" style=\"cursor: auto;\"><i\n",
      "                    class=\"el-rate__icon el-icon-star-on\" style=\"color: rgb(247, 186, 42);\"></i>\n",
      "                </span>\n",
      "                \n",
      "                <span class=\"el-rate__item\" style=\"cursor: auto;\"><i\n",
      "                    class=\"el-rate__icon el-icon-star-on\" style=\"color: rgb(247, 186, 42);\"></i>\n",
      "                </span>\n",
      "                \n",
      "                <span class=\"el-rate__item\" style=\"cursor: auto;\"><i\n",
      "                    class=\"el-rate__icon el-icon-star-on\" style=\"color: rgb(247, 186, 42);\"></i>\n",
      "                </span>\n",
      "                \n",
      "                <span class=\"el-rate__item\" style=\"cursor: auto;\"><i\n",
      "                    class=\"el-rate__icon el-icon-star-on\" style=\"color: rgb(247, 186, 42);\"></i>\n",
      "                </span>\n",
      "                \n",
      "                <span\n",
      "                    class=\"el-rate__item\" style=\"cursor: auto;\"><i class=\"el-rate__icon el-icon-star-on\"\n",
      "                                                                   style=\"color: rgb(239, 242, 247);\"><i\n",
      "                    class=\"el-rate__decimal el-icon-star-on\"\n",
      "                    style=\"color: rgb(247, 186, 42); width: 75.0%;\"></i></i>\n",
      "                </span>\n",
      "              </div>\n",
      "              </p></div>\n",
      "          </div>\n",
      "        </div>\n",
      "      </div>\n",
      "      \n",
      "      <div data-v-7f856186=\"\" class=\"el-card item m-t is-hover-shadow\">\n",
      "        <div class=\"el-card__body\">\n",
      "          <div data-v-7f856186=\"\" class=\"el-row\">\n",
      "            <div data-v-7f856186=\"\" class=\"el-col el-col-24 el-col-xs-8 el-col-sm-6 el-col-md-4\">\n",
      "              <a data-v-7f856186=\"\"\n",
      "                 href=\"/detail/7\"\n",
      "                 class=\"\">\n",
      "                <img\n",
      "                    data-v-7f856186=\"\"\n",
      "                    src=\"https://p0.meituan.net/movie/223c3e186db3ab4ea3bb14508c709400427933.jpg@464w_644h_1e_1c\"\n",
      "                    class=\"cover\">\n",
      "              </a>\n",
      "            </div>\n",
      "            <div data-v-7f856186=\"\" class=\"p-h el-col el-col-24 el-col-xs-9 el-col-sm-13 el-col-md-16\">\n",
      "              <a data-v-7f856186=\"\" href=\"/detail/7\" class=\"name\">\n",
      "                <h2 data-v-7f856186=\"\" class=\"m-b-sm\">乱世佳人 - Gone with the Wind</h2>\n",
      "              </a>\n",
      "              <div data-v-7f856186=\"\" class=\"categories\">\n",
      "                \n",
      "                <button data-v-7f856186=\"\" type=\"button\"\n",
      "                        class=\"el-button category el-button--primary el-button--mini\">\n",
      "                  <span>剧情</span>\n",
      "                </button>\n",
      "                \n",
      "                <button data-v-7f856186=\"\" type=\"button\"\n",
      "                        class=\"el-button category el-button--primary el-button--mini\">\n",
      "                  <span>爱情</span>\n",
      "                </button>\n",
      "                \n",
      "                <button data-v-7f856186=\"\" type=\"button\"\n",
      "                        class=\"el-button category el-button--primary el-button--mini\">\n",
      "                  <span>历史</span>\n",
      "                </button>\n",
      "                \n",
      "                <button data-v-7f856186=\"\" type=\"button\"\n",
      "                        class=\"el-button category el-button--primary el-button--mini\">\n",
      "                  <span>战争</span>\n",
      "                </button>\n",
      "                \n",
      "              </div>\n",
      "              <div data-v-7f856186=\"\" class=\"m-v-sm info\">\n",
      "                <span data-v-7f856186=\"\">美国</span>\n",
      "                <span data-v-7f856186=\"\"> / </span>\n",
      "                <span data-v-7f856186=\"\">238 分钟</span>\n",
      "              </div>\n",
      "              <div data-v-7f856186=\"\" class=\"m-v-sm info\">\n",
      "                \n",
      "                <span data-v-7f856186=\"\">1939-12-15 上映</span>\n",
      "                \n",
      "              </div>\n",
      "            </div>\n",
      "            <div data-v-7f856186=\"\" class=\"el-col el-col-24 el-col-xs-5 el-col-sm-5 el-col-md-4\">\n",
      "              <p data-v-7f856186=\"\"\n",
      "                 class=\"score m-t-md m-b-n-sm\">\n",
      "                9.5</p>\n",
      "              <p data-v-7f856186=\"\">\n",
      "              <div data-v-7f856186=\"\" role=\"slider\" aria-valuenow=\"4.75\" aria-valuetext=\"\" aria-valuemin=\"0\"\n",
      "                   aria-valuemax=\"5\" tabindex=\"0\" class=\"el-rate\">\n",
      "                \n",
      "                <span class=\"el-rate__item\" style=\"cursor: auto;\"><i\n",
      "                    class=\"el-rate__icon el-icon-star-on\" style=\"color: rgb(247, 186, 42);\"></i>\n",
      "                </span>\n",
      "                \n",
      "                <span class=\"el-rate__item\" style=\"cursor: auto;\"><i\n",
      "                    class=\"el-rate__icon el-icon-star-on\" style=\"color: rgb(247, 186, 42);\"></i>\n",
      "                </span>\n",
      "                \n",
      "                <span class=\"el-rate__item\" style=\"cursor: auto;\"><i\n",
      "                    class=\"el-rate__icon el-icon-star-on\" style=\"color: rgb(247, 186, 42);\"></i>\n",
      "                </span>\n",
      "                \n",
      "                <span class=\"el-rate__item\" style=\"cursor: auto;\"><i\n",
      "                    class=\"el-rate__icon el-icon-star-on\" style=\"color: rgb(247, 186, 42);\"></i>\n",
      "                </span>\n",
      "                \n",
      "                <span\n",
      "                    class=\"el-rate__item\" style=\"cursor: auto;\"><i class=\"el-rate__icon el-icon-star-on\"\n",
      "                                                                   style=\"color: rgb(239, 242, 247);\"><i\n",
      "                    class=\"el-rate__decimal el-icon-star-on\"\n",
      "                    style=\"color: rgb(247, 186, 42); width: 75.0%;\"></i></i>\n",
      "                </span>\n",
      "              </div>\n",
      "              </p></div>\n",
      "          </div>\n",
      "        </div>\n",
      "      </div>\n",
      "      \n",
      "      <div data-v-7f856186=\"\" class=\"el-card item m-t is-hover-shadow\">\n",
      "        <div class=\"el-card__body\">\n",
      "          <div data-v-7f856186=\"\" class=\"el-row\">\n",
      "            <div data-v-7f856186=\"\" class=\"el-col el-col-24 el-col-xs-8 el-col-sm-6 el-col-md-4\">\n",
      "              <a data-v-7f856186=\"\"\n",
      "                 href=\"/detail/8\"\n",
      "                 class=\"\">\n",
      "                <img\n",
      "                    data-v-7f856186=\"\"\n",
      "                    src=\"https://p0.meituan.net/movie/1f0d671f6a37f9d7b015e4682b8b113e174332.jpg@464w_644h_1e_1c\"\n",
      "                    class=\"cover\">\n",
      "              </a>\n",
      "            </div>\n",
      "            <div data-v-7f856186=\"\" class=\"p-h el-col el-col-24 el-col-xs-9 el-col-sm-13 el-col-md-16\">\n",
      "              <a data-v-7f856186=\"\" href=\"/detail/8\" class=\"name\">\n",
      "                <h2 data-v-7f856186=\"\" class=\"m-b-sm\">喜剧之王 - The King of Comedy</h2>\n",
      "              </a>\n",
      "              <div data-v-7f856186=\"\" class=\"categories\">\n",
      "                \n",
      "                <button data-v-7f856186=\"\" type=\"button\"\n",
      "                        class=\"el-button category el-button--primary el-button--mini\">\n",
      "                  <span>剧情</span>\n",
      "                </button>\n",
      "                \n",
      "                <button data-v-7f856186=\"\" type=\"button\"\n",
      "                        class=\"el-button category el-button--primary el-button--mini\">\n",
      "                  <span>喜剧</span>\n",
      "                </button>\n",
      "                \n",
      "                <button data-v-7f856186=\"\" type=\"button\"\n",
      "                        class=\"el-button category el-button--primary el-button--mini\">\n",
      "                  <span>爱情</span>\n",
      "                </button>\n",
      "                \n",
      "              </div>\n",
      "              <div data-v-7f856186=\"\" class=\"m-v-sm info\">\n",
      "                <span data-v-7f856186=\"\">中国香港</span>\n",
      "                <span data-v-7f856186=\"\"> / </span>\n",
      "                <span data-v-7f856186=\"\">85 分钟</span>\n",
      "              </div>\n",
      "              <div data-v-7f856186=\"\" class=\"m-v-sm info\">\n",
      "                \n",
      "                <span data-v-7f856186=\"\">1999-02-13 上映</span>\n",
      "                \n",
      "              </div>\n",
      "            </div>\n",
      "            <div data-v-7f856186=\"\" class=\"el-col el-col-24 el-col-xs-5 el-col-sm-5 el-col-md-4\">\n",
      "              <p data-v-7f856186=\"\"\n",
      "                 class=\"score m-t-md m-b-n-sm\">\n",
      "                9.5</p>\n",
      "              <p data-v-7f856186=\"\">\n",
      "              <div data-v-7f856186=\"\" role=\"slider\" aria-valuenow=\"4.75\" aria-valuetext=\"\" aria-valuemin=\"0\"\n",
      "                   aria-valuemax=\"5\" tabindex=\"0\" class=\"el-rate\">\n",
      "                \n",
      "                <span class=\"el-rate__item\" style=\"cursor: auto;\"><i\n",
      "                    class=\"el-rate__icon el-icon-star-on\" style=\"color: rgb(247, 186, 42);\"></i>\n",
      "                </span>\n",
      "                \n",
      "                <span class=\"el-rate__item\" style=\"cursor: auto;\"><i\n",
      "                    class=\"el-rate__icon el-icon-star-on\" style=\"color: rgb(247, 186, 42);\"></i>\n",
      "                </span>\n",
      "                \n",
      "                <span class=\"el-rate__item\" style=\"cursor: auto;\"><i\n",
      "                    class=\"el-rate__icon el-icon-star-on\" style=\"color: rgb(247, 186, 42);\"></i>\n",
      "                </span>\n",
      "                \n",
      "                <span class=\"el-rate__item\" style=\"cursor: auto;\"><i\n",
      "                    class=\"el-rate__icon el-icon-star-on\" style=\"color: rgb(247, 186, 42);\"></i>\n",
      "                </span>\n",
      "                \n",
      "                <span\n",
      "                    class=\"el-rate__item\" style=\"cursor: auto;\"><i class=\"el-rate__icon el-icon-star-on\"\n",
      "                                                                   style=\"color: rgb(239, 242, 247);\"><i\n",
      "                    class=\"el-rate__decimal el-icon-star-on\"\n",
      "                    style=\"color: rgb(247, 186, 42); width: 75.0%;\"></i></i>\n",
      "                </span>\n",
      "              </div>\n",
      "              </p></div>\n",
      "          </div>\n",
      "        </div>\n",
      "      </div>\n",
      "      \n",
      "      <div data-v-7f856186=\"\" class=\"el-card item m-t is-hover-shadow\">\n",
      "        <div class=\"el-card__body\">\n",
      "          <div data-v-7f856186=\"\" class=\"el-row\">\n",
      "            <div data-v-7f856186=\"\" class=\"el-col el-col-24 el-col-xs-8 el-col-sm-6 el-col-md-4\">\n",
      "              <a data-v-7f856186=\"\"\n",
      "                 href=\"/detail/9\"\n",
      "                 class=\"\">\n",
      "                <img\n",
      "                    data-v-7f856186=\"\"\n",
      "                    src=\"https://p0.meituan.net/movie/8959888ee0c399b0fe53a714bc8a5a17460048.jpg@464w_644h_1e_1c\"\n",
      "                    class=\"cover\">\n",
      "              </a>\n",
      "            </div>\n",
      "            <div data-v-7f856186=\"\" class=\"p-h el-col el-col-24 el-col-xs-9 el-col-sm-13 el-col-md-16\">\n",
      "              <a data-v-7f856186=\"\" href=\"/detail/9\" class=\"name\">\n",
      "                <h2 data-v-7f856186=\"\" class=\"m-b-sm\">楚门的世界 - The Truman Show</h2>\n",
      "              </a>\n",
      "              <div data-v-7f856186=\"\" class=\"categories\">\n",
      "                \n",
      "                <button data-v-7f856186=\"\" type=\"button\"\n",
      "                        class=\"el-button category el-button--primary el-button--mini\">\n",
      "                  <span>剧情</span>\n",
      "                </button>\n",
      "                \n",
      "                <button data-v-7f856186=\"\" type=\"button\"\n",
      "                        class=\"el-button category el-button--primary el-button--mini\">\n",
      "                  <span>科幻</span>\n",
      "                </button>\n",
      "                \n",
      "              </div>\n",
      "              <div data-v-7f856186=\"\" class=\"m-v-sm info\">\n",
      "                <span data-v-7f856186=\"\">美国</span>\n",
      "                <span data-v-7f856186=\"\"> / </span>\n",
      "                <span data-v-7f856186=\"\">103 分钟</span>\n",
      "              </div>\n",
      "              <div data-v-7f856186=\"\" class=\"m-v-sm info\">\n",
      "                \n",
      "              </div>\n",
      "            </div>\n",
      "            <div data-v-7f856186=\"\" class=\"el-col el-col-24 el-col-xs-5 el-col-sm-5 el-col-md-4\">\n",
      "              <p data-v-7f856186=\"\"\n",
      "                 class=\"score m-t-md m-b-n-sm\">\n",
      "                9.0</p>\n",
      "              <p data-v-7f856186=\"\">\n",
      "              <div data-v-7f856186=\"\" role=\"slider\" aria-valuenow=\"4.75\" aria-valuetext=\"\" aria-valuemin=\"0\"\n",
      "                   aria-valuemax=\"5\" tabindex=\"0\" class=\"el-rate\">\n",
      "                \n",
      "                <span class=\"el-rate__item\" style=\"cursor: auto;\"><i\n",
      "                    class=\"el-rate__icon el-icon-star-on\" style=\"color: rgb(247, 186, 42);\"></i>\n",
      "                </span>\n",
      "                \n",
      "                <span class=\"el-rate__item\" style=\"cursor: auto;\"><i\n",
      "                    class=\"el-rate__icon el-icon-star-on\" style=\"color: rgb(247, 186, 42);\"></i>\n",
      "                </span>\n",
      "                \n",
      "                <span class=\"el-rate__item\" style=\"cursor: auto;\"><i\n",
      "                    class=\"el-rate__icon el-icon-star-on\" style=\"color: rgb(247, 186, 42);\"></i>\n",
      "                </span>\n",
      "                \n",
      "                <span class=\"el-rate__item\" style=\"cursor: auto;\"><i\n",
      "                    class=\"el-rate__icon el-icon-star-on\" style=\"color: rgb(247, 186, 42);\"></i>\n",
      "                </span>\n",
      "                \n",
      "                <span\n",
      "                    class=\"el-rate__item\" style=\"cursor: auto;\"><i class=\"el-rate__icon el-icon-star-on\"\n",
      "                                                                   style=\"color: rgb(239, 242, 247);\"><i\n",
      "                    class=\"el-rate__decimal el-icon-star-on\"\n",
      "                    style=\"color: rgb(247, 186, 42); width: 50.0%;\"></i></i>\n",
      "                </span>\n",
      "              </div>\n",
      "              </p></div>\n",
      "          </div>\n",
      "        </div>\n",
      "      </div>\n",
      "      \n",
      "      <div data-v-7f856186=\"\" class=\"el-card item m-t is-hover-shadow\">\n",
      "        <div class=\"el-card__body\">\n",
      "          <div data-v-7f856186=\"\" class=\"el-row\">\n",
      "            <div data-v-7f856186=\"\" class=\"el-col el-col-24 el-col-xs-8 el-col-sm-6 el-col-md-4\">\n",
      "              <a data-v-7f856186=\"\"\n",
      "                 href=\"/detail/10\"\n",
      "                 class=\"\">\n",
      "                <img\n",
      "                    data-v-7f856186=\"\"\n",
      "                    src=\"https://p0.meituan.net/movie/27b76fe6cf3903f3d74963f70786001e1438406.jpg@464w_644h_1e_1c\"\n",
      "                    class=\"cover\">\n",
      "              </a>\n",
      "            </div>\n",
      "            <div data-v-7f856186=\"\" class=\"p-h el-col el-col-24 el-col-xs-9 el-col-sm-13 el-col-md-16\">\n",
      "              <a data-v-7f856186=\"\" href=\"/detail/10\" class=\"name\">\n",
      "                <h2 data-v-7f856186=\"\" class=\"m-b-sm\">狮子王 - The Lion King</h2>\n",
      "              </a>\n",
      "              <div data-v-7f856186=\"\" class=\"categories\">\n",
      "                \n",
      "                <button data-v-7f856186=\"\" type=\"button\"\n",
      "                        class=\"el-button category el-button--primary el-button--mini\">\n",
      "                  <span>动画</span>\n",
      "                </button>\n",
      "                \n",
      "                <button data-v-7f856186=\"\" type=\"button\"\n",
      "                        class=\"el-button category el-button--primary el-button--mini\">\n",
      "                  <span>歌舞</span>\n",
      "                </button>\n",
      "                \n",
      "                <button data-v-7f856186=\"\" type=\"button\"\n",
      "                        class=\"el-button category el-button--primary el-button--mini\">\n",
      "                  <span>冒险</span>\n",
      "                </button>\n",
      "                \n",
      "              </div>\n",
      "              <div data-v-7f856186=\"\" class=\"m-v-sm info\">\n",
      "                <span data-v-7f856186=\"\">美国</span>\n",
      "                <span data-v-7f856186=\"\"> / </span>\n",
      "                <span data-v-7f856186=\"\">89 分钟</span>\n",
      "              </div>\n",
      "              <div data-v-7f856186=\"\" class=\"m-v-sm info\">\n",
      "                \n",
      "                <span data-v-7f856186=\"\">1995-07-15 上映</span>\n",
      "                \n",
      "              </div>\n",
      "            </div>\n",
      "            <div data-v-7f856186=\"\" class=\"el-col el-col-24 el-col-xs-5 el-col-sm-5 el-col-md-4\">\n",
      "              <p data-v-7f856186=\"\"\n",
      "                 class=\"score m-t-md m-b-n-sm\">\n",
      "                9.0</p>\n",
      "              <p data-v-7f856186=\"\">\n",
      "              <div data-v-7f856186=\"\" role=\"slider\" aria-valuenow=\"4.75\" aria-valuetext=\"\" aria-valuemin=\"0\"\n",
      "                   aria-valuemax=\"5\" tabindex=\"0\" class=\"el-rate\">\n",
      "                \n",
      "                <span class=\"el-rate__item\" style=\"cursor: auto;\"><i\n",
      "                    class=\"el-rate__icon el-icon-star-on\" style=\"color: rgb(247, 186, 42);\"></i>\n",
      "                </span>\n",
      "                \n",
      "                <span class=\"el-rate__item\" style=\"cursor: auto;\"><i\n",
      "                    class=\"el-rate__icon el-icon-star-on\" style=\"color: rgb(247, 186, 42);\"></i>\n",
      "                </span>\n",
      "                \n",
      "                <span class=\"el-rate__item\" style=\"cursor: auto;\"><i\n",
      "                    class=\"el-rate__icon el-icon-star-on\" style=\"color: rgb(247, 186, 42);\"></i>\n",
      "                </span>\n",
      "                \n",
      "                <span class=\"el-rate__item\" style=\"cursor: auto;\"><i\n",
      "                    class=\"el-rate__icon el-icon-star-on\" style=\"color: rgb(247, 186, 42);\"></i>\n",
      "                </span>\n",
      "                \n",
      "                <span\n",
      "                    class=\"el-rate__item\" style=\"cursor: auto;\"><i class=\"el-rate__icon el-icon-star-on\"\n",
      "                                                                   style=\"color: rgb(239, 242, 247);\"><i\n",
      "                    class=\"el-rate__decimal el-icon-star-on\"\n",
      "                    style=\"color: rgb(247, 186, 42); width: 50.0%;\"></i></i>\n",
      "                </span>\n",
      "              </div>\n",
      "              </p></div>\n",
      "          </div>\n",
      "        </div>\n",
      "      </div>\n",
      "      \n",
      "    </div>\n",
      "    <div class=\"el-loading-mask\" style=\"display: none;\">\n",
      "      <div class=\"el-loading-spinner\">\n",
      "        <svg viewBox=\"25 25 50 50\" class=\"circular\">\n",
      "          <circle cx=\"50\" cy=\"50\" r=\"20\" fill=\"none\" class=\"path\"></circle>\n",
      "        </svg>\n",
      "      </div>\n",
      "    </div>\n",
      "  </div>\n",
      "  <div data-v-7f856186=\"\" class=\"el-row\">\n",
      "    <div data-v-7f856186=\"\" class=\"el-col el-col-10 el-col-offset-11\">\n",
      "      <div data-v-7f856186=\"\" class=\"pagination m-v-lg\">\n",
      "        <div data-v-7f856186=\"\" class=\"el-pagination is-background\">\n",
      "          <span class=\"el-pagination__total\">共 102 条</span>\n",
      "          \n",
      "          <button type=\"button\" disabled=\"disabled\" class=\"btn-prev\">\n",
      "            <i class=\"el-icon el-icon-arrow-left\"></i>\n",
      "          </button>\n",
      "          \n",
      "          <ul class=\"el-pager\">\n",
      "            \n",
      "            \n",
      "            <li class=\"number active\">\n",
      "              <a href=\"/page/1\">1</a>\n",
      "            </li>\n",
      "            \n",
      "            \n",
      "            \n",
      "            <li class=\"number\">\n",
      "              <a href=\"/page/2\">2</a>\n",
      "            </li>\n",
      "            \n",
      "            \n",
      "            \n",
      "            <li class=\"number\">\n",
      "              <a href=\"/page/3\">3</a>\n",
      "            </li>\n",
      "            \n",
      "            \n",
      "            \n",
      "            <li class=\"number\">\n",
      "              <a href=\"/page/4\">4</a>\n",
      "            </li>\n",
      "            \n",
      "            \n",
      "            \n",
      "            <li class=\"number\">\n",
      "              <a href=\"/page/5\">5</a>\n",
      "            </li>\n",
      "            \n",
      "            \n",
      "            \n",
      "            <li class=\"number\">\n",
      "              <a href=\"/page/6\">6</a>\n",
      "            </li>\n",
      "            \n",
      "            \n",
      "            \n",
      "            <li class=\"number\">\n",
      "              <a href=\"/page/7\">7</a>\n",
      "            </li>\n",
      "            \n",
      "            \n",
      "            \n",
      "            <li class=\"number\">\n",
      "              <a href=\"/page/8\">8</a>\n",
      "            </li>\n",
      "            \n",
      "            \n",
      "            \n",
      "            <li class=\"number\">\n",
      "              <a href=\"/page/9\">9</a>\n",
      "            </li>\n",
      "            \n",
      "            \n",
      "            \n",
      "            <li class=\"number\">\n",
      "              <a href=\"/page/10\">10</a>\n",
      "            </li>\n",
      "            \n",
      "            \n",
      "            \n",
      "            <li class=\"number\">\n",
      "              <a href=\"/page/11\">11</a>\n",
      "            </li>\n",
      "            \n",
      "            \n",
      "          </ul>\n",
      "          \n",
      "          <a href=\"/page/2\" class=\"next\">\n",
      "            <button type=\"button\" class=\"btn-next\"><i class=\"el-icon el-icon-arrow-right\"></i></button>\n",
      "          </a>\n",
      "          \n",
      "        </div>\n",
      "      </div>\n",
      "    </div>\n",
      "  </div>\n",
      "</div>\n",
      "\n",
      "</div>\n",
      "</body>\n"
     ]
    }
   ],
   "source": [
    "# 实例化HTTPPasswordMgrWithDefaultRealm对象\n",
    "p = HTTPPasswordMgrWithDefaultRealm()\n",
    "p.add_password(None, url, username, password)\n",
    "\n",
    "# 实例化一个HTTPBasicAuthHandler对象auth_handler\n",
    "# 参数：HTTPPasswordMgrWithDefaultRealm对象，利用add_password添加账号、密码\n",
    "# 建立一个用来处理验证的Handler类\n",
    "auth_handler = HTTPBasicAuthHandler(p)\n",
    "\n",
    "# 将auth_handler类当作参数传入build_opener方法，构建一个Opener类\n",
    "opener = build_opener(auth_handler)\n",
    "\n",
    "try:\n",
    "    result = opener.open(url)\n",
    "    html = result.read().decode('utf-8')\n",
    "    print(html)\n",
    "except URLError as e:\n",
    "    print(e.reason)"
   ]
  },
  {
   "cell_type": "markdown",
   "id": "8d3e7bbf",
   "metadata": {},
   "source": [
    "## 1.3.2 代理"
   ]
  },
  {
   "cell_type": "code",
   "execution_count": 12,
   "id": "d341bcc3",
   "metadata": {},
   "outputs": [],
   "source": [
    "from urllib.error import URLError\n",
    "from urllib.request import ProxyHandler, build_opener"
   ]
  },
  {
   "cell_type": "code",
   "execution_count": 49,
   "id": "4bce0602",
   "metadata": {},
   "outputs": [
    {
     "name": "stdout",
     "output_type": "stream",
     "text": [
      "445973\n"
     ]
    }
   ],
   "source": [
    "proxy_handler = ProxyHandler({\n",
    "    'http':'183.64.239.19',\n",
    "    'http':'123.169.34.113'\n",
    "})\n",
    "\n",
    "url = \"https://www.baidu.com/\"\n",
    "headers = {\n",
    "    'User-Agent':\n",
    "    'Mozilla/5.0 (Windows NT 10.0; Win64; x64) AppleWebKit/537.36 (KHTML, like Gecko) Chrome/118.0.0.0 Safari/537.36'\n",
    "}\n",
    "request = urllib.request.Request(url, headers=headers)\n",
    "\n",
    "try:\n",
    "    opener = urllib.request.build_opener(handler)\n",
    "    response = opener.open(request)\n",
    "    print(len(response.read().decode('utf-8')))\n",
    "except URLError as e:\n",
    "    print(e.reason)\n",
    "    print('e')"
   ]
  },
  {
   "cell_type": "markdown",
   "id": "5beaa40f",
   "metadata": {},
   "source": [
    "## 1.3.3 Cookie"
   ]
  },
  {
   "cell_type": "code",
   "execution_count": 14,
   "id": "61e7f506",
   "metadata": {},
   "outputs": [],
   "source": [
    "import http.cookiejar, urllib.request"
   ]
  },
  {
   "cell_type": "code",
   "execution_count": 15,
   "id": "925778ff",
   "metadata": {},
   "outputs": [],
   "source": [
    "cookie = http.cookiejar.CookieJar()\n",
    "handler = urllib.request.HTTPCookieProcessor(cookie)\n",
    "opener = urllib.request.build_opener(handler)\n",
    "response = opener.open('https://www.baidu.com')"
   ]
  },
  {
   "cell_type": "code",
   "execution_count": 16,
   "id": "7f2b7200",
   "metadata": {},
   "outputs": [
    {
     "name": "stdout",
     "output_type": "stream",
     "text": [
      "BD_NOT_HTTPS=1\n",
      "BIDUPSID=769FCD1900F12D7B20063FCA80D76C2C\n",
      "PSTM=1698734731\n",
      "BAIDUID=769FCD1900F12D7B2AB03A64470FD28B:FG=1\n"
     ]
    }
   ],
   "source": [
    "for item in cookie:\n",
    "    print(item.name+\"=\"+item.value)"
   ]
  },
  {
   "cell_type": "code",
   "execution_count": 17,
   "id": "49195845",
   "metadata": {},
   "outputs": [],
   "source": [
    "filename = 'cookie.txt'\n",
    "# cookie = http.cookiejar.MozillaCookieJar()\n",
    "cookie = http.cookiejar.LWPCookieJar()\n",
    "handler = urllib.request.HTTPCookieProcessor(cookie)\n",
    "opener = urllib.request.build_opener(handler)\n",
    "response = opener.open(\"http://www.baidu.com\")\n",
    "cookie.save(filename)"
   ]
  },
  {
   "cell_type": "code",
   "execution_count": 55,
   "id": "af6999c7",
   "metadata": {
    "scrolled": true
   },
   "outputs": [
    {
     "name": "stdout",
     "output_type": "stream",
     "text": [
      "445900\n",
      "200\n"
     ]
    }
   ],
   "source": [
    "cookie = http.cookiejar.LWPCookieJar()\n",
    "cookie = cookie.load('cookie.txt', ignore_discard=True, ignore_expires=True)\n",
    "handler = urllib.request.HTTPCookieProcessor(cookie)\n",
    "\n",
    "# url,request\n",
    "url = \"https://www.baidu.com/\"\n",
    "headers = {\n",
    "    'User-Agent':\n",
    "    'Mozilla/5.0 (Windows NT 10.0; Win64; x64) AppleWebKit/537.36 (KHTML, like Gecko) Chrome/118.0.0.0 Safari/537.36'\n",
    "}\n",
    "request = urllib.request.Request(url, headers=headers)\n",
    "\n",
    "opener = urllib.request.build_opener(handler)\n",
    "response = opener.open(request)\n",
    "print(len(response.read().decode('utf-8')))\n",
    "print(response.status)"
   ]
  },
  {
   "cell_type": "markdown",
   "id": "e3cdfb3f",
   "metadata": {},
   "source": [
    "## 1.3.4 处理异常"
   ]
  },
  {
   "cell_type": "markdown",
   "id": "662858d1",
   "metadata": {},
   "source": [
    "1. URLError\n",
    "2. HTTPError"
   ]
  },
  {
   "cell_type": "code",
   "execution_count": 19,
   "id": "074d3278",
   "metadata": {},
   "outputs": [],
   "source": [
    "from urllib import request, error"
   ]
  },
  {
   "cell_type": "code",
   "execution_count": 20,
   "id": "b9e79ce9",
   "metadata": {},
   "outputs": [
    {
     "name": "stdout",
     "output_type": "stream",
     "text": [
      "Not Found\n",
      "404\n",
      "Server: GitHub.com\n",
      "Content-Type: text/html; charset=utf-8\n",
      "Access-Control-Allow-Origin: *\n",
      "ETag: \"65020b3f-24a3\"\n",
      "Content-Security-Policy: default-src 'none'; style-src 'unsafe-inline'; img-src data:; connect-src 'self'\n",
      "x-proxy-cache: MISS\n",
      "X-GitHub-Request-Id: B312:28D6A0:A7CC6:C1069:6540A28E\n",
      "Accept-Ranges: bytes\n",
      "Date: Tue, 31 Oct 2023 06:45:34 GMT\n",
      "Via: 1.1 varnish\n",
      "Age: 0\n",
      "X-Served-By: cache-qpg1255-QPG\n",
      "X-Cache: MISS\n",
      "X-Cache-Hits: 0\n",
      "X-Timer: S1698734734.489585,VS0,VE279\n",
      "Vary: Accept-Encoding\n",
      "X-Fastly-Request-ID: 0190eb4309715434edb721892f921b6316044b3f\n",
      "X-Cache-Lookup: Cache Miss\n",
      "X-Cache-Lookup: Cache Miss\n",
      "X-Cache-Lookup: Cache Miss\n",
      "Content-Length: 9379\n",
      "X-NWS-LOG-UUID: 2870570413158923470\n",
      "Connection: close\n",
      "X-Cache-Lookup: Cache Miss\n",
      "\n",
      "\n"
     ]
    }
   ],
   "source": [
    "try:\n",
    "    response = request.urlopen('https://cuiqingcai.com/404')\n",
    "except error.HTTPError as e:\n",
    "    print(e.reason, e.code, e.headers, sep='\\n')\n",
    "except error.URLError as e:\n",
    "    print(e.reason)\n",
    "else:\n",
    "    print(response.read().decode('utf-8'))"
   ]
  },
  {
   "cell_type": "code",
   "execution_count": 21,
   "id": "49575f95",
   "metadata": {},
   "outputs": [],
   "source": [
    "import socket\n",
    "import urllib.request\n",
    "import urllib.error"
   ]
  },
  {
   "cell_type": "code",
   "execution_count": 22,
   "id": "9dcd17dd",
   "metadata": {},
   "outputs": [
    {
     "name": "stdout",
     "output_type": "stream",
     "text": [
      "<class 'TimeoutError'>\n",
      "TIME OUT\n"
     ]
    }
   ],
   "source": [
    "url = 'https://www.baidu.com'\n",
    "\n",
    "try:\n",
    "    response = urllib.request.urlopen(url, timeout=0.01)\n",
    "except urllib.error.URLError as e:\n",
    "    print(type(e.reason))\n",
    "    if isinstance(e.reason, socket.timeout):\n",
    "        print('TIME OUT')"
   ]
  },
  {
   "cell_type": "markdown",
   "id": "51a10e8d",
   "metadata": {},
   "source": [
    "## 1.3 parse模块\n",
    "\n",
    "###  解析链接 -- urlparse\n",
    "\n",
    "--- scheme://netloc/path;params?query#fragment\n",
    "\n",
    "--- scheme:默认协议（http or https）\n",
    "\n",
    "--- allow_fragments:是否忽略fragment,若被忽略会被解析为path、params或者query的一部分"
   ]
  },
  {
   "cell_type": "code",
   "execution_count": 23,
   "id": "6c97bd0a",
   "metadata": {},
   "outputs": [],
   "source": [
    "from urllib.parse import urlparse"
   ]
  },
  {
   "cell_type": "code",
   "execution_count": 24,
   "id": "5f73f2bf",
   "metadata": {},
   "outputs": [
    {
     "name": "stdout",
     "output_type": "stream",
     "text": [
      "<class 'urllib.parse.ParseResult'>\n",
      "ParseResult(scheme='https', netloc='www.baidu.com', path='/index.html', params='user', query='id=5', fragment='comment')\n"
     ]
    }
   ],
   "source": [
    "url = \"https://www.baidu.com/index.html;user?id=5#comment\"\n",
    "result = urlparse(url)\n",
    "print(type(result))\n",
    "print(result)"
   ]
  },
  {
   "cell_type": "code",
   "execution_count": 25,
   "id": "9a1f5e0c",
   "metadata": {},
   "outputs": [
    {
     "name": "stdout",
     "output_type": "stream",
     "text": [
      "ParseResult(scheme='https', netloc='www.baidu.com', path='/index.html', params='user', query='id=5#comment', fragment='')\n"
     ]
    }
   ],
   "source": [
    "result = urlparse(url, allow_fragments=False)\n",
    "print(result)"
   ]
  },
  {
   "cell_type": "code",
   "execution_count": 26,
   "id": "e3405244",
   "metadata": {},
   "outputs": [
    {
     "name": "stdout",
     "output_type": "stream",
     "text": [
      "https\n",
      "https\n",
      "www.baidu.com\n",
      "www.baidu.com\n"
     ]
    }
   ],
   "source": [
    "print(result.scheme, result[0], result.netloc, result[1], sep='\\n')"
   ]
  },
  {
   "cell_type": "markdown",
   "id": "444f5ed8",
   "metadata": {},
   "source": [
    "### urlunparse\n",
    "\n",
    "--- 构造URL，长度必须是6，否则存在参数不足或者过多问题"
   ]
  },
  {
   "cell_type": "code",
   "execution_count": 27,
   "id": "db8e5e40",
   "metadata": {},
   "outputs": [],
   "source": [
    "from urllib.parse import urlunparse"
   ]
  },
  {
   "cell_type": "code",
   "execution_count": 28,
   "id": "1565d4b1",
   "metadata": {},
   "outputs": [
    {
     "name": "stdout",
     "output_type": "stream",
     "text": [
      "https://www.baidu.com/index.html;user?a=6#comment\n"
     ]
    }
   ],
   "source": [
    "data = ['https', 'www.baidu.com', 'index.html', 'user', 'a=6', 'comment']\n",
    "print(urlunparse(data))"
   ]
  },
  {
   "cell_type": "markdown",
   "id": "c745211e",
   "metadata": {},
   "source": [
    "### urlsplit\n",
    "\n",
    "--- 只返回5个结果，params会合并到path中"
   ]
  },
  {
   "cell_type": "code",
   "execution_count": 29,
   "id": "aea39d1e",
   "metadata": {},
   "outputs": [],
   "source": [
    "from urllib.parse import urlsplit"
   ]
  },
  {
   "cell_type": "code",
   "execution_count": 30,
   "id": "7598ca33",
   "metadata": {},
   "outputs": [
    {
     "name": "stdout",
     "output_type": "stream",
     "text": [
      "SplitResult(scheme='https', netloc='www.baidu.com', path='/index.html;user', query='id=5', fragment='comment')\n"
     ]
    }
   ],
   "source": [
    "url = 'https://www.baidu.com/index.html;user?id=5#comment'\n",
    "result = urlsplit(url)\n",
    "print(result)"
   ]
  },
  {
   "cell_type": "code",
   "execution_count": 31,
   "id": "05db40bf",
   "metadata": {},
   "outputs": [
    {
     "name": "stdout",
     "output_type": "stream",
     "text": [
      "https\n",
      "https\n"
     ]
    }
   ],
   "source": [
    "print(result.scheme, result[0], sep='\\n')"
   ]
  },
  {
   "cell_type": "markdown",
   "id": "69b6b89a",
   "metadata": {},
   "source": [
    "### urlunsplit\n",
    "\n",
    "--- 构造URL，长度必须是6，否则存在参数不足或者过多问题"
   ]
  },
  {
   "cell_type": "code",
   "execution_count": 32,
   "id": "6701f76d",
   "metadata": {},
   "outputs": [],
   "source": [
    "from urllib.parse import urlunsplit"
   ]
  },
  {
   "cell_type": "code",
   "execution_count": 33,
   "id": "416827e0",
   "metadata": {},
   "outputs": [
    {
     "name": "stdout",
     "output_type": "stream",
     "text": [
      "https://wwwbaidu.com/index.html/user?id=5#comment\n"
     ]
    }
   ],
   "source": [
    "data = ['https', 'wwwbaidu.com', 'index.html/user', 'id=5', 'comment']\n",
    "result = urlunsplit(data)\n",
    "print(result)"
   ]
  },
  {
   "cell_type": "markdown",
   "id": "920b666d",
   "metadata": {},
   "source": [
    "### urljoin\n",
    "\n",
    "--- base_url,new_url\n",
    "\n",
    "--- urljoin会解析base_url的scheme,netloc,path这3个内容，并对新链接缺失的部分进行补充"
   ]
  },
  {
   "cell_type": "code",
   "execution_count": 34,
   "id": "4684d330",
   "metadata": {},
   "outputs": [],
   "source": [
    "from urllib.parse import urljoin"
   ]
  },
  {
   "cell_type": "code",
   "execution_count": 35,
   "id": "eec8d2df",
   "metadata": {},
   "outputs": [
    {
     "name": "stdout",
     "output_type": "stream",
     "text": [
      "https://wwwbaidu.com/FAQ.html\n",
      "https://cuiqingcai.com/FAQ.html\n",
      "https://cuiqingcai.com/FAQ.html\n",
      "https://cuiqingcai.com/index.php\n",
      "https://wwwbaidu.com?category=2#comment\n",
      "wwwbaidu.com?category=2#comment\n",
      "wwwbaidu.com?category=2\n"
     ]
    }
   ],
   "source": [
    "print(urljoin('https://wwwbaidu.com', 'FAQ.html'))\n",
    "\n",
    "# path\n",
    "print(urljoin('https://wwwbaidu.com', 'https://cuiqingcai.com/FAQ.html'))\n",
    "\n",
    "#use new_url's path\n",
    "print(urljoin('https://wwwbaidu.com/about.html', 'https://cuiqingcai.com/FAQ.html'))\n",
    "\n",
    "# base_url path, new_url path\n",
    "print(urljoin('https://wwwbaidu?wd=abc', 'https://cuiqingcai.com/index.php'))\n",
    "\n",
    "# base_url scheme netloc, new_url query fragment \n",
    "print(urljoin('https://wwwbaidu.com', '?category=2#comment'))\n",
    "print(urljoin('wwwbaidu.com', '?category=2#comment'))\n",
    "\n",
    "# base_url fragment, new_url query\n",
    "print(urljoin('wwwbaidu.com#comment', '?category=2'))"
   ]
  },
  {
   "cell_type": "markdown",
   "id": "7b37e6e4",
   "metadata": {},
   "source": [
    "### urlencode\n",
    "\n",
    "--- 序列化参数"
   ]
  },
  {
   "cell_type": "code",
   "execution_count": 36,
   "id": "9970756c",
   "metadata": {},
   "outputs": [],
   "source": [
    "from urllib.parse import urlencode"
   ]
  },
  {
   "cell_type": "code",
   "execution_count": 37,
   "id": "1a8a1c17",
   "metadata": {},
   "outputs": [
    {
     "name": "stdout",
     "output_type": "stream",
     "text": [
      "https://www.baidu.com?name=germy&age=25\n"
     ]
    }
   ],
   "source": [
    "params = {\n",
    "    'name':'germy',\n",
    "    'age':'25'\n",
    "}\n",
    "base_url = 'https://www.baidu.com?'\n",
    "url = base_url + urlencode(params)\n",
    "print(url)"
   ]
  },
  {
   "cell_type": "markdown",
   "id": "fc2180a9",
   "metadata": {},
   "source": [
    "### parse_qs\n",
    "\n",
    "--- 反序列化, 转为字典"
   ]
  },
  {
   "cell_type": "code",
   "execution_count": 38,
   "id": "4d488319",
   "metadata": {},
   "outputs": [],
   "source": [
    "from urllib.parse import parse_qs"
   ]
  },
  {
   "cell_type": "code",
   "execution_count": 39,
   "id": "f32ea129",
   "metadata": {},
   "outputs": [
    {
     "name": "stdout",
     "output_type": "stream",
     "text": [
      "{'name': ['germy'], 'age': ['25']}\n"
     ]
    }
   ],
   "source": [
    "query = 'name=germy&age=25'\n",
    "print(parse_qs(query))"
   ]
  },
  {
   "cell_type": "markdown",
   "id": "e93fb86e",
   "metadata": {},
   "source": [
    "### parse_qsl\n",
    "\n",
    "--- 反序列化，转为元组组成的列表"
   ]
  },
  {
   "cell_type": "code",
   "execution_count": 40,
   "id": "e000b1ba",
   "metadata": {},
   "outputs": [],
   "source": [
    "from urllib.parse import parse_qsl"
   ]
  },
  {
   "cell_type": "code",
   "execution_count": 41,
   "id": "dd880197",
   "metadata": {},
   "outputs": [
    {
     "name": "stdout",
     "output_type": "stream",
     "text": [
      "[('name', 'germy'), ('age', '25')]\n"
     ]
    }
   ],
   "source": [
    "query = 'name=germy&age=25'\n",
    "print(parse_qsl(query))"
   ]
  },
  {
   "cell_type": "markdown",
   "id": "e169be41",
   "metadata": {},
   "source": [
    "### quote\n",
    "\n",
    "--- 将内容转为URL编码的格式，例如URL中带有中文参数时，有乱码问题，此时用quote方法可以将中午转化为URL编码"
   ]
  },
  {
   "cell_type": "code",
   "execution_count": 42,
   "id": "50802dfe",
   "metadata": {},
   "outputs": [],
   "source": [
    "from urllib.parse import quote"
   ]
  },
  {
   "cell_type": "code",
   "execution_count": 43,
   "id": "734f4eb9",
   "metadata": {},
   "outputs": [
    {
     "name": "stdout",
     "output_type": "stream",
     "text": [
      "https://www.baidu.com?wd=%E5%A3%81%E7%BA%B8\n"
     ]
    }
   ],
   "source": [
    "keyword = '壁纸'\n",
    "url = 'https://www.baidu.com?wd=' + quote(keyword)\n",
    "print(url)"
   ]
  },
  {
   "cell_type": "markdown",
   "id": "24ebdedb",
   "metadata": {},
   "source": [
    "### unquote\n",
    "\n",
    "--- URL解码"
   ]
  },
  {
   "cell_type": "code",
   "execution_count": 44,
   "id": "8972262a",
   "metadata": {},
   "outputs": [],
   "source": [
    "from urllib.parse import unquote"
   ]
  },
  {
   "cell_type": "code",
   "execution_count": 45,
   "id": "7f70c800",
   "metadata": {},
   "outputs": [
    {
     "name": "stdout",
     "output_type": "stream",
     "text": [
      "https://www.baidu.com/?wd=壁纸\n"
     ]
    }
   ],
   "source": [
    "url = 'https://www.baidu.com/?wd=%E5%A3%81%E7%BA%B8'\n",
    "print(unquote(url))"
   ]
  },
  {
   "cell_type": "markdown",
   "id": "8dfcd682",
   "metadata": {},
   "source": [
    "## 1.4 Robots协议\n",
    "\n",
    "### robotparser 解析robots.txt"
   ]
  },
  {
   "cell_type": "code",
   "execution_count": null,
   "id": "8a2c4105",
   "metadata": {},
   "outputs": [],
   "source": []
  },
  {
   "cell_type": "code",
   "execution_count": null,
   "id": "b46d0385",
   "metadata": {},
   "outputs": [],
   "source": []
  },
  {
   "cell_type": "code",
   "execution_count": null,
   "id": "980c6a24",
   "metadata": {},
   "outputs": [],
   "source": []
  },
  {
   "cell_type": "code",
   "execution_count": null,
   "id": "46403246",
   "metadata": {},
   "outputs": [],
   "source": []
  },
  {
   "cell_type": "code",
   "execution_count": null,
   "id": "1b4bab24",
   "metadata": {},
   "outputs": [],
   "source": []
  },
  {
   "cell_type": "code",
   "execution_count": null,
   "id": "e33c9278",
   "metadata": {},
   "outputs": [],
   "source": []
  },
  {
   "cell_type": "code",
   "execution_count": null,
   "id": "921a6f2c",
   "metadata": {},
   "outputs": [],
   "source": []
  },
  {
   "cell_type": "code",
   "execution_count": null,
   "id": "a4c14e4c",
   "metadata": {},
   "outputs": [],
   "source": []
  },
  {
   "cell_type": "code",
   "execution_count": null,
   "id": "e1a974d6",
   "metadata": {},
   "outputs": [],
   "source": []
  },
  {
   "cell_type": "code",
   "execution_count": null,
   "id": "3d830b77",
   "metadata": {},
   "outputs": [],
   "source": []
  },
  {
   "cell_type": "code",
   "execution_count": null,
   "id": "0fed456d",
   "metadata": {},
   "outputs": [],
   "source": []
  },
  {
   "cell_type": "code",
   "execution_count": null,
   "id": "fc445947",
   "metadata": {},
   "outputs": [],
   "source": []
  },
  {
   "cell_type": "code",
   "execution_count": null,
   "id": "d40ed883",
   "metadata": {},
   "outputs": [],
   "source": []
  },
  {
   "cell_type": "code",
   "execution_count": null,
   "id": "9cb88ff5",
   "metadata": {},
   "outputs": [],
   "source": []
  },
  {
   "cell_type": "code",
   "execution_count": null,
   "id": "186075b1",
   "metadata": {},
   "outputs": [],
   "source": []
  },
  {
   "cell_type": "code",
   "execution_count": null,
   "id": "f0919c36",
   "metadata": {},
   "outputs": [],
   "source": []
  },
  {
   "cell_type": "code",
   "execution_count": null,
   "id": "c56a108e",
   "metadata": {},
   "outputs": [],
   "source": []
  },
  {
   "cell_type": "code",
   "execution_count": null,
   "id": "54657210",
   "metadata": {},
   "outputs": [],
   "source": []
  }
 ],
 "metadata": {
  "kernelspec": {
   "display_name": "Python 3 (ipykernel)",
   "language": "python",
   "name": "python3"
  },
  "language_info": {
   "codemirror_mode": {
    "name": "ipython",
    "version": 3
   },
   "file_extension": ".py",
   "mimetype": "text/x-python",
   "name": "python",
   "nbconvert_exporter": "python",
   "pygments_lexer": "ipython3",
   "version": "3.11.4"
  },
  "toc": {
   "base_numbering": 1,
   "nav_menu": {},
   "number_sections": true,
   "sideBar": true,
   "skip_h1_title": false,
   "title_cell": "Table of Contents",
   "title_sidebar": "Contents",
   "toc_cell": false,
   "toc_position": {},
   "toc_section_display": true,
   "toc_window_display": false
  },
  "varInspector": {
   "cols": {
    "lenName": 16,
    "lenType": 16,
    "lenVar": 40
   },
   "kernels_config": {
    "python": {
     "delete_cmd_postfix": "",
     "delete_cmd_prefix": "del ",
     "library": "var_list.py",
     "varRefreshCmd": "print(var_dic_list())"
    },
    "r": {
     "delete_cmd_postfix": ") ",
     "delete_cmd_prefix": "rm(",
     "library": "var_list.r",
     "varRefreshCmd": "cat(var_dic_list()) "
    }
   },
   "types_to_exclude": [
    "module",
    "function",
    "builtin_function_or_method",
    "instance",
    "_Feature"
   ],
   "window_display": false
  }
 },
 "nbformat": 4,
 "nbformat_minor": 5
}
