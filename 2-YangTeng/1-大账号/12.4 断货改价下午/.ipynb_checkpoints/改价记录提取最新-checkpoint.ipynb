{
 "cells": [
  {
   "cell_type": "code",
   "execution_count": 1,
   "metadata": {
    "scrolled": true
   },
   "outputs": [],
   "source": [
    "import pandas as pd#导入pandas库命名为pd\n",
    "import re#导入re库\n",
    "import numpy as np#导入numpy库命名为np\n",
    "df1=pd.read_excel(r'C:\\Users\\User\\Desktop\\断货\\合计改价记录\\合计改价记录 9.5')#读取路径为\"D:\\桌面\\MRP干预\\11.22 改价记录\"的Excel文件sheet1的表格并命名为df1\n",
    "df2=df1.dropna()#将表格df1中的带空值的行删除并命名为df2\n",
    "list_record=df2['合计改价记录'].to_list()#将表df2中的\"合计改价记录\"这列的值转为一个列表并命名为list_record\n",
    "list_record2=[]#创建一个名为list_record2的空列表\n",
    "for i in list_record:#对列表list_record中的每个值进行循环\n",
    "    list_record2.append(re.sub(' ','',re.sub(',',';',i)).split(';'))#先将列表list_record中的每个值的逗号替换成分号，再将空格删除，然后通过\";\"进行分列，得到一个列表，再将这个列表放进上面创建的列表list_record2中"
   ]
  },
  {
   "cell_type": "code",
   "execution_count": 2,
   "metadata": {},
   "outputs": [],
   "source": [
    "list_recordthisweek=[]#创建名为list_recordthisweek的空列表\n",
    "for i in list_record2:#对上面得到的列表list_record2中的每个值进行循环（这个值为列表）\n",
    "    list_record31=[]#创建名为list_record31的空列表\n",
    "    list_record32=[]#创建名为list_record32的空列表\n",
    "    list_record33=[]#创建名为list_record32的空列表\n",
    "    for j in i:#对i（列表）中的每个元素进行循环\n",
    "        a = re.sub('-.*','',j)#将元素中“-”及其后面带的任意字符全部替换为空，得到改价记录中的日期字符串命名为a\n",
    "        if len(a) == len('8.29') and '8.29'<= a <= '8.31':#对字符串a，即日期，判断其字符长度及所在日期区间是否符合要求\n",
    "            list_record31.append(j)#若以上判断条件均满足，将日期a对应的该条改价记录放进列表list_record31\n",
    "        elif len(a) == len('9.1') and '9.1'<= a <= '9.2':#若以上判断条件不满足，则判断这个日期是否满足另一个日期区间及字符长度\n",
    "            list_record32.append(j)#若满足上一步判断条件，则将日期a对应的该条改价记录放进列表list_record32\n",
    "        elif len(a) == len('9.3') and '9.3'<= a <= '9.4':#若以上判断条件不满足，则判断这个日期是否满足另一个日期区间及字符长度\n",
    "            list_record33.append(j)#若满足上一步判断条件，则将日期a对应的该条改价记录放进列表list_record33            \n",
    "    list_record311=list(set(list_record31))#对于一条改价记录进行上述判断以后，开始进行以下操作，先将list_record31转为为集合（可以去除里面的重复日期),再将其转化为所需要的列表,并命名为list_record311\n",
    "    list_record311.sort(reverse=False)#将list_record311中的各个日期值升序排列\n",
    "    list_record322=list(set(list_record32))#同样的，将list_record32转为为集合（可以去除里面的重复日期),再将其转化为所需要的列表,并命名为list_record322\n",
    "    list_record322.sort(reverse=False)#将list_record332中的各个日期值升序排列\n",
    "    list_record332=list(set(list_record33))#同样的，将list_record32转为为集合（可以去除里面的重复日期),再将其转化为所需要的列表,并命名为list_record322\n",
    "    list_record332.sort(reverse=False)#将list_record332中的各个日期值升序排列\n",
    "    list_record3 = list_record311+list_record322+list_record332#将得到的分别满足两个日期区间条件的列表list_record311、list_record322合并在一起，命名为list_record3\n",
    "    list_recordthisweek.append(list_record3)#list_record3即为一条改价记录中所有满足所需要的日期区间的升序排列的日期列表，将其放进列表list_recordthisweek中"
   ]
  },
  {
   "cell_type": "code",
   "execution_count": 3,
   "metadata": {},
   "outputs": [],
   "source": [
    "list_recordthisweek2=[]#创建名为list_recordthisweek2的空列表\n",
    "for i in list_recordthisweek:#对上面得到的列表list_recordthisweek中的每个日期列表进行循环\n",
    "    if len(i) == 0:#对日期列表i的长度（及列表中的元素个数)进行判断，是否为0\n",
    "        list_recordthisweek2.append(np.nan)#若i的长度为0，及其为空列表，则list_recordthisweek2列表放入1个空值\n",
    "    else:#若i的长度不为0\n",
    "        b = ';'.join(i)#将i中的各个日期通过\";\"连接成1个字符串，并命名为b\n",
    "        list_recordthisweek2.append(b)#将最后的日期字符串b放入列表list_recordthisweek2中"
   ]
  },
  {
   "cell_type": "code",
   "execution_count": 4,
   "metadata": {},
   "outputs": [
    {
     "name": "stderr",
     "output_type": "stream",
     "text": [
      "<ipython-input-4-3b1ce47bafd4>:1: SettingWithCopyWarning: \n",
      "A value is trying to be set on a copy of a slice from a DataFrame.\n",
      "Try using .loc[row_indexer,col_indexer] = value instead\n",
      "\n",
      "See the caveats in the documentation: https://pandas.pydata.org/pandas-docs/stable/user_guide/indexing.html#returning-a-view-versus-a-copy\n",
      "  df2['改价记录-本周']=list_recordthisweek2#将list_recordthisweek2放入表格df2中，并命名该列为'改价记录-本周'\n"
     ]
    }
   ],
   "source": [
    "df2['改价记录-本周']=list_recordthisweek2#将list_recordthisweek2放入表格df2中，并命名该列为'改价记录-本周'"
   ]
  },
  {
   "cell_type": "code",
   "execution_count": 5,
   "metadata": {},
   "outputs": [],
   "source": [
    "df2.to_excel(r'D:\\桌面\\MRP干预\\9.4 改价记录-本周.xlsx',index=False,header=True)#将表格df2导出至路径为'D:\\桌面\\MRP干预\\6.12 改价记录-本周'的excel文件，不保留df2的索引，保留df2的行标题"
   ]
  },
  {
   "cell_type": "code",
   "execution_count": null,
   "metadata": {},
   "outputs": [],
   "source": []
  }
 ],
 "metadata": {
  "kernelspec": {
   "display_name": "Python 3 (ipykernel)",
   "language": "python",
   "name": "python3"
  },
  "language_info": {
   "codemirror_mode": {
    "name": "ipython",
    "version": 3
   },
   "file_extension": ".py",
   "mimetype": "text/x-python",
   "name": "python",
   "nbconvert_exporter": "python",
   "pygments_lexer": "ipython3",
   "version": "3.11.4"
  }
 },
 "nbformat": 4,
 "nbformat_minor": 4
}
