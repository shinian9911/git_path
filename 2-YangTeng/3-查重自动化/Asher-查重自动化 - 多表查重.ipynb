{
 "cells": [
  {
   "cell_type": "markdown",
   "id": "2f79a1e1",
   "metadata": {},
   "source": [
    "- Update: 2023.07.04\n",
    "\n",
    "# 0. 配置参数\n",
    "\n",
    "- `source`：待查重数据源路径\n",
    "- `out`：保存结果的路径"
   ]
  },
  {
   "cell_type": "code",
   "execution_count": 1,
   "id": "c86cda18",
   "metadata": {},
   "outputs": [],
   "source": [
    "source = r'D:\\DeskTop\\Learn\\3-查重自动化\\Asher【模板】.xlsx'# 输入带查重文件路径\n",
    "\n",
    "out = r'D:\\DeskTop\\Learn\\3-查重自动化\\【查重结果】发动机水管_NOW().xlsx' # 输入输出文件路径"
   ]
  },
  {
   "cell_type": "code",
   "execution_count": 2,
   "id": "ce2e77f7",
   "metadata": {},
   "outputs": [],
   "source": [
    "import pandas as pd"
   ]
  },
  {
   "cell_type": "code",
   "execution_count": 3,
   "id": "3c3476f4",
   "metadata": {},
   "outputs": [],
   "source": [
    "# 读取待查重数据\n",
    "fac_data = pd.read_excel(source,sheet_name='需查重数据',dtype=str).fillna('')\n",
    "\n",
    "fac_data"
   ]
  },
  {
   "cell_type": "markdown",
   "id": "b2a5754c",
   "metadata": {},
   "source": [
    "## 定义清理OE函数"
   ]
  },
  {
   "cell_type": "code",
   "execution_count": 4,
   "id": "bb47d505",
   "metadata": {},
   "outputs": [],
   "source": [
    "import re"
   ]
  },
  {
   "cell_type": "code",
   "execution_count": 5,
   "id": "d9627fd9",
   "metadata": {},
   "outputs": [],
   "source": [
    "def normalise_oe(oe):\n",
    "    \n",
    "    oe = str(oe).strip()\n",
    "#     oe = re.sub(r'^[a-zA-Z]*:', '', oe)#去除\":\"及前面所有字母\n",
    "#     oe = re.sub(r'[\\u4e00-\\u9fa5]','',oe) #去除汉字\n",
    "    oe = re.sub(r'[\\u4e00-\\u9fa5]+[a-zA-Z]*','',oe) #去除汉字及后面所有字母\n",
    "#     oe = re.sub('\\.+','',oe)  #去除\".\"符号\n",
    "    oe = re.sub('\\（','(',oe) #将所有中文\"（\"符号替换为英文\"(\"\n",
    "    oe = re.sub('\\）',')',oe) #将所有中文\"）\"符号替换为英文\")\"\n",
    "    oe = re.sub('\\([^)]*\\)','',oe)  #删除所有\"()\"及其内部的字符（因为通常不是OE号）\n",
    "#     oe = re.sub('\\(.*\\)','',oe)  #删除所有\"()\"及其内部的字符（因为通常不是OE号）,该方法在特殊情况下会删除OE号\n",
    "    oe = re.sub('\\*+', '', oe) #删除所有的\"*\"\n",
    "    oe = re.sub('  +', ';', oe) #将两个以上的空格替换为';'\n",
    "    oe = re.sub(' ', '', oe) #删除单空格\n",
    "    oe = re.sub('/+', ';', oe) #将“/\"替换为';'\n",
    "    oe = re.sub('\\n', ';', oe) #将换行符替换为';'\n",
    "    oe = re.sub('[；，,+]', ';', oe) #将[；，,+]替换为';'\n",
    "    oe = re.sub('\\u200e', '', oe)\n",
    "    oe = re.sub(';$','',oe)# 匹配末尾的';'\n",
    "    oe = re.sub('\\-', '', oe)# 匹配'-'\n",
    "\n",
    "    #list1 = oe26.split(';')\n",
    "    list1 = [i for i in str(oe).split(';') if i != '' and i.isalpha() == False] #去除空格\n",
    "    list1 = [re.sub(r'[^0-9]+[:：\\.]','',i) for i in list1]#去除\":\"及前面所有字母\n",
    "    list1 = [re.sub(r'\\.+','',i) for i in list1]\n",
    "    list1 = [re.sub(r'[:：]+','',i) for i in list1]#去除\":\"\n",
    "    list1 = [i for i in list1 if i !=''and i.isalpha() == False] #去除空格\n",
    "    list1 = [re.sub(r'\\r','',i) for i in list1]\n",
    "    \n",
    "    list1 = [oe.upper() for oe in list1] # 将OE中的字母全部转换为大写\n",
    "    \n",
    "    list2 = list(set(list1))\n",
    "    list2.sort(key = list1.index)# 去重后保持OE号原来的顺序\n",
    "    \n",
    "    oe=';'.join(list2)\n",
    "    \n",
    "# #     删除OE号中混杂的年份如'1999';'2018'\n",
    "    \n",
    "#     list3 = [i for i in str(oe).split(';') if len(i) > 3]\n",
    "    \n",
    "#     list3 = [i for i in list3 if not (len(i) == 4 and i[0] in ['1', '2'])]\n",
    "\n",
    "    \n",
    "#     oe=';'.join(list3)\n",
    "    \n",
    "    return oe.upper()"
   ]
  },
  {
   "cell_type": "code",
   "execution_count": 6,
   "id": "e10d50a2",
   "metadata": {},
   "outputs": [],
   "source": [
    "fac_data['清理后OE'] = [normalise_oe(fac_data.loc[i, 'OE']) for i in range(len(fac_data))]\n",
    "\n",
    "fac_data"
   ]
  },
  {
   "cell_type": "code",
   "execution_count": 7,
   "id": "3695de79",
   "metadata": {},
   "outputs": [],
   "source": [
    "# 剔除无OE的数据\n",
    "clean_fac_data = fac_data[fac_data['清理后OE']!='']\n",
    "\n",
    "clean_fac_data"
   ]
  },
  {
   "cell_type": "code",
   "execution_count": 8,
   "id": "ea7e89dc",
   "metadata": {},
   "outputs": [],
   "source": [
    "new_fac_data = clean_fac_data[['辨识号','清理后OE']].copy()\n",
    "new_fac_data['清理后OE'] = new_fac_data['清理后OE'].str.split(';')\n",
    "new_fac_data = new_fac_data.explode('清理后OE')\n",
    "\n",
    "new_fac_data"
   ]
  },
  {
   "cell_type": "markdown",
   "id": "1a02bc95",
   "metadata": {},
   "source": [
    "## 和其他表查重"
   ]
  },
  {
   "cell_type": "code",
   "execution_count": 9,
   "id": "58a9a53f",
   "metadata": {},
   "outputs": [],
   "source": [
    "# 读取系统数据\n",
    "sku_data = pd.read_excel(source,sheet_name='PTSKU',dtype=str).fillna('')\n",
    "\n",
    "sku_data"
   ]
  },
  {
   "cell_type": "code",
   "execution_count": 10,
   "id": "95acc694",
   "metadata": {},
   "outputs": [],
   "source": [
    "sku_data['清理后OE'] = [normalise_oe(sku_data.loc[i, 'OE']) for i in range(len(sku_data))]\n",
    "\n",
    "sku_data"
   ]
  },
  {
   "cell_type": "code",
   "execution_count": 11,
   "id": "4d6906fd",
   "metadata": {},
   "outputs": [],
   "source": [
    "clean_sku_data = sku_data[sku_data['清理后OE']!='']\n",
    "\n",
    "clean_sku_data"
   ]
  },
  {
   "cell_type": "code",
   "execution_count": 12,
   "id": "8af10268",
   "metadata": {},
   "outputs": [],
   "source": [
    "new_sku_data = clean_sku_data[['SKU','清理后OE']].copy()\n",
    "new_sku_data['清理后OE'] = new_sku_data['清理后OE'].str.split(';')\n",
    "new_sku_data = new_sku_data.explode('清理后OE')\n",
    "\n",
    "new_sku_data"
   ]
  },
  {
   "cell_type": "code",
   "execution_count": 13,
   "id": "8d1336d9",
   "metadata": {},
   "outputs": [],
   "source": [
    "merge_data = pd.merge(new_fac_data,new_sku_data,on='清理后OE',how='left').fillna('')\n",
    "\n",
    "merge_data"
   ]
  },
  {
   "cell_type": "code",
   "execution_count": 14,
   "id": "25200159",
   "metadata": {},
   "outputs": [],
   "source": [
    "repeat_data = merge_data[merge_data['SKU']!='']\n",
    "\n",
    "repeat_data"
   ]
  },
  {
   "cell_type": "code",
   "execution_count": 15,
   "id": "ea662c1d",
   "metadata": {},
   "outputs": [],
   "source": [
    "sku_repeat_data = repeat_data.groupby(['辨识号'],as_index=False,sort=False).agg({'清理后OE':';'.join,'SKU':';'.join})\n",
    "\n",
    "sku_repeat_data"
   ]
  },
  {
   "cell_type": "code",
   "execution_count": 16,
   "id": "628eb234",
   "metadata": {},
   "outputs": [],
   "source": [
    "sku_repeat_data.rename(columns={'清理后OE':'系统重复OE','SKU':'重复PTSKU'},inplace=True)\n",
    "\n",
    "sku_repeat_data"
   ]
  },
  {
   "cell_type": "code",
   "execution_count": 17,
   "id": "cb5ae2c5",
   "metadata": {},
   "outputs": [],
   "source": [
    "sku_repeat_data['系统重复OE'] = sku_repeat_data['系统重复OE'].str.split(';').apply(lambda x: sorted(list(set(x)), key=x.index))\n",
    "sku_repeat_data['重复PTSKU'] = sku_repeat_data['重复PTSKU'].str.split(';').apply(lambda x: sorted(list((set(x))), key=x.index))"
   ]
  },
  {
   "cell_type": "code",
   "execution_count": 18,
   "id": "27843ce1",
   "metadata": {},
   "outputs": [],
   "source": [
    "sku_repeat_data"
   ]
  },
  {
   "cell_type": "code",
   "execution_count": 19,
   "id": "a5c77e2a",
   "metadata": {},
   "outputs": [],
   "source": [
    "merge_data"
   ]
  },
  {
   "cell_type": "code",
   "execution_count": 20,
   "id": "b9ee73bb",
   "metadata": {},
   "outputs": [],
   "source": [
    "sku_repeat_data['系统重复OE'] = sku_repeat_data['系统重复OE'].apply(lambda x: ';'.join(x))\n",
    "sku_repeat_data['重复PTSKU'] = sku_repeat_data['重复PTSKU'].apply(lambda x: ';'.join(x))"
   ]
  },
  {
   "cell_type": "code",
   "execution_count": 21,
   "id": "a0244840",
   "metadata": {},
   "outputs": [],
   "source": [
    "sku_repeat_data"
   ]
  },
  {
   "cell_type": "code",
   "execution_count": 22,
   "id": "f26993c5",
   "metadata": {},
   "outputs": [],
   "source": [
    "result = pd.merge(fac_data,sku_repeat_data,on='辨识号',how='left').fillna('')\n",
    "\n",
    "result"
   ]
  },
  {
   "cell_type": "code",
   "execution_count": 23,
   "id": "abf9ceaa",
   "metadata": {},
   "outputs": [],
   "source": [
    "result['是否已开发']=''"
   ]
  },
  {
   "cell_type": "code",
   "execution_count": 24,
   "id": "677aed86",
   "metadata": {},
   "outputs": [],
   "source": [
    "result"
   ]
  },
  {
   "cell_type": "code",
   "execution_count": 25,
   "id": "6c2854ac",
   "metadata": {},
   "outputs": [],
   "source": [
    "for i in range(len(result)):\n",
    "    if result.loc[i,'清理后OE'] != '':\n",
    "        if result.loc[i,'重复PTSKU']!='':\n",
    "            result.loc[i,'是否已开发'] = '是'\n",
    "        else:\n",
    "            result.loc[i,'是否已开发'] = '否'\n",
    "    else:\n",
    "        result.loc[i,'是否已开发'] = '无OE号，待进一步确认'"
   ]
  },
  {
   "cell_type": "code",
   "execution_count": 26,
   "id": "75961329",
   "metadata": {},
   "outputs": [],
   "source": [
    "result"
   ]
  },
  {
   "cell_type": "code",
   "execution_count": 27,
   "id": "276d9b58",
   "metadata": {},
   "outputs": [],
   "source": [
    "result[result['是否已开发']=='无OE号，待进一步确认']"
   ]
  },
  {
   "cell_type": "code",
   "execution_count": 28,
   "id": "440d1f39",
   "metadata": {},
   "outputs": [],
   "source": [
    "import datetime"
   ]
  },
  {
   "cell_type": "code",
   "execution_count": 29,
   "id": "e22a8610",
   "metadata": {},
   "outputs": [],
   "source": [
    "result.to_excel(out.replace('NOW()', datetime.datetime.now().strftime(\"%Y%m%d_%H%M%S\")), index=False)"
   ]
  }
 ],
 "metadata": {
  "kernelspec": {
   "display_name": "Python 3 (ipykernel)",
   "language": "python",
   "name": "python3"
  },
  "language_info": {
   "codemirror_mode": {
    "name": "ipython",
    "version": 3
   },
   "file_extension": ".py",
   "mimetype": "text/x-python",
   "name": "python",
   "nbconvert_exporter": "python",
   "pygments_lexer": "ipython3",
   "version": "3.11.3"
  }
 },
 "nbformat": 4,
 "nbformat_minor": 5
}
