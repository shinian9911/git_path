{
 "cells": [
  {
   "cell_type": "code",
   "execution_count": 1,
   "id": "346b2eb6",
   "metadata": {},
   "outputs": [],
   "source": [
    "import pandas as pd\n",
    "import numpy as np\n",
    "import PySimpleGUI as sg\n",
    "import os\n",
    "import time\n",
    "from txdpy import get_letter,get_num\n",
    "import win32api,win32con\n",
    "from datetime import datetime\n",
    "import re\n",
    "import xlwings as xw\n",
    "import math"
   ]
  },
  {
   "cell_type": "code",
   "execution_count": 2,
   "id": "27ab4d1a",
   "metadata": {},
   "outputs": [],
   "source": [
    "# 读取excel数据\n",
    "def read_data(file_path,first_cell):\n",
    "    app = xw.App(visible=False, add_book=False)\n",
    "    wb = app.books.open(file_path) # 打开Excel文件\n",
    "    sheet = wb.sheets[0] # 选择第0个表单\n",
    "    data = sheet.range(first_cell).expand().value # 读取全表数据\n",
    "    cols = data[0]\n",
    "    df = pd.DataFrame(data[1:], columns=cols)\n",
    "    return df"
   ]
  },
  {
   "cell_type": "code",
   "execution_count": 3,
   "id": "fabe1c42",
   "metadata": {},
   "outputs": [
    {
     "name": "stdout",
     "output_type": "stream",
     "text": [
      "D:/DeskTop/Learn/6-Liz\n"
     ]
    }
   ],
   "source": [
    "root_path = sg.popup_get_folder(\"请选择根目录文件夹\")\n",
    "print(root_path)"
   ]
  },
  {
   "cell_type": "code",
   "execution_count": 4,
   "id": "5e4c34dc",
   "metadata": {},
   "outputs": [],
   "source": [
    "listing_path = root_path + '/listing'"
   ]
  },
  {
   "cell_type": "code",
   "execution_count": 5,
   "id": "64bbf53f",
   "metadata": {},
   "outputs": [],
   "source": [
    "start_time = time.time()"
   ]
  },
  {
   "cell_type": "code",
   "execution_count": 6,
   "id": "d4782c39",
   "metadata": {},
   "outputs": [
    {
     "data": {
      "text/plain": [
       "'D:/DeskTop/Learn/6-Liz/listing'"
      ]
     },
     "execution_count": 6,
     "metadata": {},
     "output_type": "execute_result"
    }
   ],
   "source": [
    "listing_path"
   ]
  },
  {
   "cell_type": "markdown",
   "id": "57638e23",
   "metadata": {},
   "source": [
    "## 1.0 读取数据"
   ]
  },
  {
   "cell_type": "code",
   "execution_count": 7,
   "id": "a66a1b83",
   "metadata": {},
   "outputs": [
    {
     "name": "stdout",
     "output_type": "stream",
     "text": [
      "D:/DeskTop/Learn/6-Liz/【新品专项】在途新品模板进度表_2023-8-21.xlsx\n",
      "size：10997\n",
      "读取时间为3.64秒钟\n"
     ]
    }
   ],
   "source": [
    "# 读取新品在途进度表\n",
    "old_time = time.time()\n",
    "for file in os.listdir(root_path):\n",
    "    if '$' not in file and '在途' in file and '进度表' in file and '结果' not in file:\n",
    "        progress_transit_path = root_path + '/' + file\n",
    "        print(progress_transit_path)\n",
    "        df_progress_transit = pd.read_excel(progress_transit_path,sheet_name=\"各账号上架情况跟踪表-在途\")\n",
    "        print(\"size：{}\".format(len(df_progress_transit)))\n",
    "print(\"读取时间为%.2f秒钟\"%(time.time()-old_time))"
   ]
  },
  {
   "cell_type": "code",
   "execution_count": 8,
   "id": "bf2adfad",
   "metadata": {},
   "outputs": [
    {
     "name": "stdout",
     "output_type": "stream",
     "text": [
      "D:/DeskTop/Learn/6-Liz/替代ok表_20230823_172141.xlsx\n",
      "size：40951\n",
      "读取时间为3.58秒钟\n"
     ]
    }
   ],
   "source": [
    "# 读取MRP替换料总表\n",
    "old_time = time.time()\n",
    "for file in os.listdir(root_path):\n",
    "    if '$' not in file and '替代ok' in file and '_' in file:\n",
    "        altersku_mrp_path = root_path + '/' + file\n",
    "        print(altersku_mrp_path)\n",
    "        df_altersku_mrp = pd.read_excel(altersku_mrp_path,header=0)[['主料SKU','替换料1','替换料2','替换料3','替换料4','替换料5','替换料6']]\n",
    "        df_altersku_mrp['sku_6'] = np.nan\n",
    "        print(\"size：{}\".format(len(df_altersku_mrp)))\n",
    "print(\"读取时间为%.2f秒钟\"%(time.time()-old_time))"
   ]
  },
  {
   "cell_type": "code",
   "execution_count": null,
   "id": "69eceb5a",
   "metadata": {},
   "outputs": [
    {
     "name": "stdout",
     "output_type": "stream",
     "text": [
      "====== D:/DeskTop/Learn/6-Liz/listing/2U-Listing20230818.xlsx——读取完成 ======\n",
      "====== D:/DeskTop/Learn/6-Liz/listing/AP-Listing20230818.083620.xlsx——读取完成 ======\n"
     ]
    }
   ],
   "source": [
    "# 读取listing\n",
    "list_listing = []\n",
    "old_time = time.time()\n",
    "for file in os.listdir(listing_path):\n",
    "    file_path = listing_path + '/' + file\n",
    "    if \"$\" not in file:\n",
    "        df = read_data(file_path,'A2')\n",
    "        df = df[['ItemID', 'Seller', '主SKU', 'SKU',  '刊登方式(天)', '在线数量','刊登日期']]\n",
    "        print(\"====== {}——读取完成 ======\".format(file_path))\n",
    "        list_listing.append(df)\n",
    "# 合并\n",
    "df_listing = pd.concat(list_listing)\n",
    "print(\"读取时间为%.2f秒钟\"%(time.time()-old_time))"
   ]
  },
  {
   "cell_type": "code",
   "execution_count": null,
   "id": "ddf6125b",
   "metadata": {},
   "outputs": [],
   "source": [
    "# seller对应不同的账号名称，分别为：\n",
    "# 2U: partswholesale2u\n",
    "# Ap: a-premium-us\n",
    "# US-T: total_autopart\n",
    "# 大账号: autoparts_premium\n",
    "# partswholesale2u,a-premium-us,total_autopart,autoparts_premium\n",
    "df_listing.head()"
   ]
  },
  {
   "cell_type": "markdown",
   "id": "d12e9ff7",
   "metadata": {},
   "source": [
    "## 2.0 listiing处理"
   ]
  },
  {
   "cell_type": "code",
   "execution_count": null,
   "id": "d11c3c20",
   "metadata": {},
   "outputs": [],
   "source": [
    "df_listing = df_listing.reset_index(drop=True)\n",
    "df_listing = df_listing.drop_duplicates()\n",
    "df_listing['ItemID'] = df_listing['ItemID'].apply(int)\n",
    "'size：{}'.format(len(df_listing))"
   ]
  },
  {
   "cell_type": "code",
   "execution_count": null,
   "id": "c39eb04a",
   "metadata": {},
   "outputs": [],
   "source": [
    "list_sku=df_listing['主SKU'].to_list()"
   ]
  },
  {
   "cell_type": "code",
   "execution_count": null,
   "id": "3066611c",
   "metadata": {},
   "outputs": [],
   "source": [
    "# 主SKU清洗\n",
    "def clear_sku(list_skux):\n",
    "    for i in range(0,len(list_skux)):\n",
    "        a = re.sub('\\（','(',list_skux[i])#转化(\n",
    "        a1 = re.sub('\\）',')',a)#转化）\n",
    "        a2 = re.sub('\\(.*?\\)','',a1)#删除（）内信息\n",
    "        a2 = re.sub('-测试','',a2)\n",
    "        a2 = re.sub('，','',a2)\n",
    "        a3 = re.sub(r'^[A-Z]{1,2}-{1}','',a2,count=1)#删除前缀\n",
    "        a4 = re.sub('-NC','',a3)#删除-NC后缀-少数，USOS24423H-NC，USIC02680I-6-NC(质量投诉，需退回检测)\n",
    "        a5 = re.sub('-N$','',a4)#删除-N后缀\n",
    "        y=re.sub('-Scion$','',a5)\n",
    "        z=re.sub(r'-Chevrolet$','',y)\n",
    "        h = re.sub('-1\\*2','*2',z)\n",
    "        j =re.sub('USIC20181/USIC65500','USIC65500',h)\n",
    "        k = re.sub('USBCB92767/USBC477563','USBC477563',j)\n",
    "        l = re.sub('USHLS29918/USHLS60843','USHLS60843',k)\n",
    "        m = re.sub('USGS436403','USGS43640B',l)\n",
    "        m1=re.sub(r'USDS36847case停售10.19','USDS36847',m)\n",
    "        n = re.sub('-US1$','',m1)\n",
    "        o = re.sub('-Ford$','',n)\n",
    "        p = re.sub('-MAP$','',o)\n",
    "        q = re.sub('-Dodge$','',p)\n",
    "        a6 = re.sub('-2021','',q)#删除后缀为-2021的SKU，USSGTE003-2021，USSGTE004-2021\n",
    "        z=re.sub('case较高暂停出售','',a6)\n",
    "        a7 = re.sub('-U$','',z)#删除后缀为-U的SKU，USGS47710-U，USIM15178-U先发测试\n",
    "        a8 = re.sub('-4Runner$','',a7)#删除后缀为-4runner的SKU，USIFTO001Z-4Runner\n",
    "        a9 = re.sub('-1A$','',a8)#删除后缀为‘-1A’的SKU,'-1AL'无误\n",
    "        a10 = re.sub('-1B$','',a9)#删除后缀为‘-1B’的SKU\n",
    "        a11 = re.sub('-1C$','',a10)#删除后缀为‘-1C’的SKU,'-1CA'无误\n",
    "        a12 = re.sub('-1D$','',a11)#删除后缀为‘-1D’的SKU\n",
    "        a13 = re.sub('-C1$','',a12)#删除后缀为‘-C1’的SKU\n",
    "        a14 = re.sub('-M$','',a13)#删除后缀为‘-M’的SKU\n",
    "        a15 = re.sub('-A$','',a14)#删除后缀为‘-A’的SKU\n",
    "        a16 = re.sub('-B$','',a15)#删除后缀为‘-B’的SKU\n",
    "        a17 = re.sub('-R2021$','-R',a16)\n",
    "        a18 = re.sub('-L2021$','-L',a17)#删除后缀‘2021’\n",
    "        a19= re.sub(' / ','/',a18)\n",
    "        a20=re.sub('-$','',a19)\n",
    "        a21=re.sub('-Rear$','',a20)\n",
    "        a22=re.sub('-1.7kw$','',a21)\n",
    "        a23=re.sub('-GMC$','',a22)\n",
    "        a24=re.sub('-AMC$','',a23)\n",
    "        a25=re.sub('-Chrysler$','',a24)\n",
    "        a26=re.sub('-JPN$','',a25)\n",
    "        a27=re.sub('-Other$','',a26)\n",
    "        a28=re.sub('-US2$','',a27)\n",
    "        a29=re.sub('-UR$','',a28)\n",
    "        a29=re.sub('-UK$','',a29)\n",
    "        a30=re.sub('-IT','',a29)\n",
    "        a30=re.sub('-Ford$','',a30)\n",
    "        a30=re.sub('-Left$','',a30)\n",
    "        a30=re.sub('-Chevrolet$','',a30)\n",
    "        a30=re.sub('-Dodge$','',a30)\n",
    "        a30=re.sub('-N$','',a30)\n",
    "        a30=re.sub('-D$','',a30)\n",
    "        a32=re.sub('-DE$','',a30)\n",
    "        a34=re.sub('-GMC1$','',a32)\n",
    "        a35=re.sub('-GMC22$','',a34)\n",
    "        a36=re.sub('-GMC2$','',a35)\n",
    "        a37=re.sub('-Dodge Other$','',a36)\n",
    "        a38=re.sub('-Dodge Ram$','',a37)\n",
    "        a39=re.sub('-Oldsmobile$','',a38)\n",
    "        a40=re.sub('-Reservoir$','',a39)\n",
    "        a41=re.sub(r'-Chevy[0-9]{0,1}$','',a40)\n",
    "        a42=re.sub(r'-UP$','',a41)\n",
    "        a43=re.sub(r'-Return$','',a42)\n",
    "        a44=re.sub(r'-MF$','',a43)\n",
    "        a45=re.sub(r'-Front$','',a44)\n",
    "        a46=re.sub(r'-Nissan$','',a45)\n",
    "        a46=re.sub(r'-Toyota$','',a46)\n",
    "        a46=re.sub(r'-VW$','',a46)\n",
    "        a46=re.sub(r'-RH$','',a46)\n",
    "        a46=re.sub(r'pin','',a46)\n",
    "        a46=re.sub(r'-Case','',a46)\n",
    "        a46=re.sub(r'-Saab','',a46)\n",
    "        a46=re.sub(r'Note','',a46)\n",
    "        a46=re.sub(r'\\)','',a46)\n",
    "        a46 = re.sub(r'[\\u4e00-\\u9fa5]', '', a46)\n",
    "        a46 = re.sub(r'\\-C','',a46)\n",
    "        a46 = re.sub(r'\\*','-',a46)\n",
    "        a46=a46.rstrip('/')\n",
    "        a46=a46.rstrip('+')\n",
    "        a46=a46.strip()\n",
    "        a46=a46.split('(')[0]\n",
    "        list_skux[i]=a46\n",
    "    return list_skux"
   ]
  },
  {
   "cell_type": "code",
   "execution_count": null,
   "id": "314a2d7a",
   "metadata": {},
   "outputs": [],
   "source": [
    "list_sku = clear_sku(list_sku)\n",
    "df_listing['处理后SKU'] = list_sku"
   ]
  },
  {
   "cell_type": "code",
   "execution_count": null,
   "id": "dd69a477",
   "metadata": {},
   "outputs": [],
   "source": [
    "# 处理异常UUS的SKU\n",
    "index_u = df_listing[df_listing['处理后SKU'].str.startswith('UUS')].index.tolist()\n",
    "for i in index_u:\n",
    "    df_listing.loc[i,'处理后SKU'] = df_listing.loc[i,'处理后SKU'][1:]\n",
    "    list_sku[i] = list_sku[i][1:]"
   ]
  },
  {
   "cell_type": "code",
   "execution_count": null,
   "id": "7c512edf",
   "metadata": {},
   "outputs": [],
   "source": [
    "# MRP替换料\n",
    "df_altersku_mrp_alt =  df_altersku_mrp\n",
    "df_altersku_mrp_alt = df_altersku_mrp_alt.copy()\n",
    "df_altersku_mrp_alt['替换料SKU'] = df_altersku_mrp_alt.apply(lambda x: ','.join(x[x.notnull()]).split(','),axis=1)\n",
    "df_altersku_mrp_alt_e = df_altersku_mrp_alt[['替换料SKU']].explode('替换料SKU')\n",
    "list_altersku_mrp = df_altersku_mrp_alt_e['替换料SKU'].tolist()"
   ]
  },
  {
   "cell_type": "code",
   "execution_count": null,
   "id": "aa83c40c",
   "metadata": {},
   "outputs": [],
   "source": [
    "# 给替代料增加标识符row\n",
    "index_list = list(df_altersku_mrp_alt_e.index)\n",
    "index_list = [str(x+1) for x in index_list]\n",
    "df_altersku_mrp_alt_e['row'] = index_list\n",
    "df_altersku_mrp_alt_e.columns = ['SKU', 'row']\n",
    "df_altersku_mrp_alt_e = df_altersku_mrp_alt_e.drop_duplicates(keep='first')\n",
    "# df_altersku_mrp_alt_e"
   ]
  },
  {
   "cell_type": "markdown",
   "id": "887fadee",
   "metadata": {},
   "source": [
    "# 3.0 在途表匹配对应账号刊登时间"
   ]
  },
  {
   "cell_type": "markdown",
   "id": "157ed641",
   "metadata": {},
   "source": [
    "## 3.1 获取对应账号listing"
   ]
  },
  {
   "cell_type": "code",
   "execution_count": 552,
   "id": "a25e098f",
   "metadata": {},
   "outputs": [],
   "source": [
    "# 按照'seller'分组，对每个分组应用函数进行去重\n",
    "def keep_earliest_time(group):\n",
    "    return group.sort_values(by='刊登日期').drop_duplicates(subset='row', keep='first')"
   ]
  },
  {
   "cell_type": "code",
   "execution_count": 553,
   "id": "70d050fa",
   "metadata": {},
   "outputs": [],
   "source": [
    "# 筛选listing需要的列数\n",
    "df_listing_tmp = df_listing\n",
    "df_listing_tmp = df_listing_tmp[['Seller','处理后SKU','刊登日期']]\n",
    "df_listing_tmp.columns = ['Seller','SKU', '刊登日期']\n",
    "df_listing_tmp = df_listing_tmp.copy()\n",
    "df_listing_tmp['刊登日期'] = pd.to_datetime(df_listing_tmp['刊登日期'], errors='coerce')"
   ]
  },
  {
   "cell_type": "code",
   "execution_count": 554,
   "id": "5822c20a",
   "metadata": {},
   "outputs": [
    {
     "data": {
      "text/html": [
       "<div>\n",
       "<style scoped>\n",
       "    .dataframe tbody tr th:only-of-type {\n",
       "        vertical-align: middle;\n",
       "    }\n",
       "\n",
       "    .dataframe tbody tr th {\n",
       "        vertical-align: top;\n",
       "    }\n",
       "\n",
       "    .dataframe thead th {\n",
       "        text-align: right;\n",
       "    }\n",
       "</style>\n",
       "<table border=\"1\" class=\"dataframe\">\n",
       "  <thead>\n",
       "    <tr style=\"text-align: right;\">\n",
       "      <th></th>\n",
       "      <th>Seller</th>\n",
       "      <th>SKU</th>\n",
       "      <th>刊登日期</th>\n",
       "      <th>row</th>\n",
       "    </tr>\n",
       "  </thead>\n",
       "  <tbody>\n",
       "    <tr>\n",
       "      <th>0</th>\n",
       "      <td>a-premium-us</td>\n",
       "      <td>USGS63320</td>\n",
       "      <td>2017-04-02 15:04:17</td>\n",
       "      <td>22792</td>\n",
       "    </tr>\n",
       "    <tr>\n",
       "      <th>1</th>\n",
       "      <td>a-premium-us</td>\n",
       "      <td>USGS41590</td>\n",
       "      <td>2017-04-02 15:04:22</td>\n",
       "      <td>21824</td>\n",
       "    </tr>\n",
       "    <tr>\n",
       "      <th>2</th>\n",
       "      <td>a-premium-us</td>\n",
       "      <td>USGS61780</td>\n",
       "      <td>2017-04-02 15:04:27</td>\n",
       "      <td>22739</td>\n",
       "    </tr>\n",
       "    <tr>\n",
       "      <th>3</th>\n",
       "      <td>a-premium-us</td>\n",
       "      <td>USGS65010</td>\n",
       "      <td>2017-04-02 15:04:48</td>\n",
       "      <td>22842</td>\n",
       "    </tr>\n",
       "    <tr>\n",
       "      <th>4</th>\n",
       "      <td>a-premium-us</td>\n",
       "      <td>USGS43790</td>\n",
       "      <td>2017-04-02 15:04:53</td>\n",
       "      <td>22611</td>\n",
       "    </tr>\n",
       "  </tbody>\n",
       "</table>\n",
       "</div>"
      ],
      "text/plain": [
       "         Seller        SKU                刊登日期    row\n",
       "0  a-premium-us  USGS63320 2017-04-02 15:04:17  22792\n",
       "1  a-premium-us  USGS41590 2017-04-02 15:04:22  21824\n",
       "2  a-premium-us  USGS61780 2017-04-02 15:04:27  22739\n",
       "3  a-premium-us  USGS65010 2017-04-02 15:04:48  22842\n",
       "4  a-premium-us  USGS43790 2017-04-02 15:04:53  22611"
      ]
     },
     "execution_count": 554,
     "metadata": {},
     "output_type": "execute_result"
    }
   ],
   "source": [
    "# listing的SKU匹配到对应替代料的row\n",
    "df_listing_tmp = pd.merge(left=df_listing_tmp, right=df_altersku_mrp_alt_e, how='left', left_on='SKU', right_on='SKU').fillna('')\n",
    "df_listing_tmp = df_listing_tmp.groupby('Seller').apply(keep_earliest_time).reset_index(drop=True)\n",
    "df_listing_tmp = df_listing_tmp.reset_index(drop=True)\n",
    "df_listing_tmp.head()"
   ]
  },
  {
   "cell_type": "code",
   "execution_count": 555,
   "id": "ed7cc081",
   "metadata": {},
   "outputs": [],
   "source": [
    "# 选择ap账号的listing\n",
    "df_listing_ap = df_listing_tmp[df_listing_tmp['Seller']=='a-premium-us']\n",
    "df_listing_2u = df_listing_tmp[df_listing_tmp['Seller']=='partswholesale2u']\n",
    "df_listing_total = df_listing_tmp[df_listing_tmp['Seller']=='total_autopart']"
   ]
  },
  {
   "cell_type": "markdown",
   "id": "113d8800",
   "metadata": {},
   "source": [
    "## 3.2在途表匹配对应账号信息"
   ]
  },
  {
   "cell_type": "code",
   "execution_count": 687,
   "id": "8cf34ee2",
   "metadata": {},
   "outputs": [],
   "source": [
    "# 在途表标记原始行号\n",
    "df_progress_transit['原始行号'] = [int(i+2) for i in range(df_progress_transit.shape[0])]\n",
    "df_progress_transit_tmp = df_progress_transit\n",
    "df_progress_transit_tmp = pd.merge(left=df_progress_transit_tmp, right=df_altersku_mrp_alt_e, how='left', left_on='SKU', right_on='SKU')"
   ]
  },
  {
   "cell_type": "code",
   "execution_count": 688,
   "id": "75eeac24",
   "metadata": {},
   "outputs": [],
   "source": [
    "def convert_to_datetime(value):\n",
    "    if isinstance(value, str):\n",
    "        try:\n",
    "            return datetime.strptime(value, '%Y/%m/%d')\n",
    "        except ValueError:\n",
    "            return value  # 如果无法转换为日期时间格式，保持原值\n",
    "    elif pd.isna(value):  # 如果是 NaT，则保持原值\n",
    "        return value\n",
    "    else:\n",
    "        return value  # 如果已经是日期时间格式，保持原值"
   ]
  },
  {
   "cell_type": "code",
   "execution_count": 689,
   "id": "55a7e0a2",
   "metadata": {},
   "outputs": [],
   "source": [
    "df_progress_transit_tmp['大账号'] = df_progress_transit_tmp['大账号'].apply(convert_to_datetime)\n",
    "df_progress_transit_tmp['ap'] = df_progress_transit_tmp['ap'].apply(convert_to_datetime)\n",
    "df_progress_transit_tmp['2u'] = df_progress_transit_tmp['2u'].apply(convert_to_datetime)\n",
    "df_progress_transit_tmp['total'] = df_progress_transit_tmp['total'].apply(convert_to_datetime)"
   ]
  },
  {
   "cell_type": "code",
   "execution_count": null,
   "id": "52bd9c73",
   "metadata": {},
   "outputs": [],
   "source": []
  },
  {
   "cell_type": "code",
   "execution_count": null,
   "id": "96001118",
   "metadata": {},
   "outputs": [],
   "source": []
  },
  {
   "cell_type": "code",
   "execution_count": 690,
   "id": "ef696c27",
   "metadata": {},
   "outputs": [],
   "source": [
    "# 选择大账号不为空\n",
    "df_progress_transit_tmp = df_progress_transit_tmp[pd.notna(df_progress_transit_tmp['大账号'])].reset_index(drop=True)\n",
    "\n",
    "# 选择大账号不为空，ap账号为空的值\n",
    "df_ap = df_progress_transit_tmp[pd.isna(df_progress_transit_tmp['ap'])].reset_index(drop=True).fillna('')\n",
    "\n",
    "# 选择大账号不为空，2u账号为空的值\n",
    "df_2u = df_progress_transit_tmp[(pd.isna(df_progress_transit_tmp['2u']))].reset_index(drop=True).fillna('')\n",
    "\n",
    "# 选择大账号不为空，total账号为空的值\n",
    "df_total = df_progress_transit_tmp[(pd.isna(df_progress_transit_tmp['total']))].reset_index(drop=True).fillna('')"
   ]
  },
  {
   "cell_type": "code",
   "execution_count": 573,
   "id": "105b264f",
   "metadata": {},
   "outputs": [],
   "source": [
    "# df_progress_transit_tmp"
   ]
  },
  {
   "cell_type": "markdown",
   "id": "c27b747c",
   "metadata": {},
   "source": [
    "### 3.3 在途匹配Ap账号信息"
   ]
  },
  {
   "cell_type": "code",
   "execution_count": 691,
   "id": "8eac12e6",
   "metadata": {},
   "outputs": [],
   "source": [
    "# 选择有row值来匹配相关替代料，无row值的则为没有替代料，后续直接根据SKU匹配刊登时间\n",
    "df_ap_row = df_ap[df_ap['row']!=''].reset_index(drop=True)\n",
    "df_ap_row = pd.merge(left=df_ap_row, \n",
    "                     right=df_listing_ap, \n",
    "                     how='left', \n",
    "                     left_on='row', \n",
    "                     right_on='row', \n",
    "                     suffixes=('','_x'))\n",
    "df_ap_row['ap'] = [pd.NaT if pd.isna(df_ap_row.loc[i,'刊登日期']) else df_ap_row.loc[i,'刊登日期'] for i in range(df_ap_row.shape[0])]\n",
    "df_ap_row = df_ap_row[df_ap_row.columns[:-3]]\n",
    "# df_ap_row"
   ]
  },
  {
   "cell_type": "code",
   "execution_count": 692,
   "id": "931119d7",
   "metadata": {},
   "outputs": [],
   "source": [
    "# 无row值的则为没有替代料，直接根据SKU匹配刊登时间\n",
    "df_ap_notrow = df_ap[df_ap['row']==''].reset_index(drop=True)\n",
    "df_ap_notrow = pd.merge(left=df_ap_notrow, \n",
    "                        right=df_listing_ap, \n",
    "                        how='left', \n",
    "                        left_on='SKU',\n",
    "                        right_on='SKU', \n",
    "                        suffixes=('','_x'))\n",
    "df_ap_notrow['ap'] = [df_ap_notrow.loc[i,'ap'] if pd.isna(df_ap_notrow.loc[i,'刊登日期']) else df_ap_notrow.loc[i,'刊登日期'] for i in range(df_ap_notrow.shape[0])]\n",
    "df_ap_notrow = df_ap_notrow[df_ap_notrow.columns[:-3]]\n",
    "# df_ap_notrow"
   ]
  },
  {
   "cell_type": "code",
   "execution_count": 693,
   "id": "b47b1795",
   "metadata": {},
   "outputs": [],
   "source": [
    "df_ap_tmp = pd.concat([df_ap_row,df_ap_notrow])\n",
    "df_ap_tmp = df_ap_tmp.sort_values(by='原始行号').reset_index(drop=True)\n",
    "# df_ap_tmp"
   ]
  },
  {
   "cell_type": "markdown",
   "id": "ba9a6100",
   "metadata": {},
   "source": [
    "### 3.4 在途匹配2u账号信息"
   ]
  },
  {
   "cell_type": "code",
   "execution_count": 694,
   "id": "08e9c2c1",
   "metadata": {},
   "outputs": [],
   "source": [
    "# 选择有row值来匹配相关替代料，无row值的则为没有替代料，后续直接根据SKU匹配刊登时间\n",
    "df_2u_row = df_2u[df_2u['row']!=''].reset_index(drop=True)\n",
    "df_2u_row = pd.merge(left=df_2u_row, \n",
    "                     right=df_listing_2u, \n",
    "                     how='left', \n",
    "                     left_on='row',\n",
    "                     right_on='row', \n",
    "                     suffixes=('','_x'))\n",
    "df_2u_row['2u'] = [pd.NaT if pd.isna(df_2u_row.loc[i,'刊登日期']) else df_2u_row.loc[i,'刊登日期'] for i in range(df_2u_row.shape[0])]\n",
    "df_2u_row = df_2u_row[df_2u_row.columns[:-3]]\n",
    "# len(df_2u_row)"
   ]
  },
  {
   "cell_type": "code",
   "execution_count": 695,
   "id": "d399d046",
   "metadata": {},
   "outputs": [],
   "source": [
    "# 无row值的则为没有替代料，直接根据SKU匹配刊登时间\n",
    "df_2u_notrow = df_2u[df_2u['row']==''].reset_index(drop=True)\n",
    "df_2u_notrow = pd.merge(left=df_2u_notrow, \n",
    "                        right=df_listing_2u,\n",
    "                        how='left',\n",
    "                        left_on='SKU', \n",
    "                        right_on='SKU',\n",
    "                        suffixes=('','_x'))\n",
    "df_2u_notrow['2u'] = [df_2u_notrow.loc[i,'2u'] if pd.isna(df_2u_notrow.loc[i,'刊登日期']) else df_2u_notrow.loc[i,'刊登日期'] for i in range(df_2u_notrow.shape[0])]\n",
    "df_2u_notrow = df_2u_notrow[df_2u_notrow.columns[:-3]]\n",
    "# df_2u_notrow"
   ]
  },
  {
   "cell_type": "code",
   "execution_count": 696,
   "id": "112c280c",
   "metadata": {},
   "outputs": [],
   "source": [
    "df_2u_tmp = pd.concat([df_2u_row,df_2u_notrow])\n",
    "df_2u_tmp = df_2u_tmp.sort_values(by='原始行号').reset_index(drop=True)\n",
    "# df_2u_tmp"
   ]
  },
  {
   "cell_type": "code",
   "execution_count": null,
   "id": "47bb7f7b",
   "metadata": {},
   "outputs": [],
   "source": []
  },
  {
   "cell_type": "markdown",
   "id": "f5ab53e4",
   "metadata": {},
   "source": [
    "### 3.5 在途匹配US-T(Total)账号信息"
   ]
  },
  {
   "cell_type": "code",
   "execution_count": 697,
   "id": "fb88cd3d",
   "metadata": {},
   "outputs": [],
   "source": [
    "# 选择有row值来匹配相关替代料，无row值的则为没有替代料，后续直接根据SKU匹配刊登时间\n",
    "df_total_row = df_total[df_total['row']!=''].reset_index(drop=True)\n",
    "df_total_row = pd.merge(left=df_total_row, \n",
    "                        right=df_listing_total,\n",
    "                        how='left', \n",
    "                        left_on='row', \n",
    "                        right_on='row', \n",
    "                        suffixes=('','_x'))\n",
    "df_total_row['total'] = [pd.NaT if pd.isna(df_total_row.loc[i,'刊登日期']) else df_total_row.loc[i,'刊登日期'] for i in range(df_total_row.shape[0])]\n",
    "df_total_row = df_total_row[df_total_row.columns[:-3]]\n",
    "# df_total_row"
   ]
  },
  {
   "cell_type": "code",
   "execution_count": 698,
   "id": "37eeb1bf",
   "metadata": {},
   "outputs": [],
   "source": [
    "# 无row值的则为没有替代料，直接根据SKU匹配刊登时间\n",
    "df_total_notrow = df_total[df_total['row']==''].reset_index(drop=True)\n",
    "df_total_notrow = pd.merge(left=df_total_notrow, \n",
    "                           right=df_listing_total,\n",
    "                           how='left', left_on='SKU', \n",
    "                           right_on='SKU', \n",
    "                           suffixes=('','_x'))\n",
    "df_total_notrow['total'] = [df_total_notrow.loc[i,'total'] if pd.isna(df_total_notrow.loc[i,'刊登日期']) else df_total_notrow.loc[i,'刊登日期'] for i in range(df_total_notrow.shape[0])]\n",
    "df_total_notrow = df_total_notrow[df_total_notrow.columns[:-3]]\n",
    "# df_total_notrow"
   ]
  },
  {
   "cell_type": "code",
   "execution_count": 699,
   "id": "da146931",
   "metadata": {},
   "outputs": [],
   "source": [
    "df_total_tmp = pd.concat([df_total_row,df_total_notrow])\n",
    "df_total_tmp = df_total_tmp.sort_values(by='原始行号').reset_index(drop=True)\n",
    "# df_total_tmp[pd.notna(df_total_tmp['total'])]\n",
    "# df_total_tmp"
   ]
  },
  {
   "cell_type": "markdown",
   "id": "e26af531",
   "metadata": {},
   "source": [
    "## 3.6将信息匹配回原来的表格里"
   ]
  },
  {
   "cell_type": "code",
   "execution_count": 700,
   "id": "26b83e99",
   "metadata": {},
   "outputs": [],
   "source": [
    "# 将匹配到的ap账号的时间匹配到原来大账号不为空的总表里\n",
    "df_progress_transit_tmp2 = df_progress_transit_tmp\n",
    "df_ap_tmp = df_ap_tmp[['ap', '原始行号']]\n",
    "df_progress_transit_tmp2 = pd.merge(left=df_progress_transit_tmp2, \n",
    "                                    right=df_ap_tmp, \n",
    "                                    how='left', \n",
    "                                    left_on='原始行号', \n",
    "                                    right_on='原始行号', \n",
    "                                    suffixes=('','_x')).fillna('')\n",
    "df_progress_transit_tmp2['ap_x'] = df_progress_transit_tmp2['ap_x'].where(df_progress_transit_tmp2['ap_x'].isna(), '' )\n",
    "df_progress_transit_tmp2['ap_x'] = df_progress_transit_tmp2['ap_x'].where(pd.isna(df_progress_transit_tmp2['ap_x']), '' )\n",
    "df_progress_transit_tmp2['ap'] = [df_progress_transit_tmp2.loc[i,'ap_x'] if (df_progress_transit_tmp2.loc[i,'ap_x']!='') else df_progress_transit_tmp2.loc[i,'ap'] for i in range(df_progress_transit_tmp2.shape[0])]\n",
    "df_progress_transit_tmp2 = df_progress_transit_tmp2[df_progress_transit_tmp2.columns[:-1]]"
   ]
  },
  {
   "cell_type": "code",
   "execution_count": 701,
   "id": "ad002a06",
   "metadata": {},
   "outputs": [],
   "source": [
    "# 将匹配到的2u账号的时间匹配到原来大账号不为空的总表里\n",
    "df_2u_tmp = df_2u_tmp[['2u', '原始行号']]\n",
    "df_progress_transit_tmp2 = pd.merge(left=df_progress_transit_tmp2, right=df_2u_tmp, how='left', left_on='原始行号', right_on='原始行号', suffixes=('','_x')).fillna('')\n",
    "df_progress_transit_tmp2['2u'] = [df_progress_transit_tmp2.loc[i,'2u_x'] if pd.notna(df_progress_transit_tmp2.loc[i,'2u_x']) else df_progress_transit_tmp2.loc[i,'2u'] for i in range(df_progress_transit_tmp2.shape[0])]\n",
    "# df_progress_transit_tmp2 = df_progress_transit_tmp2 = df_progress_transit_tmp2[df_progress_transit_tmp2.columns[:-1]]"
   ]
  },
  {
   "cell_type": "code",
   "execution_count": 702,
   "id": "2df36768",
   "metadata": {},
   "outputs": [],
   "source": [
    "# 将匹配到的 US-T 账号的时间匹配到原来大账号不为空的总表里\n",
    "df_total_tmp = df_total_tmp[['total', '原始行号']]\n",
    "df_progress_transit_tmp2 = pd.merge(left=df_progress_transit_tmp2, \n",
    "                                    right=df_total_tmp, how='left', \n",
    "                                    left_on='原始行号', \n",
    "                                    right_on='原始行号',\n",
    "                                    suffixes=('','_x')).fillna('')\n",
    "df_progress_transit_tmp2['total'] = [df_progress_transit_tmp2.loc[i,'total_x'] if pd.notna(df_progress_transit_tmp2.loc[i,'total_x']) else df_progress_transit_tmp2.loc[i,'total'] for i in range(df_progress_transit_tmp2.shape[0])]\n",
    "df_progress_transit_tmp2 = df_progress_transit_tmp2 = df_progress_transit_tmp2[df_progress_transit_tmp2.columns[:-1]]"
   ]
  },
  {
   "cell_type": "code",
   "execution_count": 703,
   "id": "d902bd92",
   "metadata": {},
   "outputs": [],
   "source": [
    "df_progress_transit_tmp2 = df_progress_transit_tmp2[df_progress_transit_tmp2.columns[:-2]]"
   ]
  },
  {
   "cell_type": "code",
   "execution_count": 704,
   "id": "b71b1300",
   "metadata": {},
   "outputs": [
    {
     "data": {
      "text/plain": [
       "8052"
      ]
     },
     "execution_count": 704,
     "metadata": {},
     "output_type": "execute_result"
    }
   ],
   "source": [
    "len(df_progress_transit_tmp2)"
   ]
  },
  {
   "cell_type": "code",
   "execution_count": 708,
   "id": "69d5ddea",
   "metadata": {},
   "outputs": [
    {
     "data": {
      "text/html": [
       "<div>\n",
       "<style scoped>\n",
       "    .dataframe tbody tr th:only-of-type {\n",
       "        vertical-align: middle;\n",
       "    }\n",
       "\n",
       "    .dataframe tbody tr th {\n",
       "        vertical-align: top;\n",
       "    }\n",
       "\n",
       "    .dataframe thead th {\n",
       "        text-align: right;\n",
       "    }\n",
       "</style>\n",
       "<table border=\"1\" class=\"dataframe\">\n",
       "  <thead>\n",
       "    <tr style=\"text-align: right;\">\n",
       "      <th></th>\n",
       "      <th>Unnamed: 0</th>\n",
       "      <th>跟踪号</th>\n",
       "      <th>目的仓库</th>\n",
       "      <th>品类</th>\n",
       "      <th>英文名称</th>\n",
       "      <th>SKU</th>\n",
       "      <th>层别</th>\n",
       "      <th>周销</th>\n",
       "      <th>上架数量</th>\n",
       "      <th>发货时间</th>\n",
       "      <th>...</th>\n",
       "      <th>实际上架时间</th>\n",
       "      <th>图片</th>\n",
       "      <th>上架记录</th>\n",
       "      <th>Listing检查</th>\n",
       "      <th>大账号</th>\n",
       "      <th>ap</th>\n",
       "      <th>2u</th>\n",
       "      <th>total</th>\n",
       "      <th>号码</th>\n",
       "      <th>原始行号</th>\n",
       "    </tr>\n",
       "  </thead>\n",
       "  <tbody>\n",
       "    <tr>\n",
       "      <th>0</th>\n",
       "      <td></td>\n",
       "      <td></td>\n",
       "      <td></td>\n",
       "      <td>BHH</td>\n",
       "      <td></td>\n",
       "      <td>USBHH04472+USBHH01484</td>\n",
       "      <td></td>\n",
       "      <td></td>\n",
       "      <td>0.0</td>\n",
       "      <td>NaT</td>\n",
       "      <td>...</td>\n",
       "      <td></td>\n",
       "      <td>有图</td>\n",
       "      <td>1.0</td>\n",
       "      <td></td>\n",
       "      <td>2022-10-31 00:00:00</td>\n",
       "      <td>2023-07-27 16:26:44</td>\n",
       "      <td>NaT</td>\n",
       "      <td>NaT</td>\n",
       "      <td></td>\n",
       "      <td>2</td>\n",
       "    </tr>\n",
       "    <tr>\n",
       "      <th>1</th>\n",
       "      <td></td>\n",
       "      <td>CRSU9359852</td>\n",
       "      <td>美西仓库</td>\n",
       "      <td>RAD</td>\n",
       "      <td></td>\n",
       "      <td>USRAD02997</td>\n",
       "      <td>普通</td>\n",
       "      <td>0</td>\n",
       "      <td>1.0</td>\n",
       "      <td>2022-09-07</td>\n",
       "      <td>...</td>\n",
       "      <td>44859</td>\n",
       "      <td>有图</td>\n",
       "      <td>1.0</td>\n",
       "      <td></td>\n",
       "      <td>2022-10-28 00:00:00</td>\n",
       "      <td>2023-08-09 16:15:16</td>\n",
       "      <td>2022-11-22 19:08:08</td>\n",
       "      <td>2022-11-22 16:39:06</td>\n",
       "      <td>2997;2897;253100W100</td>\n",
       "      <td>3</td>\n",
       "    </tr>\n",
       "    <tr>\n",
       "      <th>2</th>\n",
       "      <td></td>\n",
       "      <td>JXLU7830822</td>\n",
       "      <td>美中仓库</td>\n",
       "      <td>RAD</td>\n",
       "      <td></td>\n",
       "      <td>USRAD10227</td>\n",
       "      <td>TOP20</td>\n",
       "      <td>0.21</td>\n",
       "      <td>1.0</td>\n",
       "      <td>2022-09-05</td>\n",
       "      <td>...</td>\n",
       "      <td>44859</td>\n",
       "      <td>有图</td>\n",
       "      <td>1.0</td>\n",
       "      <td></td>\n",
       "      <td>2022-10-28 00:00:00</td>\n",
       "      <td>2023-07-05 15:27:14</td>\n",
       "      <td>2022-11-21 18:35:32</td>\n",
       "      <td>2022-11-22 16:41:15</td>\n",
       "      <td>227;CU227;8011107;E6AH8005BB;E6AH8005DB;E6AZ80...</td>\n",
       "      <td>4</td>\n",
       "    </tr>\n",
       "    <tr>\n",
       "      <th>3</th>\n",
       "      <td></td>\n",
       "      <td></td>\n",
       "      <td></td>\n",
       "      <td></td>\n",
       "      <td></td>\n",
       "      <td>USBHH01286*2+USBHH01288*2</td>\n",
       "      <td></td>\n",
       "      <td></td>\n",
       "      <td>0.0</td>\n",
       "      <td>NaT</td>\n",
       "      <td>...</td>\n",
       "      <td></td>\n",
       "      <td>有图</td>\n",
       "      <td>1.0</td>\n",
       "      <td></td>\n",
       "      <td>2022-10-31 00:00:00</td>\n",
       "      <td>2023-07-27 16:27:59</td>\n",
       "      <td>NaT</td>\n",
       "      <td>NaT</td>\n",
       "      <td></td>\n",
       "      <td>5</td>\n",
       "    </tr>\n",
       "    <tr>\n",
       "      <th>4</th>\n",
       "      <td></td>\n",
       "      <td>TXGU5691325</td>\n",
       "      <td>美西仓库</td>\n",
       "      <td>CA</td>\n",
       "      <td>Control Arm</td>\n",
       "      <td>USCAK13279</td>\n",
       "      <td>普通</td>\n",
       "      <td>0</td>\n",
       "      <td>5.0</td>\n",
       "      <td>2022-08-31</td>\n",
       "      <td>...</td>\n",
       "      <td>44845</td>\n",
       "      <td>有图</td>\n",
       "      <td>1.0</td>\n",
       "      <td></td>\n",
       "      <td>2022-10-28 00:00:00</td>\n",
       "      <td>2023-08-08 16:21:02</td>\n",
       "      <td>2022-12-16 18:34:05</td>\n",
       "      <td>2022-12-17 10:18:21</td>\n",
       "      <td>ES2004S;ES3379T;ES3380T;K6187T;K5254(9件套)</td>\n",
       "      <td>6</td>\n",
       "    </tr>\n",
       "    <tr>\n",
       "      <th>...</th>\n",
       "      <td>...</td>\n",
       "      <td>...</td>\n",
       "      <td>...</td>\n",
       "      <td>...</td>\n",
       "      <td>...</td>\n",
       "      <td>...</td>\n",
       "      <td>...</td>\n",
       "      <td>...</td>\n",
       "      <td>...</td>\n",
       "      <td>...</td>\n",
       "      <td>...</td>\n",
       "      <td>...</td>\n",
       "      <td>...</td>\n",
       "      <td>...</td>\n",
       "      <td>...</td>\n",
       "      <td>...</td>\n",
       "      <td>...</td>\n",
       "      <td>...</td>\n",
       "      <td>...</td>\n",
       "      <td>...</td>\n",
       "      <td>...</td>\n",
       "    </tr>\n",
       "    <tr>\n",
       "      <th>10992</th>\n",
       "      <td>NaN</td>\n",
       "      <td>组合</td>\n",
       "      <td>NaN</td>\n",
       "      <td>NaN</td>\n",
       "      <td>NaN</td>\n",
       "      <td>USCLK04252-C+USFLW62062-C</td>\n",
       "      <td>NaN</td>\n",
       "      <td>NaN</td>\n",
       "      <td>NaN</td>\n",
       "      <td>NaT</td>\n",
       "      <td>...</td>\n",
       "      <td>NaN</td>\n",
       "      <td>NaN</td>\n",
       "      <td>NaN</td>\n",
       "      <td>NaN</td>\n",
       "      <td>NaN</td>\n",
       "      <td>NaN</td>\n",
       "      <td>NaT</td>\n",
       "      <td>NaT</td>\n",
       "      <td>NaN</td>\n",
       "      <td>10994</td>\n",
       "    </tr>\n",
       "    <tr>\n",
       "      <th>10993</th>\n",
       "      <td>NaN</td>\n",
       "      <td>组合</td>\n",
       "      <td>NaN</td>\n",
       "      <td>NaN</td>\n",
       "      <td>NaN</td>\n",
       "      <td>USEAF11258-C+USCAF10134-C</td>\n",
       "      <td>NaN</td>\n",
       "      <td>NaN</td>\n",
       "      <td>NaN</td>\n",
       "      <td>NaT</td>\n",
       "      <td>...</td>\n",
       "      <td>NaN</td>\n",
       "      <td>NaN</td>\n",
       "      <td>NaN</td>\n",
       "      <td>NaN</td>\n",
       "      <td>NaN</td>\n",
       "      <td>NaN</td>\n",
       "      <td>NaT</td>\n",
       "      <td>NaT</td>\n",
       "      <td>NaN</td>\n",
       "      <td>10995</td>\n",
       "    </tr>\n",
       "    <tr>\n",
       "      <th>10994</th>\n",
       "      <td>NaN</td>\n",
       "      <td>组合</td>\n",
       "      <td>NaN</td>\n",
       "      <td>NaN</td>\n",
       "      <td>NaN</td>\n",
       "      <td>USOC18303-GMC</td>\n",
       "      <td>NaN</td>\n",
       "      <td>NaN</td>\n",
       "      <td>NaN</td>\n",
       "      <td>NaT</td>\n",
       "      <td>...</td>\n",
       "      <td>NaN</td>\n",
       "      <td>NaN</td>\n",
       "      <td>NaN</td>\n",
       "      <td>NaN</td>\n",
       "      <td>NaN</td>\n",
       "      <td>NaN</td>\n",
       "      <td>NaT</td>\n",
       "      <td>NaT</td>\n",
       "      <td>NaN</td>\n",
       "      <td>10996</td>\n",
       "    </tr>\n",
       "    <tr>\n",
       "      <th>10995</th>\n",
       "      <td>NaN</td>\n",
       "      <td>组合</td>\n",
       "      <td>NaN</td>\n",
       "      <td>NaN</td>\n",
       "      <td>NaN</td>\n",
       "      <td>USKS88311-C+USKS88316-C</td>\n",
       "      <td>NaN</td>\n",
       "      <td>NaN</td>\n",
       "      <td>NaN</td>\n",
       "      <td>NaT</td>\n",
       "      <td>...</td>\n",
       "      <td>NaN</td>\n",
       "      <td>NaN</td>\n",
       "      <td>NaN</td>\n",
       "      <td>NaN</td>\n",
       "      <td>NaN</td>\n",
       "      <td>NaN</td>\n",
       "      <td>NaT</td>\n",
       "      <td>NaT</td>\n",
       "      <td>NaN</td>\n",
       "      <td>10997</td>\n",
       "    </tr>\n",
       "    <tr>\n",
       "      <th>10996</th>\n",
       "      <td>NaN</td>\n",
       "      <td>组合</td>\n",
       "      <td>NaN</td>\n",
       "      <td>NaN</td>\n",
       "      <td>NaN</td>\n",
       "      <td>USPHLSC5100*2</td>\n",
       "      <td>NaN</td>\n",
       "      <td>NaN</td>\n",
       "      <td>NaN</td>\n",
       "      <td>NaT</td>\n",
       "      <td>...</td>\n",
       "      <td>NaN</td>\n",
       "      <td>NaN</td>\n",
       "      <td>NaN</td>\n",
       "      <td>NaN</td>\n",
       "      <td>NaN</td>\n",
       "      <td>NaN</td>\n",
       "      <td>NaT</td>\n",
       "      <td>NaT</td>\n",
       "      <td>NaN</td>\n",
       "      <td>10998</td>\n",
       "    </tr>\n",
       "  </tbody>\n",
       "</table>\n",
       "<p>10997 rows × 29 columns</p>\n",
       "</div>"
      ],
      "text/plain": [
       "      Unnamed: 0          跟踪号  目的仓库   品类         英文名称  \\\n",
       "0                                    BHH                \n",
       "1                 CRSU9359852  美西仓库  RAD                \n",
       "2                 JXLU7830822  美中仓库  RAD                \n",
       "3                                                       \n",
       "4                 TXGU5691325  美西仓库   CA  Control Arm   \n",
       "...          ...          ...   ...  ...          ...   \n",
       "10992        NaN           组合   NaN  NaN          NaN   \n",
       "10993        NaN           组合   NaN  NaN          NaN   \n",
       "10994        NaN           组合   NaN  NaN          NaN   \n",
       "10995        NaN           组合   NaN  NaN          NaN   \n",
       "10996        NaN           组合   NaN  NaN          NaN   \n",
       "\n",
       "                             SKU     层别    周销 上架数量       发货时间  ... 实际上架时间  \\\n",
       "0          USBHH04472+USBHH01484               0.0        NaT  ...          \n",
       "1                     USRAD02997     普通     0  1.0 2022-09-07  ...  44859   \n",
       "2                     USRAD10227  TOP20  0.21  1.0 2022-09-05  ...  44859   \n",
       "3      USBHH01286*2+USBHH01288*2               0.0        NaT  ...          \n",
       "4                     USCAK13279     普通     0  5.0 2022-08-31  ...  44845   \n",
       "...                          ...    ...   ...  ...        ...  ...    ...   \n",
       "10992  USCLK04252-C+USFLW62062-C    NaN   NaN  NaN        NaT  ...    NaN   \n",
       "10993  USEAF11258-C+USCAF10134-C    NaN   NaN  NaN        NaT  ...    NaN   \n",
       "10994              USOC18303-GMC    NaN   NaN  NaN        NaT  ...    NaN   \n",
       "10995    USKS88311-C+USKS88316-C    NaN   NaN  NaN        NaT  ...    NaN   \n",
       "10996              USPHLSC5100*2    NaN   NaN  NaN        NaT  ...    NaN   \n",
       "\n",
       "        图片 上架记录 Listing检查                  大账号                   ap  \\\n",
       "0       有图  1.0            2022-10-31 00:00:00  2023-07-27 16:26:44   \n",
       "1       有图  1.0            2022-10-28 00:00:00  2023-08-09 16:15:16   \n",
       "2       有图  1.0            2022-10-28 00:00:00  2023-07-05 15:27:14   \n",
       "3       有图  1.0            2022-10-31 00:00:00  2023-07-27 16:27:59   \n",
       "4       有图  1.0            2022-10-28 00:00:00  2023-08-08 16:21:02   \n",
       "...    ...  ...       ...                  ...                  ...   \n",
       "10992  NaN  NaN       NaN                  NaN                  NaN   \n",
       "10993  NaN  NaN       NaN                  NaN                  NaN   \n",
       "10994  NaN  NaN       NaN                  NaN                  NaN   \n",
       "10995  NaN  NaN       NaN                  NaN                  NaN   \n",
       "10996  NaN  NaN       NaN                  NaN                  NaN   \n",
       "\n",
       "                       2u               total  \\\n",
       "0                     NaT                 NaT   \n",
       "1     2022-11-22 19:08:08 2022-11-22 16:39:06   \n",
       "2     2022-11-21 18:35:32 2022-11-22 16:41:15   \n",
       "3                     NaT                 NaT   \n",
       "4     2022-12-16 18:34:05 2022-12-17 10:18:21   \n",
       "...                   ...                 ...   \n",
       "10992                 NaT                 NaT   \n",
       "10993                 NaT                 NaT   \n",
       "10994                 NaT                 NaT   \n",
       "10995                 NaT                 NaT   \n",
       "10996                 NaT                 NaT   \n",
       "\n",
       "                                                      号码   原始行号  \n",
       "0                                                             2  \n",
       "1                                   2997;2897;253100W100      3  \n",
       "2      227;CU227;8011107;E6AH8005BB;E6AH8005DB;E6AZ80...      4  \n",
       "3                                                             5  \n",
       "4              ES2004S;ES3379T;ES3380T;K6187T;K5254(9件套)      6  \n",
       "...                                                  ...    ...  \n",
       "10992                                                NaN  10994  \n",
       "10993                                                NaN  10995  \n",
       "10994                                                NaN  10996  \n",
       "10995                                                NaN  10997  \n",
       "10996                                                NaN  10998  \n",
       "\n",
       "[10997 rows x 29 columns]"
      ]
     },
     "execution_count": 708,
     "metadata": {},
     "output_type": "execute_result"
    }
   ],
   "source": [
    "df_progress_transit_null = df_progress_transit[(pd.isna(df_progress_transit['大账号']))].reset_index(drop=True)\n",
    "df_progress_transit_tmp3 = pd.concat([df_progress_transit_null, df_progress_transit_tmp2]).sort_values('原始行号').reset_index(drop=True)\n",
    "df_progress_transit_tmp3"
   ]
  },
  {
   "cell_type": "code",
   "execution_count": 710,
   "id": "3ace8aa1",
   "metadata": {},
   "outputs": [],
   "source": [
    "df_progress_transit_tmp3.to_excel('./ap_2u_total_time.xlsx',index=False)"
   ]
  },
  {
   "cell_type": "code",
   "execution_count": null,
   "id": "40143246",
   "metadata": {},
   "outputs": [],
   "source": []
  },
  {
   "cell_type": "code",
   "execution_count": null,
   "id": "298b21be",
   "metadata": {},
   "outputs": [],
   "source": []
  },
  {
   "cell_type": "code",
   "execution_count": null,
   "id": "e013c2a3",
   "metadata": {},
   "outputs": [],
   "source": []
  },
  {
   "cell_type": "code",
   "execution_count": null,
   "id": "f1b6c335",
   "metadata": {},
   "outputs": [],
   "source": []
  },
  {
   "cell_type": "code",
   "execution_count": null,
   "id": "17d3b4d7",
   "metadata": {},
   "outputs": [],
   "source": []
  },
  {
   "cell_type": "code",
   "execution_count": null,
   "id": "4cd479a3",
   "metadata": {},
   "outputs": [],
   "source": []
  },
  {
   "cell_type": "code",
   "execution_count": null,
   "id": "e21ea87c",
   "metadata": {},
   "outputs": [],
   "source": []
  },
  {
   "cell_type": "code",
   "execution_count": null,
   "id": "fef6e4c8",
   "metadata": {},
   "outputs": [],
   "source": []
  },
  {
   "cell_type": "code",
   "execution_count": null,
   "id": "31b455c1",
   "metadata": {},
   "outputs": [],
   "source": []
  }
 ],
 "metadata": {
  "kernelspec": {
   "display_name": "Python 3 (ipykernel)",
   "language": "python",
   "name": "python3"
  },
  "language_info": {
   "codemirror_mode": {
    "name": "ipython",
    "version": 3
   },
   "file_extension": ".py",
   "mimetype": "text/x-python",
   "name": "python",
   "nbconvert_exporter": "python",
   "pygments_lexer": "ipython3",
   "version": "3.11.3"
  }
 },
 "nbformat": 4,
 "nbformat_minor": 5
}
