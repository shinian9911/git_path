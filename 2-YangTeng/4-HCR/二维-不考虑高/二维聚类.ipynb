{
 "cells": [
  {
   "cell_type": "code",
   "execution_count": 2,
   "metadata": {},
   "outputs": [
    {
     "name": "stdout",
     "output_type": "stream",
     "text": [
      "[[190, 188, 65], [230, 170, 115], [253, 180, 92], [252, 188, 129], [227, 190, 66], [245, 190, 66], [240, 200, 55], [220, 205, 53], [265, 165, 65], [275, 175, 64], [263, 176, 54], [290, 185, 66], [280, 190, 65], [305, 190, 70], [270, 195, 55], [298, 195, 52], [255, 205, 68], [270, 205, 55], [272, 212, 85], [264, 227, 57], [255, 255, 80], [285, 280, 95], [300, 300, 110], [325, 153, 107], [354, 155, 52], [335, 160, 125], [315, 165, 65], [325, 170, 60], [330, 170, 95], [345, 175, 100], [310, 180, 100], [335, 180, 160], [315, 190, 185], [345, 195, 60], [360, 195, 100], [330, 215, 85], [310, 220, 155], [320, 230, 120], [350, 235, 75], [310, 245, 195], [340, 248, 86], [350, 252, 130], [340, 260, 230], [325, 272, 125], [335, 280, 100], [347, 282, 198], [380, 175, 95], [390, 190, 125], [390, 205, 150], [420, 175, 95], [415, 205, 105], [365, 210, 80], [370, 210, 105], [377, 214, 84], [410, 295, 200], [340, 325, 230], [385, 315, 300], [365, 355, 325], [410, 390, 280], [485, 210, 90], [375, 310, 85], [420, 220, 170], [450, 250, 56]]\n"
     ]
    },
    {
     "data": {
      "image/png": "[encoded data removed]",
      "text/plain": [
       "<Figure size 432x288 with 1 Axes>"
      ]
     },
     "metadata": {
      "needs_background": "light"
     },
     "output_type": "display_data"
    }
   ],
   "source": [
    "import pandas as pd\n",
    "import random\n",
    "import math\n",
    "import matplotlib.pyplot as plt\n",
    " \n",
    "documentObject = pd.read_excel(r\"C:/Users/YangTeng/Desktop/工作文档/包装问题/HCR/训练集.xlsx\")\n",
    "documentLst = documentObject.values.tolist()\n",
    "print(documentLst)\n",
    "\n",
    "plt.rcParams['font.sans-serif'] = ['SimHei']\n",
    "plt.rcParams['axes.unicode_minus'] = False\n",
    "for i in range(len(documentLst)):\n",
    "    x = documentLst[i][0]\n",
    "    y = documentLst[i][1]\n",
    "    plt.scatter(x, y, s = 10)\n",
    "    plt.xlabel('长')\n",
    "    plt.ylabel('宽')\n",
    "    save=documentLst\n",
    "plt.show()"
   ]
  },
  {
   "cell_type": "code",
   "execution_count": 3,
   "metadata": {},
   "outputs": [
    {
     "name": "stdout",
     "output_type": "stream",
     "text": [
      "[[325, 170], [280, 190], [264, 227], [377, 214], [285, 280], [310, 180]]\n"
     ]
    }
   ],
   "source": [
    "dataLength = len(documentLst)\n",
    "#k为聚类中心点个数\n",
    "k = 6\n",
    "#iteraions为起始的迭代量\n",
    "iterations = 0\n",
    "#maxIteraions表示最大迭代次数\n",
    "maxIteraions = 10000\n",
    "#centre用来保存中心点的坐标,随机出k个样本数据作为中心点\n",
    "centre = []\n",
    "for i in range(k):\n",
    "    centre.append([0]*2)\n",
    "for i in range(k):\n",
    "    tempIndex = random.randint(0, dataLength - 1)\n",
    "    centre[i][0] = documentLst[tempIndex][0]\n",
    "    centre[i][1] = documentLst[tempIndex][1]\n",
    "print(centre)\n",
    "#disRecord用于记录每一个样本点里中心点的距离\n",
    "disRecord = []\n",
    "for i in range(dataLength):\n",
    "    disRecord.append([0]*6)\n",
    "#定义distance函数计算两点间距离\n",
    "def distance(samples, centres):\n",
    "    return math.sqrt((samples[0] - centres[0])**2 + (samples[1] - centres[1])**2)\n",
    " \n",
    "finalClusters = []\n",
    "for i in range(k):\n",
    "    finalClusters.append([])"
   ]
  },
  {
   "cell_type": "code",
   "execution_count": 4,
   "metadata": {},
   "outputs": [
    {
     "name": "stdout",
     "output_type": "stream",
     "text": [
      "聚类中心为: [[337.93333333333334, 179.2], [276.45454545454544, 188.0], [237.8, 201.8], [413.0, 208.77777777777777], [380.8333333333333, 331.6666666666667], [326.0, 258.6666666666667]]\n",
      "分类情况为: [[23, 24, 25, 26, 27, 28, 29, 30, 31, 32, 33, 34, 35, 46, 51], [2, 8, 9, 10, 11, 12, 13, 14, 15, 17, 18], [0, 1, 3, 4, 5, 6, 7, 16, 19, 20], [47, 48, 49, 50, 52, 53, 59, 61, 62], [54, 55, 56, 57, 58, 60], [21, 22, 36, 37, 38, 39, 40, 41, 42, 43, 44, 45]]\n"
     ]
    }
   ],
   "source": [
    "#进行k-means主体\n",
    "while iterations < maxIteraions:\n",
    "    #用于记录新的k个样本中心点的坐标\n",
    "    new_centres = []\n",
    "    for i in range(k):\n",
    "        new_centres.append([0]*2)\n",
    "    # cluster用于记录聚类结果[[], [], []]\n",
    "    clusters = []\n",
    "    for i in range(k):\n",
    "        clusters.append([])\n",
    " \n",
    "    for i in range(dataLength):\n",
    "        for j in range(k):\n",
    "            disRecord[i][j] = distance(documentLst[i], centre[j])\n",
    "    #将某一个样本点的坐标添加至cluster列表中\n",
    "    for i in range(dataLength):\n",
    "        index = disRecord[i].index(min(disRecord[i]))\n",
    "        clusters[index].append(i)\n",
    "        new_centres[index][0] += documentLst[i][0]\n",
    "        new_centres[index][1] += documentLst[i][1]\n",
    "    #创建用于迭代的中心点数组\n",
    "    temp_centre = []\n",
    "    for i in range(k):\n",
    "        temp_centre.append([0]*2)\n",
    "    for i in range(k):\n",
    "        temp_centre[i][0] = (new_centres[i][0])/len(clusters[i])\n",
    "        temp_centre[i][1] = (new_centres[i][1])/len(clusters[i])\n",
    " \n",
    "    if(temp_centre == centre):\n",
    "        break;\n",
    "    else:\n",
    "        centre = temp_centre\n",
    "        iterations += 1\n",
    "        finalClusters = clusters\n",
    "print(\"聚类中心为:\", centre)\n",
    "print(\"分类情况为:\", finalClusters)"
   ]
  },
  {
   "cell_type": "code",
   "execution_count": 8,
   "metadata": {},
   "outputs": [
    {
     "name": "stdout",
     "output_type": "stream",
     "text": [
      "[[325, 153, 107, 0], [354, 155, 52, 0], [335, 160, 125, 0], [315, 165, 65, 0], [325, 170, 60, 0], [330, 170, 95, 0], [345, 175, 100, 0], [310, 180, 100, 0], [335, 180, 160, 0], [315, 190, 185, 0], [345, 195, 60, 0], [360, 195, 100, 0], [330, 215, 85, 0], [380, 175, 95, 0], [365, 210, 80, 0], [253, 180, 92, 1], [265, 165, 65, 1], [275, 175, 64, 1], [263, 176, 54, 1], [290, 185, 66, 1], [280, 190, 65, 1], [305, 190, 70, 1], [270, 195, 55, 1], [298, 195, 52, 1], [270, 205, 55, 1], [272, 212, 85, 1], [190, 188, 65, 2], [230, 170, 115, 2], [252, 188, 129, 2], [227, 190, 66, 2], [245, 190, 66, 2], [240, 200, 55, 2], [220, 205, 53, 2], [255, 205, 68, 2], [264, 227, 57, 2], [255, 255, 80, 2], [390, 190, 125, 3], [390, 205, 150, 3], [420, 175, 95, 3], [415, 205, 105, 3], [370, 210, 105, 3], [377, 214, 84, 3], [485, 210, 90, 3], [420, 220, 170, 3], [450, 250, 56, 3], [410, 295, 200, 4], [340, 325, 230, 4], [385, 315, 300, 4], [365, 355, 325, 4], [410, 390, 280, 4], [375, 310, 85, 4], [285, 280, 95, 5], [300, 300, 110, 5], [310, 220, 155, 5], [320, 230, 120, 5], [350, 235, 75, 5], [310, 245, 195, 5], [340, 248, 86, 5], [350, 252, 130, 5], [340, 260, 230, 5], [325, 272, 125, 5], [335, 280, 100, 5], [347, 282, 198, 5]]\n"
     ]
    }
   ],
   "source": [
    "a=[]\n",
    "b=[]\n",
    "for i in range(0,6):\n",
    "    m=len(finalClusters[i])\n",
    "    b.append(i)\n",
    "    for j in range(0,m):\n",
    "        n=finalClusters[i][j]\n",
    "        new=save[n]+b[-1:]\n",
    "        a.append(new)\n",
    "print(a)"
   ]
  },
  {
   "cell_type": "code",
   "execution_count": 12,
   "metadata": {},
   "outputs": [],
   "source": [
    "#####导入\n",
    "column_names = ['长', '宽', '高','组合']\n",
    "df = pd.DataFrame(a,columns=column_names)\n",
    "df.to_excel('C:/Users/YangTeng/Desktop/工作文档/包装问题/HCR/训练结果.xlsx', sheet_name='分类组合', index=False)"
   ]
  },
  {
   "cell_type": "code",
   "execution_count": null,
   "metadata": {},
   "outputs": [],
   "source": []
  }
 ],
 "metadata": {
  "kernelspec": {
   "display_name": "Python 3",
   "language": "python",
   "name": "python3"
  },
  "language_info": {
   "codemirror_mode": {
    "name": "ipython",
    "version": 3
   },
   "file_extension": ".py",
   "mimetype": "text/x-python",
   "name": "python",
   "nbconvert_exporter": "python",
   "pygments_lexer": "ipython3",
   "version": "3.7.0"
  }
 },
 "nbformat": 4,
 "nbformat_minor": 2
}
