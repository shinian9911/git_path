{
 "cells": [
  {
   "cell_type": "code",
   "execution_count": 55,
   "metadata": {},
   "outputs": [],
   "source": [
    "import pandas as pd"
   ]
  },
  {
   "cell_type": "code",
   "execution_count": 56,
   "metadata": {},
   "outputs": [],
   "source": [
    "# 读取待查重数据 保存原始数据\n",
    "Original = pd.read_excel('C:/Users/YangTeng/Desktop/工作文档/包装问题/HCR/测试数据.xlsx',sheet_name='未改变顺序前的尺寸',dtype=str).fillna('')"
   ]
  },
  {
   "cell_type": "code",
   "execution_count": 57,
   "metadata": {},
   "outputs": [],
   "source": [
    "change=Original.columns.tolist()\n",
    "change.insert(1, '长序号')\n",
    "change.insert(3, '宽序号')\n",
    "change.insert(5, '高序号')\n",
    "change=Original.reindex(columns=change)\n",
    "change['长序号']=change['宽序号']=change['高序号']=change['序号']"
   ]
  },
  {
   "cell_type": "code",
   "execution_count": 58,
   "metadata": {},
   "outputs": [],
   "source": [
    "sort_change_long = change[['长序号','长']].copy()\n",
    "for i in range(0,len(sort_change_long)):\n",
    "    sort_change_long['长'][i]=float(sort_change_long['长'][i])\n",
    "sort_change_long=sort_change_long.sort_values(by='长')\n",
    "sort_change_long=sort_change_long.reset_index(drop=True)\n",
    "                                              \n",
    "sort_change_weight=change[['宽序号','宽']].copy()\n",
    "for i in range(0,len(sort_change_weight)):\n",
    "    sort_change_weight['宽'][i]=float(sort_change_weight['宽'][i])\n",
    "sort_change_weight=sort_change_weight.sort_values(by='宽')\n",
    "sort_change_weight=sort_change_weight.reset_index(drop=True)\n",
    "\n",
    "sort_change_high = change[['高序号','高']].copy()\n",
    "for i in range(0,len(sort_change_high)):\n",
    "    sort_change_high['高'][i]=float(sort_change_high['高'][i])\n",
    "sort_change_high=sort_change_high.sort_values(by='高')\n",
    "sort_change_high=sort_change_high.reset_index(drop=True)"
   ]
  },
  {
   "cell_type": "code",
   "execution_count": 59,
   "metadata": {},
   "outputs": [],
   "source": [
    "new_sort=pd.concat( [sort_change_long,sort_change_weight,sort_change_high], axis = 1)\n",
    "\n",
    "new_sort_add=new_sort.columns.tolist()\n",
    "new_sort_add.insert(7, '长范围内')\n",
    "new_sort_add.insert(8, '宽范围内')\n",
    "new_sort_add.insert(9, '高范围内')\n",
    "new_sort_add=new_sort.reindex(columns=new_sort_add)\n",
    "\n",
    "new_sort_add['长范围内']=new_sort_add['长序号']\n",
    "new_sort_add['宽范围内']=new_sort_add['宽序号']\n",
    "new_sort_add['高范围内']=new_sort_add['高序号']\n",
    "\n",
    "new_sort_add= new_sort_add.astype(float)\n",
    "\n",
    "with pd.ExcelWriter('C:/Users/YangTeng/Desktop/工作文档/包装问题/HCR/测试数据.xlsx',engine=\"openpyxl\",mode='a') as writer:\n",
    "    new_sort_add.to_excel(writer,\"需归类尺寸\",index=False)"
   ]
  },
  {
   "cell_type": "code",
   "execution_count": 60,
   "metadata": {},
   "outputs": [],
   "source": [
    "# 读取待查重数据 保存原始数据\n",
    "size = pd.read_excel('C:/Users/YangTeng/Desktop/工作文档/包装问题/HCR/测试数据.xlsx',sheet_name='需归类尺寸',dtype=str).fillna('')\n",
    "size_initial=size"
   ]
  },
  {
   "cell_type": "code",
   "execution_count": 61,
   "metadata": {},
   "outputs": [],
   "source": [
    "for i in range(0,len(size)-1):\n",
    "    for j in range(0,len(size)-1):\n",
    "        if float(size['长'][i])<=float(size['长'][j+1])<=float(size['长'][i])*1.15:\n",
    "            size['长范围内'][i]=str(size['长范围内'][i])+';'+str(size['长序号'][j+1])\n",
    "for i in range(0,len(size)-1):\n",
    "    for j in range(0,len(size)-1):\n",
    "        if float(size['宽'][i])<=float(size['宽'][j+1])<=float(size['宽'][i])*1.15:\n",
    "            size['宽范围内'][i]=str(size['宽范围内'][i])+';'+str(size['宽序号'][j+1])\n",
    "for i in range(0,len(size)-1):\n",
    "    for j in range(0,len(size)-1):\n",
    "        if float(size['高'][i])<=float(size['高'][j+1])<=float(size['高'][i])*1.15:\n",
    "            size['高范围内'][i]=str(size['高范围内'][i])+';'+str(size['高序号'][j+1])"
   ]
  },
  {
   "cell_type": "code",
   "execution_count": 62,
   "metadata": {},
   "outputs": [],
   "source": [
    "size['长范围内'] = size['长范围内'].str.split(';')\n",
    "size['宽范围内'] = size['宽范围内'].str.split(';')\n",
    "size['高范围内'] = size['高范围内'].str.split(';')"
   ]
  },
  {
   "cell_type": "code",
   "execution_count": 63,
   "metadata": {},
   "outputs": [],
   "source": [
    "for i in range(0,len(size)-1):\n",
    "    size['长范围内'][i]=list(set(size['长范围内'][i]))\n",
    "    size['长范围内'][i]=sorted(size['长范围内'][i])\n",
    "for i in range(0,len(size)-1):\n",
    "    size['宽范围内'][i]=list(set(size['宽范围内'][i]))\n",
    "    size['宽范围内'][i]=sorted(size['宽范围内'][i])\n",
    "for i in range(0,len(size)-1):\n",
    "    size['高范围内'][i]=list(set(size['高范围内'][i]))\n",
    "    size['高范围内'][i]=sorted(size['高范围内'][i])"
   ]
  },
  {
   "cell_type": "code",
   "execution_count": 64,
   "metadata": {},
   "outputs": [
    {
     "data": {
      "text/html": [
       "<div>\n",
       "<style scoped>\n",
       "    .dataframe tbody tr th:only-of-type {\n",
       "        vertical-align: middle;\n",
       "    }\n",
       "\n",
       "    .dataframe tbody tr th {\n",
       "        vertical-align: top;\n",
       "    }\n",
       "\n",
       "    .dataframe thead th {\n",
       "        text-align: right;\n",
       "    }\n",
       "</style>\n",
       "<table border=\"1\" class=\"dataframe\">\n",
       "  <thead>\n",
       "    <tr style=\"text-align: right;\">\n",
       "      <th></th>\n",
       "      <th>长序号</th>\n",
       "      <th>长范围内</th>\n",
       "      <th>宽序号</th>\n",
       "      <th>宽范围内</th>\n",
       "      <th>高序号</th>\n",
       "      <th>高范围内</th>\n",
       "    </tr>\n",
       "  </thead>\n",
       "  <tbody>\n",
       "    <tr>\n",
       "      <th>0</th>\n",
       "      <td>1</td>\n",
       "      <td>[1, 10, 11, 13, 15, 17, 18, 19, 2, 20, 21, 22,...</td>\n",
       "      <td>1</td>\n",
       "      <td>[1, 13, 14, 15, 16, 17, 18, 19, 20, 21, 22, 33...</td>\n",
       "      <td>1</td>\n",
       "      <td>[1, 12, 13, 14, 17, 19, 2, 21, 22, 23, 24, 26,...</td>\n",
       "    </tr>\n",
       "    <tr>\n",
       "      <th>1</th>\n",
       "      <td>8</td>\n",
       "      <td>[10, 11, 12, 13, 14, 15, 16, 17, 18, 19, 2, 20...</td>\n",
       "      <td>8</td>\n",
       "      <td>[17, 18, 19, 20, 21, 22, 23, 36, 37, 38, 39, 4...</td>\n",
       "      <td>8</td>\n",
       "      <td>[1, 10, 11, 12, 13, 14, 15, 17, 18, 19, 2, 20,...</td>\n",
       "    </tr>\n",
       "    <tr>\n",
       "      <th>2</th>\n",
       "      <td>5</td>\n",
       "      <td>[10, 11, 12, 13, 14, 15, 16, 17, 18, 19, 2, 20...</td>\n",
       "      <td>5</td>\n",
       "      <td>[13, 14, 15, 16, 17, 18, 19, 20, 21, 22, 33, 3...</td>\n",
       "      <td>5</td>\n",
       "      <td>[12, 14, 17, 19, 2, 21, 22, 23, 24, 26, 29, 3,...</td>\n",
       "    </tr>\n",
       "    <tr>\n",
       "      <th>3</th>\n",
       "      <td>2</td>\n",
       "      <td>[10, 11, 12, 13, 14, 15, 16, 17, 18, 19, 2, 20...</td>\n",
       "      <td>2</td>\n",
       "      <td>[1, 10, 11, 12, 13, 14, 15, 16, 17, 18, 19, 2,...</td>\n",
       "      <td>2</td>\n",
       "      <td>[2, 26, 32, 33, 37, 38, 4, 40, 42, 43, 44, 46,...</td>\n",
       "    </tr>\n",
       "    <tr>\n",
       "      <th>4</th>\n",
       "      <td>7</td>\n",
       "      <td>[10, 11, 12, 13, 14, 15, 16, 17, 18, 19, 20, 2...</td>\n",
       "      <td>7</td>\n",
       "      <td>[17, 18, 19, 20, 21, 22, 23, 36, 37, 38, 39, 4...</td>\n",
       "      <td>7</td>\n",
       "      <td>[1, 10, 12, 13, 14, 15, 17, 18, 19, 2, 20, 21,...</td>\n",
       "    </tr>\n",
       "    <tr>\n",
       "      <th>...</th>\n",
       "      <td>...</td>\n",
       "      <td>...</td>\n",
       "      <td>...</td>\n",
       "      <td>...</td>\n",
       "      <td>...</td>\n",
       "      <td>...</td>\n",
       "    </tr>\n",
       "    <tr>\n",
       "      <th>58</th>\n",
       "      <td>51</td>\n",
       "      <td>[50, 51, 60, 62, 63]</td>\n",
       "      <td>51</td>\n",
       "      <td>[17, 18, 19, 20, 21, 22, 23, 36, 37, 38, 39, 4...</td>\n",
       "      <td>51</td>\n",
       "      <td>[2, 23, 24, 26, 32, 33, 37, 38, 4, 40, 42, 43,...</td>\n",
       "    </tr>\n",
       "    <tr>\n",
       "      <th>59</th>\n",
       "      <td>50</td>\n",
       "      <td>[50, 60, 62, 63]</td>\n",
       "      <td>50</td>\n",
       "      <td>[1, 10, 11, 12, 13, 14, 15, 16, 17, 18, 19, 20...</td>\n",
       "      <td>50</td>\n",
       "      <td>[2, 22, 23, 24, 26, 29, 30, 31, 32, 33, 35, 37...</td>\n",
       "    </tr>\n",
       "    <tr>\n",
       "      <th>60</th>\n",
       "      <td>62</td>\n",
       "      <td>[50, 60, 62, 63]</td>\n",
       "      <td>62</td>\n",
       "      <td>[20, 21, 22, 23, 37, 38, 39, 40, 41, 42, 43, 4...</td>\n",
       "      <td>62</td>\n",
       "      <td>[33, 40, 43, 46, 55, 56, 57, 58, 59, 62]</td>\n",
       "    </tr>\n",
       "    <tr>\n",
       "      <th>61</th>\n",
       "      <td>63</td>\n",
       "      <td>[60, 63]</td>\n",
       "      <td>63</td>\n",
       "      <td>[21, 22, 23, 42, 43, 44, 45, 46, 55, 56, 57, 5...</td>\n",
       "      <td>63</td>\n",
       "      <td>[1, 10, 12, 13, 14, 17, 19, 2, 20, 21, 22, 23,...</td>\n",
       "    </tr>\n",
       "    <tr>\n",
       "      <th>62</th>\n",
       "      <td>60</td>\n",
       "      <td>[60]</td>\n",
       "      <td>60</td>\n",
       "      <td>[19, 20, 21, 22, 23, 36, 37, 38, 39, 40, 41, 4...</td>\n",
       "      <td>60</td>\n",
       "      <td>[2, 22, 23, 24, 26, 29, 3, 30, 31, 32, 33, 35,...</td>\n",
       "    </tr>\n",
       "  </tbody>\n",
       "</table>\n",
       "<p>63 rows × 6 columns</p>\n",
       "</div>"
      ],
      "text/plain": [
       "   长序号                                               长范围内 宽序号  \\\n",
       "0    1  [1, 10, 11, 13, 15, 17, 18, 19, 2, 20, 21, 22,...   1   \n",
       "1    8  [10, 11, 12, 13, 14, 15, 16, 17, 18, 19, 2, 20...   8   \n",
       "2    5  [10, 11, 12, 13, 14, 15, 16, 17, 18, 19, 2, 20...   5   \n",
       "3    2  [10, 11, 12, 13, 14, 15, 16, 17, 18, 19, 2, 20...   2   \n",
       "4    7  [10, 11, 12, 13, 14, 15, 16, 17, 18, 19, 20, 2...   7   \n",
       "..  ..                                                ...  ..   \n",
       "58  51                               [50, 51, 60, 62, 63]  51   \n",
       "59  50                                   [50, 60, 62, 63]  50   \n",
       "60  62                                   [50, 60, 62, 63]  62   \n",
       "61  63                                           [60, 63]  63   \n",
       "62  60                                               [60]  60   \n",
       "\n",
       "                                                 宽范围内 高序号  \\\n",
       "0   [1, 13, 14, 15, 16, 17, 18, 19, 20, 21, 22, 33...   1   \n",
       "1   [17, 18, 19, 20, 21, 22, 23, 36, 37, 38, 39, 4...   8   \n",
       "2   [13, 14, 15, 16, 17, 18, 19, 20, 21, 22, 33, 3...   5   \n",
       "3   [1, 10, 11, 12, 13, 14, 15, 16, 17, 18, 19, 2,...   2   \n",
       "4   [17, 18, 19, 20, 21, 22, 23, 36, 37, 38, 39, 4...   7   \n",
       "..                                                ...  ..   \n",
       "58  [17, 18, 19, 20, 21, 22, 23, 36, 37, 38, 39, 4...  51   \n",
       "59  [1, 10, 11, 12, 13, 14, 15, 16, 17, 18, 19, 20...  50   \n",
       "60  [20, 21, 22, 23, 37, 38, 39, 40, 41, 42, 43, 4...  62   \n",
       "61  [21, 22, 23, 42, 43, 44, 45, 46, 55, 56, 57, 5...  63   \n",
       "62  [19, 20, 21, 22, 23, 36, 37, 38, 39, 40, 41, 4...  60   \n",
       "\n",
       "                                                 高范围内  \n",
       "0   [1, 12, 13, 14, 17, 19, 2, 21, 22, 23, 24, 26,...  \n",
       "1   [1, 10, 11, 12, 13, 14, 15, 17, 18, 19, 2, 20,...  \n",
       "2   [12, 14, 17, 19, 2, 21, 22, 23, 24, 26, 29, 3,...  \n",
       "3   [2, 26, 32, 33, 37, 38, 4, 40, 42, 43, 44, 46,...  \n",
       "4   [1, 10, 12, 13, 14, 15, 17, 18, 19, 2, 20, 21,...  \n",
       "..                                                ...  \n",
       "58  [2, 23, 24, 26, 32, 33, 37, 38, 4, 40, 42, 43,...  \n",
       "59  [2, 22, 23, 24, 26, 29, 30, 31, 32, 33, 35, 37...  \n",
       "60           [33, 40, 43, 46, 55, 56, 57, 58, 59, 62]  \n",
       "61  [1, 10, 12, 13, 14, 17, 19, 2, 20, 21, 22, 23,...  \n",
       "62  [2, 22, 23, 24, 26, 29, 3, 30, 31, 32, 33, 35,...  \n",
       "\n",
       "[63 rows x 6 columns]"
      ]
     },
     "execution_count": 64,
     "metadata": {},
     "output_type": "execute_result"
    }
   ],
   "source": [
    "size_long = size[['长序号','长范围内']].copy()\n",
    "size_wight = size[['宽序号','宽范围内']].copy()\n",
    "size_high = size[['高序号','高范围内']].copy()\n",
    "merge_1 = pd.merge(size_long,size_wight,left_on='长序号',right_on='宽序号',how='left')\n",
    "merge_2 = pd.merge(merge_1,size_high,left_on='宽序号',right_on='高序号',how='left')\n",
    "merge_2"
   ]
  },
  {
   "cell_type": "code",
   "execution_count": 65,
   "metadata": {},
   "outputs": [],
   "source": [
    "list1=[]\n",
    "for i in range(0,len(size)):\n",
    "    all=merge_2['长范围内'][i]+merge_2['宽范围内'][i]+merge_2['高范围内'][i]\n",
    "    list1.append(all)"
   ]
  },
  {
   "cell_type": "code",
   "execution_count": 66,
   "metadata": {},
   "outputs": [],
   "source": [
    "col_name=merge_2.columns.tolist()\n",
    "col_name.insert(7, '重复项')\n",
    "new_merge=merge_2.reindex(columns=col_name)\n",
    "new_merge=new_merge.fillna('')          "
   ]
  },
  {
   "cell_type": "code",
   "execution_count": 67,
   "metadata": {},
   "outputs": [],
   "source": [
    "for i in range(0,len(size)):\n",
    "    for n in range(1,len(size)+1):\n",
    "        if list1[i].count(str(n))==3:\n",
    "            new_merge['重复项'][i]=new_merge['重复项'][i]+';'+str(n)\n",
    "for i in range(0,len(size)):\n",
    "    new_merge['重复项'][i]=new_merge['重复项'][i][1:]"
   ]
  },
  {
   "cell_type": "code",
   "execution_count": 68,
   "metadata": {},
   "outputs": [],
   "source": [
    "size_initial = pd.read_excel('C:/Users/YangTeng/Desktop/工作文档/包装问题/HCR/测试数据.xlsx',sheet_name='未改变顺序前的尺寸',dtype=str).fillna('')\n",
    "size_initial = pd.merge(size_initial,new_merge[['长序号','重复项']], left_on='序号', right_on='长序号',how='left')\n",
    "size_initial=size_initial.drop(list(size_initial)[4:5],axis=1)"
   ]
  },
  {
   "cell_type": "code",
   "execution_count": 69,
   "metadata": {},
   "outputs": [
    {
     "name": "stderr",
     "output_type": "stream",
     "text": [
      "C:\\ProgramData\\Anaconda3\\lib\\site-packages\\ipykernel_launcher.py:5: SettingWithCopyWarning: \n",
      "A value is trying to be set on a copy of a slice from a DataFrame\n",
      "\n",
      "See the caveats in the documentation: https://pandas.pydata.org/pandas-docs/stable/user_guide/indexing.html#returning-a-view-versus-a-copy\n",
      "  \"\"\"\n"
     ]
    }
   ],
   "source": [
    "col_name=size_initial.columns.tolist()\n",
    "col_name.insert(6, '尺规')\n",
    "result=size_initial.reindex(columns=col_name)\n",
    "for i in range(0,len(result)):\n",
    "    result['尺规'][i]=1"
   ]
  },
  {
   "cell_type": "code",
   "execution_count": 70,
   "metadata": {},
   "outputs": [],
   "source": [
    "result['重复项'] = result['重复项'].str.split(';').apply(lambda x: sorted(list(set(x)), key=x.index))"
   ]
  },
  {
   "cell_type": "code",
   "execution_count": 71,
   "metadata": {},
   "outputs": [
    {
     "name": "stderr",
     "output_type": "stream",
     "text": [
      "C:\\ProgramData\\Anaconda3\\lib\\site-packages\\ipykernel_launcher.py:7: SettingWithCopyWarning: \n",
      "A value is trying to be set on a copy of a slice from a DataFrame\n",
      "\n",
      "See the caveats in the documentation: https://pandas.pydata.org/pandas-docs/stable/user_guide/indexing.html#returning-a-view-versus-a-copy\n",
      "  import sys\n",
      "C:\\Users\\YangTeng\\AppData\\Roaming\\Python\\Python37\\site-packages\\pandas\\core\\indexing.py:670: SettingWithCopyWarning: \n",
      "A value is trying to be set on a copy of a slice from a DataFrame\n",
      "\n",
      "See the caveats in the documentation: https://pandas.pydata.org/pandas-docs/stable/user_guide/indexing.html#returning-a-view-versus-a-copy\n",
      "  iloc._setitem_with_indexer(indexer, value)\n"
     ]
    }
   ],
   "source": [
    "k=0\n",
    "for i in range(0,len(size)):\n",
    "    if len(result['重复项'][i]) and result['尺规'][i] ==1:\n",
    "        k=k+1\n",
    "        for j in (result['重复项'][i]):\n",
    "            if result['尺规'][float(j)-1]==1:\n",
    "                result['尺规'][float(j)-1] = str(k)"
   ]
  },
  {
   "cell_type": "code",
   "execution_count": 72,
   "metadata": {},
   "outputs": [],
   "source": [
    "pr=pd.merge(size_initial,result[['序号','尺规']],left_on='序号',right_on='序号',how='left')\n",
    "with pd.ExcelWriter('C:/Users/YangTeng/Desktop/工作文档/包装问题/HCR/测试数据.xlsx',engine=\"openpyxl\",mode='a') as writer:\n",
    "    pr.to_excel(writer,\"测算结果\",index=False)"
   ]
  },
  {
   "cell_type": "code",
   "execution_count": null,
   "metadata": {},
   "outputs": [],
   "source": []
  },
  {
   "cell_type": "code",
   "execution_count": null,
   "metadata": {},
   "outputs": [],
   "source": []
  },
  {
   "cell_type": "code",
   "execution_count": null,
   "metadata": {},
   "outputs": [],
   "source": []
  }
 ],
 "metadata": {
  "kernelspec": {
   "display_name": "Python 3",
   "language": "python",
   "name": "python3"
  },
  "language_info": {
   "codemirror_mode": {
    "name": "ipython",
    "version": 3
   },
   "file_extension": ".py",
   "mimetype": "text/x-python",
   "name": "python",
   "nbconvert_exporter": "python",
   "pygments_lexer": "ipython3",
   "version": "3.7.0"
  }
 },
 "nbformat": 4,
 "nbformat_minor": 2
}
