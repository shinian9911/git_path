{
 "cells": [
  {
   "cell_type": "code",
   "execution_count": 1,
   "id": "346b2eb6",
   "metadata": {},
   "outputs": [],
   "source": [
    "import pandas as pd\n",
    "import numpy as np\n",
    "import PySimpleGUI as sg\n",
    "import os\n",
    "import time\n",
    "from txdpy import get_letter,get_num\n",
    "import win32api,win32con\n",
    "from datetime import datetime\n",
    "import re\n",
    "import xlwings as xw\n",
    "import math"
   ]
  },
  {
   "cell_type": "code",
   "execution_count": 2,
   "id": "27ab4d1a",
   "metadata": {},
   "outputs": [],
   "source": [
    "# 读取excel数据\n",
    "def read_data(file_path,first_cell):\n",
    "    app = xw.App(visible=False, add_book=False)\n",
    "    wb = app.books.open(file_path) # 打开Excel文件\n",
    "    sheet = wb.sheets[0] # 选择第0个表单\n",
    "    data = sheet.range(first_cell).expand().value # 读取全表数据\n",
    "    cols = data[0]\n",
    "    df = pd.DataFrame(data[1:], columns=cols)\n",
    "    return df"
   ]
  },
  {
   "cell_type": "code",
   "execution_count": 3,
   "id": "fabe1c42",
   "metadata": {},
   "outputs": [
    {
     "name": "stdout",
     "output_type": "stream",
     "text": [
      "D:/DeskTop/Learn/6-Liz\n"
     ]
    }
   ],
   "source": [
    "root_path = sg.popup_get_folder(\"请选择根目录文件夹\")\n",
    "print(root_path)"
   ]
  },
  {
   "cell_type": "code",
   "execution_count": 4,
   "id": "5e4c34dc",
   "metadata": {},
   "outputs": [],
   "source": [
    "listing_path = root_path + '/listing'"
   ]
  },
  {
   "cell_type": "code",
   "execution_count": 5,
   "id": "64bbf53f",
   "metadata": {},
   "outputs": [],
   "source": [
    "start_time = time.time()"
   ]
  },
  {
   "cell_type": "code",
   "execution_count": 6,
   "id": "d4782c39",
   "metadata": {},
   "outputs": [
    {
     "data": {
      "text/plain": [
       "'D:/DeskTop/Learn/6-Liz/listing'"
      ]
     },
     "execution_count": 6,
     "metadata": {},
     "output_type": "execute_result"
    }
   ],
   "source": [
    "listing_path"
   ]
  },
  {
   "cell_type": "markdown",
   "id": "57638e23",
   "metadata": {},
   "source": [
    "## 1.0 读取数据"
   ]
  },
  {
   "cell_type": "code",
   "execution_count": 7,
   "id": "a66a1b83",
   "metadata": {},
   "outputs": [
    {
     "name": "stdout",
     "output_type": "stream",
     "text": [
      "D:/DeskTop/Learn/6-Liz/【新品专项】在途新品模板进度表_2023-8-21.xlsx\n",
      "size：10997\n",
      "读取时间为1.78秒钟\n"
     ]
    }
   ],
   "source": [
    "# 读取新品在途进度表\n",
    "old_time = time.time()\n",
    "for file in os.listdir(root_path):\n",
    "    if '$' not in file and '在途' in file and '进度表' in file and '结果' not in file:\n",
    "        progress_transit_path = root_path + '/' + file\n",
    "        print(progress_transit_path)\n",
    "        df_progress_transit = pd.read_excel(progress_transit_path,sheet_name=\"各账号上架情况跟踪表-在途\")\n",
    "        print(\"size：{}\".format(len(df_progress_transit)))\n",
    "print(\"读取时间为%.2f秒钟\"%(time.time()-old_time))"
   ]
  },
  {
   "cell_type": "code",
   "execution_count": 8,
   "id": "bf2adfad",
   "metadata": {},
   "outputs": [
    {
     "name": "stdout",
     "output_type": "stream",
     "text": [
      "D:/DeskTop/Learn/6-Liz/替代ok表_20230823_172141.xlsx\n",
      "size：40951\n",
      "读取时间为1.87秒钟\n"
     ]
    }
   ],
   "source": [
    "# 读取MRP替换料总表\n",
    "old_time = time.time()\n",
    "for file in os.listdir(root_path):\n",
    "    if '$' not in file and '替代ok' in file and '_' in file:\n",
    "        altersku_mrp_path = root_path + '/' + file\n",
    "        print(altersku_mrp_path)\n",
    "        df_altersku_mrp = pd.read_excel(altersku_mrp_path,header=0)[['主料SKU','替换料1','替换料2','替换料3','替换料4','替换料5','替换料6']]\n",
    "        df_altersku_mrp['sku_6'] = np.nan\n",
    "        print(\"size：{}\".format(len(df_altersku_mrp)))\n",
    "print(\"读取时间为%.2f秒钟\"%(time.time()-old_time))"
   ]
  },
  {
   "cell_type": "code",
   "execution_count": 9,
   "id": "69eceb5a",
   "metadata": {},
   "outputs": [
    {
     "name": "stdout",
     "output_type": "stream",
     "text": [
      "====== D:/DeskTop/Learn/6-Liz/listing/2U-Listing20230818.xlsx——读取完成 ======\n",
      "====== D:/DeskTop/Learn/6-Liz/listing/AP-Listing20230818.083620.xlsx——读取完成 ======\n",
      "====== D:/DeskTop/Learn/6-Liz/listing/US-T.xlsx——读取完成 ======\n",
      "====== D:/DeskTop/Learn/6-Liz/listing/大账号-Listing20230818.083044.xlsx——读取完成 ======\n",
      "读取时间为47.80秒钟\n"
     ]
    }
   ],
   "source": [
    "# 读取listing\n",
    "list_listing = []\n",
    "old_time = time.time()\n",
    "for file in os.listdir(listing_path):\n",
    "    file_path = listing_path + '/' + file\n",
    "    if \"$\" not in file:\n",
    "        df = read_data(file_path,'A2')\n",
    "        df = df[['ItemID', 'Seller', '主SKU', 'SKU',  '刊登方式(天)', '在线数量','刊登日期']]\n",
    "        print(\"====== {}——读取完成 ======\".format(file_path))\n",
    "        list_listing.append(df)\n",
    "# 合并\n",
    "df_listing = pd.concat(list_listing)\n",
    "print(\"读取时间为%.2f秒钟\"%(time.time()-old_time))"
   ]
  },
  {
   "cell_type": "code",
   "execution_count": 10,
   "id": "ddf6125b",
   "metadata": {},
   "outputs": [
    {
     "data": {
      "text/html": [
       "<div>\n",
       "<style scoped>\n",
       "    .dataframe tbody tr th:only-of-type {\n",
       "        vertical-align: middle;\n",
       "    }\n",
       "\n",
       "    .dataframe tbody tr th {\n",
       "        vertical-align: top;\n",
       "    }\n",
       "\n",
       "    .dataframe thead th {\n",
       "        text-align: right;\n",
       "    }\n",
       "</style>\n",
       "<table border=\"1\" class=\"dataframe\">\n",
       "  <thead>\n",
       "    <tr style=\"text-align: right;\">\n",
       "      <th></th>\n",
       "      <th>ItemID</th>\n",
       "      <th>Seller</th>\n",
       "      <th>主SKU</th>\n",
       "      <th>SKU</th>\n",
       "      <th>刊登方式(天)</th>\n",
       "      <th>在线数量</th>\n",
       "      <th>刊登日期</th>\n",
       "    </tr>\n",
       "  </thead>\n",
       "  <tbody>\n",
       "    <tr>\n",
       "      <th>0</th>\n",
       "      <td>2.841186e+11</td>\n",
       "      <td>partswholesale2u</td>\n",
       "      <td>P-USDLAAC030</td>\n",
       "      <td>P-USDLAAC030</td>\n",
       "      <td>一口价(GTC)</td>\n",
       "      <td>25.0</td>\n",
       "      <td>2020-12-18 09:28:26</td>\n",
       "    </tr>\n",
       "    <tr>\n",
       "      <th>1</th>\n",
       "      <td>2.841186e+11</td>\n",
       "      <td>partswholesale2u</td>\n",
       "      <td>P-USDLA81410</td>\n",
       "      <td>P-USDLA81410</td>\n",
       "      <td>一口价(GTC)</td>\n",
       "      <td>25.0</td>\n",
       "      <td>2020-12-18 09:27:33</td>\n",
       "    </tr>\n",
       "    <tr>\n",
       "      <th>2</th>\n",
       "      <td>2.841186e+11</td>\n",
       "      <td>partswholesale2u</td>\n",
       "      <td>P-USDLA3S020(质量客诉,需退回检测)</td>\n",
       "      <td>P-USDLA3S020(质量客诉,需退回检测)</td>\n",
       "      <td>一口价(GTC)</td>\n",
       "      <td>25.0</td>\n",
       "      <td>2020-12-18 09:26:25</td>\n",
       "    </tr>\n",
       "    <tr>\n",
       "      <th>3</th>\n",
       "      <td>2.841186e+11</td>\n",
       "      <td>partswholesale2u</td>\n",
       "      <td>P-USDLA3S010+USDLA3S020(质量客诉,需退回检测)</td>\n",
       "      <td>P-USDLA3S010+USDLA3S020(质量客诉,需退回检测)</td>\n",
       "      <td>一口价(GTC)</td>\n",
       "      <td>25.0</td>\n",
       "      <td>2020-12-18 09:25:58</td>\n",
       "    </tr>\n",
       "    <tr>\n",
       "      <th>4</th>\n",
       "      <td>2.841186e+11</td>\n",
       "      <td>partswholesale2u</td>\n",
       "      <td>P-USDLA3S010</td>\n",
       "      <td>P-USDLA3S010</td>\n",
       "      <td>一口价(GTC)</td>\n",
       "      <td>25.0</td>\n",
       "      <td>2020-12-18 09:25:51</td>\n",
       "    </tr>\n",
       "  </tbody>\n",
       "</table>\n",
       "</div>"
      ],
      "text/plain": [
       "         ItemID            Seller                                 主SKU  \\\n",
       "0  2.841186e+11  partswholesale2u                         P-USDLAAC030   \n",
       "1  2.841186e+11  partswholesale2u                         P-USDLA81410   \n",
       "2  2.841186e+11  partswholesale2u             P-USDLA3S020(质量客诉,需退回检测)   \n",
       "3  2.841186e+11  partswholesale2u  P-USDLA3S010+USDLA3S020(质量客诉,需退回检测)   \n",
       "4  2.841186e+11  partswholesale2u                         P-USDLA3S010   \n",
       "\n",
       "                                   SKU   刊登方式(天)  在线数量                刊登日期  \n",
       "0                         P-USDLAAC030  一口价(GTC)  25.0 2020-12-18 09:28:26  \n",
       "1                         P-USDLA81410  一口价(GTC)  25.0 2020-12-18 09:27:33  \n",
       "2             P-USDLA3S020(质量客诉,需退回检测)  一口价(GTC)  25.0 2020-12-18 09:26:25  \n",
       "3  P-USDLA3S010+USDLA3S020(质量客诉,需退回检测)  一口价(GTC)  25.0 2020-12-18 09:25:58  \n",
       "4                         P-USDLA3S010  一口价(GTC)  25.0 2020-12-18 09:25:51  "
      ]
     },
     "execution_count": 10,
     "metadata": {},
     "output_type": "execute_result"
    }
   ],
   "source": [
    "# seller对应不同的账号名称，分别为：\n",
    "# 2U: partswholesale2u\n",
    "# Ap: a-premium-us\n",
    "# US-T: total_autopart\n",
    "# 大账号: autoparts_premium\n",
    "# partswholesale2u,a-premium-us,total_autopart,autoparts_premium\n",
    "df_listing.head()"
   ]
  },
  {
   "cell_type": "markdown",
   "id": "d12e9ff7",
   "metadata": {},
   "source": [
    "## 2.0 listiing处理"
   ]
  },
  {
   "cell_type": "code",
   "execution_count": 11,
   "id": "d11c3c20",
   "metadata": {},
   "outputs": [
    {
     "data": {
      "text/plain": [
       "'size：266268'"
      ]
     },
     "execution_count": 11,
     "metadata": {},
     "output_type": "execute_result"
    }
   ],
   "source": [
    "df_listing = df_listing.reset_index(drop=True)\n",
    "df_listing = df_listing.drop_duplicates()\n",
    "df_listing['ItemID'] = df_listing['ItemID'].apply(int)\n",
    "'size：{}'.format(len(df_listing))"
   ]
  },
  {
   "cell_type": "code",
   "execution_count": 12,
   "id": "c39eb04a",
   "metadata": {},
   "outputs": [],
   "source": [
    "list_sku=df_listing['主SKU'].to_list()"
   ]
  },
  {
   "cell_type": "code",
   "execution_count": 13,
   "id": "3066611c",
   "metadata": {},
   "outputs": [],
   "source": [
    "# 主SKU清洗\n",
    "def clear_sku(list_skux):\n",
    "    for i in range(0,len(list_skux)):\n",
    "        a = re.sub('\\（','(',list_skux[i])#转化(\n",
    "        a1 = re.sub('\\）',')',a)#转化）\n",
    "        a2 = re.sub('\\(.*?\\)','',a1)#删除（）内信息\n",
    "        a2 = re.sub('-测试','',a2)\n",
    "        a2 = re.sub('，','',a2)\n",
    "        a3 = re.sub(r'^[A-Z]{1,2}-{1}','',a2,count=1)#删除前缀\n",
    "        a4 = re.sub('-NC','',a3)#删除-NC后缀-少数，USOS24423H-NC，USIC02680I-6-NC(质量投诉，需退回检测)\n",
    "        a5 = re.sub('-N$','',a4)#删除-N后缀\n",
    "        y=re.sub('-Scion$','',a5)\n",
    "        z=re.sub(r'-Chevrolet$','',y)\n",
    "        h = re.sub('-1\\*2','*2',z)\n",
    "        j =re.sub('USIC20181/USIC65500','USIC65500',h)\n",
    "        k = re.sub('USBCB92767/USBC477563','USBC477563',j)\n",
    "        l = re.sub('USHLS29918/USHLS60843','USHLS60843',k)\n",
    "        m = re.sub('USGS436403','USGS43640B',l)\n",
    "        m1=re.sub(r'USDS36847case停售10.19','USDS36847',m)\n",
    "        n = re.sub('-US1$','',m1)\n",
    "        o = re.sub('-Ford$','',n)\n",
    "        p = re.sub('-MAP$','',o)\n",
    "        q = re.sub('-Dodge$','',p)\n",
    "        a6 = re.sub('-2021','',q)#删除后缀为-2021的SKU，USSGTE003-2021，USSGTE004-2021\n",
    "        z=re.sub('case较高暂停出售','',a6)\n",
    "        a7 = re.sub('-U$','',z)#删除后缀为-U的SKU，USGS47710-U，USIM15178-U先发测试\n",
    "        a8 = re.sub('-4Runner$','',a7)#删除后缀为-4runner的SKU，USIFTO001Z-4Runner\n",
    "        a9 = re.sub('-1A$','',a8)#删除后缀为‘-1A’的SKU,'-1AL'无误\n",
    "        a10 = re.sub('-1B$','',a9)#删除后缀为‘-1B’的SKU\n",
    "        a11 = re.sub('-1C$','',a10)#删除后缀为‘-1C’的SKU,'-1CA'无误\n",
    "        a12 = re.sub('-1D$','',a11)#删除后缀为‘-1D’的SKU\n",
    "        a13 = re.sub('-C1$','',a12)#删除后缀为‘-C1’的SKU\n",
    "        a14 = re.sub('-M$','',a13)#删除后缀为‘-M’的SKU\n",
    "        a15 = re.sub('-A$','',a14)#删除后缀为‘-A’的SKU\n",
    "        a16 = re.sub('-B$','',a15)#删除后缀为‘-B’的SKU\n",
    "        a17 = re.sub('-R2021$','-R',a16)\n",
    "        a18 = re.sub('-L2021$','-L',a17)#删除后缀‘2021’\n",
    "        a19= re.sub(' / ','/',a18)\n",
    "        a20=re.sub('-$','',a19)\n",
    "        a21=re.sub('-Rear$','',a20)\n",
    "        a22=re.sub('-1.7kw$','',a21)\n",
    "        a23=re.sub('-GMC$','',a22)\n",
    "        a24=re.sub('-AMC$','',a23)\n",
    "        a25=re.sub('-Chrysler$','',a24)\n",
    "        a26=re.sub('-JPN$','',a25)\n",
    "        a27=re.sub('-Other$','',a26)\n",
    "        a28=re.sub('-US2$','',a27)\n",
    "        a29=re.sub('-UR$','',a28)\n",
    "        a29=re.sub('-UK$','',a29)\n",
    "        a30=re.sub('-IT','',a29)\n",
    "        a30=re.sub('-Ford$','',a30)\n",
    "        a30=re.sub('-Left$','',a30)\n",
    "        a30=re.sub('-Chevrolet$','',a30)\n",
    "        a30=re.sub('-Dodge$','',a30)\n",
    "        a30=re.sub('-N$','',a30)\n",
    "        a30=re.sub('-D$','',a30)\n",
    "        a32=re.sub('-DE$','',a30)\n",
    "        a34=re.sub('-GMC1$','',a32)\n",
    "        a35=re.sub('-GMC22$','',a34)\n",
    "        a36=re.sub('-GMC2$','',a35)\n",
    "        a37=re.sub('-Dodge Other$','',a36)\n",
    "        a38=re.sub('-Dodge Ram$','',a37)\n",
    "        a39=re.sub('-Oldsmobile$','',a38)\n",
    "        a40=re.sub('-Reservoir$','',a39)\n",
    "        a41=re.sub(r'-Chevy[0-9]{0,1}$','',a40)\n",
    "        a42=re.sub(r'-UP$','',a41)\n",
    "        a43=re.sub(r'-Return$','',a42)\n",
    "        a44=re.sub(r'-MF$','',a43)\n",
    "        a45=re.sub(r'-Front$','',a44)\n",
    "        a46=re.sub(r'-Nissan$','',a45)\n",
    "        a46=re.sub(r'-Toyota$','',a46)\n",
    "        a46=re.sub(r'-VW$','',a46)\n",
    "        a46=re.sub(r'-RH$','',a46)\n",
    "        a46=re.sub(r'pin','',a46)\n",
    "        a46=re.sub(r'-Case','',a46)\n",
    "        a46=re.sub(r'-Saab','',a46)\n",
    "        a46=re.sub(r'Note','',a46)\n",
    "        a46=re.sub(r'\\)','',a46)\n",
    "        a46 = re.sub(r'[\\u4e00-\\u9fa5]', '', a46)\n",
    "        a46 = re.sub(r'\\-C','',a46)\n",
    "        a46 = re.sub(r'\\*','-',a46)\n",
    "        a46=a46.rstrip('/')\n",
    "        a46=a46.rstrip('+')\n",
    "        a46=a46.strip()\n",
    "        a46=a46.split('(')[0]\n",
    "        list_skux[i]=a46\n",
    "    return list_skux"
   ]
  },
  {
   "cell_type": "code",
   "execution_count": 14,
   "id": "314a2d7a",
   "metadata": {},
   "outputs": [],
   "source": [
    "list_sku = clear_sku(list_sku)\n",
    "df_listing['处理后SKU'] = list_sku"
   ]
  },
  {
   "cell_type": "code",
   "execution_count": 15,
   "id": "dd69a477",
   "metadata": {},
   "outputs": [],
   "source": [
    "# 处理异常UUS的SKU\n",
    "index_u = df_listing[df_listing['处理后SKU'].str.startswith('UUS')].index.tolist()\n",
    "for i in index_u:\n",
    "    df_listing.loc[i,'处理后SKU'] = df_listing.loc[i,'处理后SKU'][1:]\n",
    "    list_sku[i] = list_sku[i][1:]"
   ]
  },
  {
   "cell_type": "code",
   "execution_count": 16,
   "id": "7c512edf",
   "metadata": {},
   "outputs": [],
   "source": [
    "# MRP替换料\n",
    "df_altersku_mrp_alt =  df_altersku_mrp\n",
    "df_altersku_mrp_alt = df_altersku_mrp_alt.copy()\n",
    "df_altersku_mrp_alt['替换料SKU'] = df_altersku_mrp_alt.apply(lambda x: ','.join(x[x.notnull()]).split(','),axis=1)\n",
    "df_altersku_mrp_alt_e = df_altersku_mrp_alt[['替换料SKU']].explode('替换料SKU')\n",
    "list_altersku_mrp = df_altersku_mrp_alt_e['替换料SKU'].tolist()"
   ]
  },
  {
   "cell_type": "code",
   "execution_count": 17,
   "id": "aa83c40c",
   "metadata": {},
   "outputs": [],
   "source": [
    "# 给替代料增加标识符row\n",
    "index_list = list(df_altersku_mrp_alt_e.index)\n",
    "index_list = [str(x+1) for x in index_list]\n",
    "df_altersku_mrp_alt_e['row'] = index_list\n",
    "df_altersku_mrp_alt_e.columns = ['SKU', 'row']\n",
    "df_altersku_mrp_alt_e = df_altersku_mrp_alt_e.drop_duplicates(keep='first')\n",
    "# df_altersku_mrp_alt_e"
   ]
  },
  {
   "cell_type": "markdown",
   "id": "887fadee",
   "metadata": {},
   "source": [
    "# 3.0 在途表匹配对应账号刊登时间"
   ]
  },
  {
   "cell_type": "markdown",
   "id": "157ed641",
   "metadata": {},
   "source": [
    "## 3.1 获取对应账号listing"
   ]
  },
  {
   "cell_type": "code",
   "execution_count": 18,
   "id": "a25e098f",
   "metadata": {},
   "outputs": [],
   "source": [
    "# 按照'seller'分组，对每个分组应用函数进行去重\n",
    "def keep_earliest_time(group):\n",
    "    return group.sort_values(by='刊登日期').drop_duplicates(subset='row', keep='first')"
   ]
  },
  {
   "cell_type": "code",
   "execution_count": 19,
   "id": "70d050fa",
   "metadata": {},
   "outputs": [],
   "source": [
    "# 筛选listing需要的列数\n",
    "df_listing_tmp = df_listing\n",
    "df_listing_tmp = df_listing_tmp[['Seller','处理后SKU','刊登日期']]\n",
    "df_listing_tmp.columns = ['Seller','SKU', '刊登日期']\n",
    "df_listing_tmp = df_listing_tmp.copy()\n",
    "df_listing_tmp['刊登日期'] = pd.to_datetime(df_listing_tmp['刊登日期'], errors='coerce')"
   ]
  },
  {
   "cell_type": "code",
   "execution_count": 20,
   "id": "5822c20a",
   "metadata": {},
   "outputs": [
    {
     "data": {
      "text/html": [
       "<div>\n",
       "<style scoped>\n",
       "    .dataframe tbody tr th:only-of-type {\n",
       "        vertical-align: middle;\n",
       "    }\n",
       "\n",
       "    .dataframe tbody tr th {\n",
       "        vertical-align: top;\n",
       "    }\n",
       "\n",
       "    .dataframe thead th {\n",
       "        text-align: right;\n",
       "    }\n",
       "</style>\n",
       "<table border=\"1\" class=\"dataframe\">\n",
       "  <thead>\n",
       "    <tr style=\"text-align: right;\">\n",
       "      <th></th>\n",
       "      <th>Seller</th>\n",
       "      <th>SKU</th>\n",
       "      <th>刊登日期</th>\n",
       "      <th>row</th>\n",
       "    </tr>\n",
       "  </thead>\n",
       "  <tbody>\n",
       "    <tr>\n",
       "      <th>0</th>\n",
       "      <td>a-premium-us</td>\n",
       "      <td>USGS63320</td>\n",
       "      <td>2017-04-02 15:04:17</td>\n",
       "      <td>22792</td>\n",
       "    </tr>\n",
       "    <tr>\n",
       "      <th>1</th>\n",
       "      <td>a-premium-us</td>\n",
       "      <td>USGS41590</td>\n",
       "      <td>2017-04-02 15:04:22</td>\n",
       "      <td>21824</td>\n",
       "    </tr>\n",
       "    <tr>\n",
       "      <th>2</th>\n",
       "      <td>a-premium-us</td>\n",
       "      <td>USGS61780</td>\n",
       "      <td>2017-04-02 15:04:27</td>\n",
       "      <td>22739</td>\n",
       "    </tr>\n",
       "    <tr>\n",
       "      <th>3</th>\n",
       "      <td>a-premium-us</td>\n",
       "      <td>USGS65010</td>\n",
       "      <td>2017-04-02 15:04:48</td>\n",
       "      <td>22842</td>\n",
       "    </tr>\n",
       "    <tr>\n",
       "      <th>4</th>\n",
       "      <td>a-premium-us</td>\n",
       "      <td>USGS43790</td>\n",
       "      <td>2017-04-02 15:04:53</td>\n",
       "      <td>22611</td>\n",
       "    </tr>\n",
       "  </tbody>\n",
       "</table>\n",
       "</div>"
      ],
      "text/plain": [
       "         Seller        SKU                刊登日期    row\n",
       "0  a-premium-us  USGS63320 2017-04-02 15:04:17  22792\n",
       "1  a-premium-us  USGS41590 2017-04-02 15:04:22  21824\n",
       "2  a-premium-us  USGS61780 2017-04-02 15:04:27  22739\n",
       "3  a-premium-us  USGS65010 2017-04-02 15:04:48  22842\n",
       "4  a-premium-us  USGS43790 2017-04-02 15:04:53  22611"
      ]
     },
     "execution_count": 20,
     "metadata": {},
     "output_type": "execute_result"
    }
   ],
   "source": [
    "# listing的SKU匹配到对应替代料的row\n",
    "df_listing_tmp = pd.merge(left=df_listing_tmp, right=df_altersku_mrp_alt_e, how='left', left_on='SKU', right_on='SKU').fillna('')\n",
    "df_listing_tmp = df_listing_tmp.groupby('Seller').apply(keep_earliest_time).reset_index(drop=True)\n",
    "df_listing_tmp = df_listing_tmp.reset_index(drop=True)\n",
    "df_listing_tmp.head()"
   ]
  },
  {
   "cell_type": "code",
   "execution_count": 21,
   "id": "ed7cc081",
   "metadata": {},
   "outputs": [],
   "source": [
    "# 选择ap账号的listing\n",
    "df_listing_ap = df_listing_tmp[df_listing_tmp['Seller']=='a-premium-us']\n",
    "df_listing_2u = df_listing_tmp[df_listing_tmp['Seller']=='partswholesale2u']\n",
    "df_listing_total = df_listing_tmp[df_listing_tmp['Seller']=='total_autopart']"
   ]
  },
  {
   "cell_type": "markdown",
   "id": "113d8800",
   "metadata": {},
   "source": [
    "## 3.2在途表匹配对应账号信息"
   ]
  },
  {
   "cell_type": "code",
   "execution_count": 22,
   "id": "8cf34ee2",
   "metadata": {},
   "outputs": [],
   "source": [
    "# 在途表标记原始行号\n",
    "df_progress_transit['原始行号'] = [int(i+2) for i in range(df_progress_transit.shape[0])]\n",
    "df_progress_transit_tmp_total = df_progress_transit\n",
    "df_progress_transit_tmp_total = pd.merge(left=df_progress_transit_tmp_total, right=df_altersku_mrp_alt_e, how='left', left_on='SKU', right_on='SKU')"
   ]
  },
  {
   "cell_type": "code",
   "execution_count": 23,
   "id": "75eeac24",
   "metadata": {},
   "outputs": [],
   "source": [
    "def convert_to_datetime(value):\n",
    "    if isinstance(value, str):\n",
    "        try:\n",
    "            return datetime.strptime(value, '%Y/%m/%d')\n",
    "        except ValueError:\n",
    "            return value  # 如果无法转换为日期时间格式，保持原值\n",
    "    elif pd.isna(value):  # 如果是 NaT，则保持原值\n",
    "        return pd.NaT\n",
    "    else:\n",
    "        return value  # 如果已经是日期时间格式，保持原值"
   ]
  },
  {
   "cell_type": "code",
   "execution_count": 24,
   "id": "52bd9c73",
   "metadata": {},
   "outputs": [],
   "source": [
    "df_progress_transit_tmp_total['大账号'] = df_progress_transit_tmp_total['大账号'].apply(convert_to_datetime)\n",
    "df_progress_transit_tmp_total['ap'] = df_progress_transit_tmp_total['ap'].apply(convert_to_datetime)\n",
    "df_progress_transit_tmp_total['2u'] = df_progress_transit_tmp_total['2u'].apply(convert_to_datetime)\n",
    "df_progress_transit_tmp_total['total'] = df_progress_transit_tmp_total['total'].apply(convert_to_datetime)"
   ]
  },
  {
   "cell_type": "code",
   "execution_count": null,
   "id": "96001118",
   "metadata": {},
   "outputs": [],
   "source": []
  },
  {
   "cell_type": "code",
   "execution_count": 25,
   "id": "ef696c27",
   "metadata": {},
   "outputs": [],
   "source": [
    "# 选择大账号不为空\n",
    "df_progress_transit_tmp = df_progress_transit_tmp_total[pd.notna(df_progress_transit_tmp_total['大账号'])].reset_index(drop=True)\n",
    "\n",
    "# 选择大账号不为空，ap账号为空的值\n",
    "df_ap = df_progress_transit_tmp_total[pd.isna(df_progress_transit_tmp_total['ap'])].reset_index(drop=True).fillna('')\n",
    "\n",
    "# 选择大账号不为空，2u账号为空的值\n",
    "df_2u = df_progress_transit_tmp_total[(pd.isna(df_progress_transit_tmp_total['2u']))].reset_index(drop=True).fillna('')\n",
    "\n",
    "# 选择大账号不为空，total账号为空的值\n",
    "df_total = df_progress_transit_tmp_total[(pd.isna(df_progress_transit_tmp_total['total']))].reset_index(drop=True).fillna('')"
   ]
  },
  {
   "cell_type": "code",
   "execution_count": 26,
   "id": "105b264f",
   "metadata": {},
   "outputs": [],
   "source": [
    "# df_progress_transit_tmp"
   ]
  },
  {
   "cell_type": "markdown",
   "id": "c27b747c",
   "metadata": {},
   "source": [
    "### 3.3 在途匹配Ap账号信息"
   ]
  },
  {
   "cell_type": "code",
   "execution_count": 27,
   "id": "8eac12e6",
   "metadata": {},
   "outputs": [],
   "source": [
    "# 选择有row值来匹配相关替代料，无row值的则为没有替代料，后续直接根据SKU匹配刊登时间\n",
    "df_ap_row = df_ap[df_ap['row']!=''].reset_index(drop=True)\n",
    "df_ap_row = pd.merge(left=df_ap_row, \n",
    "                     right=df_listing_ap, \n",
    "                     how='left', \n",
    "                     left_on='row', \n",
    "                     right_on='row', \n",
    "                     suffixes=('','_x'))\n",
    "df_ap_row['ap'] = [pd.NaT if pd.isna(df_ap_row.loc[i,'刊登日期']) else df_ap_row.loc[i,'刊登日期'] for i in range(df_ap_row.shape[0])]\n",
    "df_ap_row = df_ap_row[df_ap_row.columns[:-3]]\n",
    "# df_ap_row"
   ]
  },
  {
   "cell_type": "code",
   "execution_count": 28,
   "id": "931119d7",
   "metadata": {},
   "outputs": [],
   "source": [
    "# 无row值的则为没有替代料，直接根据SKU匹配刊登时间\n",
    "df_ap_notrow = df_ap[df_ap['row']==''].reset_index(drop=True)\n",
    "df_ap_notrow = pd.merge(left=df_ap_notrow, \n",
    "                        right=df_listing_ap, \n",
    "                        how='left', \n",
    "                        left_on='SKU',\n",
    "                        right_on='SKU', \n",
    "                        suffixes=('','_x'))\n",
    "df_ap_notrow['ap'] = [df_ap_notrow.loc[i,'ap'] if pd.isna(df_ap_notrow.loc[i,'刊登日期']) else df_ap_notrow.loc[i,'刊登日期'] for i in range(df_ap_notrow.shape[0])]\n",
    "df_ap_notrow = df_ap_notrow[df_ap_notrow.columns[:-3]]\n",
    "# df_ap_notrow"
   ]
  },
  {
   "cell_type": "code",
   "execution_count": 29,
   "id": "b47b1795",
   "metadata": {},
   "outputs": [],
   "source": [
    "df_ap_tmp = pd.concat([df_ap_row,df_ap_notrow])\n",
    "df_ap_tmp = df_ap_tmp.sort_values(by='原始行号').reset_index(drop=True)\n",
    "# df_ap_tmp"
   ]
  },
  {
   "cell_type": "markdown",
   "id": "ba9a6100",
   "metadata": {},
   "source": [
    "### 3.4 在途匹配2u账号信息"
   ]
  },
  {
   "cell_type": "code",
   "execution_count": 30,
   "id": "08e9c2c1",
   "metadata": {},
   "outputs": [],
   "source": [
    "# 选择有row值来匹配相关替代料，无row值的则为没有替代料，后续直接根据SKU匹配刊登时间\n",
    "df_2u_row = df_2u[df_2u['row']!=''].reset_index(drop=True)\n",
    "df_2u_row = pd.merge(left=df_2u_row, \n",
    "                     right=df_listing_2u, \n",
    "                     how='left', \n",
    "                     left_on='row',\n",
    "                     right_on='row', \n",
    "                     suffixes=('','_x'))\n",
    "df_2u_row['2u'] = [pd.NaT if pd.isna(df_2u_row.loc[i,'刊登日期']) else df_2u_row.loc[i,'刊登日期'] for i in range(df_2u_row.shape[0])]\n",
    "df_2u_row = df_2u_row[df_2u_row.columns[:-3]]\n",
    "# len(df_2u_row)"
   ]
  },
  {
   "cell_type": "code",
   "execution_count": 31,
   "id": "d399d046",
   "metadata": {},
   "outputs": [],
   "source": [
    "# 无row值的则为没有替代料，直接根据SKU匹配刊登时间\n",
    "df_2u_notrow = df_2u[df_2u['row']==''].reset_index(drop=True)\n",
    "df_2u_notrow = pd.merge(left=df_2u_notrow, \n",
    "                        right=df_listing_2u,\n",
    "                        how='left',\n",
    "                        left_on='SKU', \n",
    "                        right_on='SKU',\n",
    "                        suffixes=('','_x'))\n",
    "df_2u_notrow['2u'] = [df_2u_notrow.loc[i,'2u'] if pd.isna(df_2u_notrow.loc[i,'刊登日期']) else df_2u_notrow.loc[i,'刊登日期'] for i in range(df_2u_notrow.shape[0])]\n",
    "df_2u_notrow = df_2u_notrow[df_2u_notrow.columns[:-3]]\n",
    "# df_2u_notrow"
   ]
  },
  {
   "cell_type": "code",
   "execution_count": 32,
   "id": "112c280c",
   "metadata": {},
   "outputs": [],
   "source": [
    "df_2u_tmp = pd.concat([df_2u_row,df_2u_notrow])\n",
    "df_2u_tmp = df_2u_tmp.sort_values(by='原始行号').reset_index(drop=True)\n",
    "# df_2u_tmp"
   ]
  },
  {
   "cell_type": "code",
   "execution_count": null,
   "id": "47bb7f7b",
   "metadata": {},
   "outputs": [],
   "source": []
  },
  {
   "cell_type": "markdown",
   "id": "f5ab53e4",
   "metadata": {},
   "source": [
    "### 3.5 在途匹配US-T(Total)账号信息"
   ]
  },
  {
   "cell_type": "code",
   "execution_count": 33,
   "id": "fb88cd3d",
   "metadata": {},
   "outputs": [],
   "source": [
    "# 选择有row值来匹配相关替代料，无row值的则为没有替代料，后续直接根据SKU匹配刊登时间\n",
    "df_total_row = df_total[df_total['row']!=''].reset_index(drop=True)\n",
    "df_total_row = pd.merge(left=df_total_row, \n",
    "                        right=df_listing_total,\n",
    "                        how='left', \n",
    "                        left_on='row', \n",
    "                        right_on='row', \n",
    "                        suffixes=('','_x'))\n",
    "df_total_row['total'] = [pd.NaT if pd.isna(df_total_row.loc[i,'刊登日期']) else df_total_row.loc[i,'刊登日期'] for i in range(df_total_row.shape[0])]\n",
    "df_total_row = df_total_row[df_total_row.columns[:-3]]\n",
    "# df_total_row"
   ]
  },
  {
   "cell_type": "code",
   "execution_count": 34,
   "id": "37eeb1bf",
   "metadata": {},
   "outputs": [],
   "source": [
    "# 无row值的则为没有替代料，直接根据SKU匹配刊登时间\n",
    "df_total_notrow = df_total[df_total['row']==''].reset_index(drop=True)\n",
    "df_total_notrow = pd.merge(left=df_total_notrow, \n",
    "                           right=df_listing_total,\n",
    "                           how='left', left_on='SKU', \n",
    "                           right_on='SKU', \n",
    "                           suffixes=('','_x'))\n",
    "df_total_notrow['total'] = [df_total_notrow.loc[i,'total'] if pd.isna(df_total_notrow.loc[i,'刊登日期']) else df_total_notrow.loc[i,'刊登日期'] for i in range(df_total_notrow.shape[0])]\n",
    "df_total_notrow = df_total_notrow[df_total_notrow.columns[:-3]]\n",
    "# df_total_notrow"
   ]
  },
  {
   "cell_type": "code",
   "execution_count": 35,
   "id": "da146931",
   "metadata": {},
   "outputs": [],
   "source": [
    "df_total_tmp = pd.concat([df_total_row,df_total_notrow])\n",
    "df_total_tmp = df_total_tmp.sort_values(by='原始行号').reset_index(drop=True)\n",
    "# df_total_tmp[pd.notna(df_total_tmp['total'])]\n",
    "# df_total_tmp"
   ]
  },
  {
   "cell_type": "markdown",
   "id": "e26af531",
   "metadata": {},
   "source": [
    "## 3.6将信息匹配回原来的表格里"
   ]
  },
  {
   "cell_type": "code",
   "execution_count": 36,
   "id": "26b83e99",
   "metadata": {},
   "outputs": [],
   "source": [
    "# 将匹配到的ap账号的时间匹配到原来大账号不为空的总表里\n",
    "df_progress_transit_tmp2 = df_progress_transit_tmp\n",
    "df_ap_tmp = df_ap_tmp[['ap', '原始行号']]\n",
    "df_progress_transit_tmp2 = pd.merge(left=df_progress_transit_tmp2, \n",
    "                                    right=df_ap_tmp, \n",
    "                                    how='left', \n",
    "                                    left_on='原始行号', \n",
    "                                    right_on='原始行号', \n",
    "                                    suffixes=('','_x')).fillna('')\n",
    "df_progress_transit_tmp2['ap_x'] = df_progress_transit_tmp2['ap_x'].where(df_progress_transit_tmp2['ap_x'].isna(), '' )\n",
    "df_progress_transit_tmp2['ap_x'] = df_progress_transit_tmp2['ap_x'].where(pd.isna(df_progress_transit_tmp2['ap_x']), '' )\n",
    "df_progress_transit_tmp2['ap'] = [df_progress_transit_tmp2.loc[i,'ap_x'] if (df_progress_transit_tmp2.loc[i,'ap_x']!='') else df_progress_transit_tmp2.loc[i,'ap'] for i in range(df_progress_transit_tmp2.shape[0])]\n",
    "df_progress_transit_tmp2 = df_progress_transit_tmp2[df_progress_transit_tmp2.columns[:-1]]"
   ]
  },
  {
   "cell_type": "code",
   "execution_count": 37,
   "id": "ad002a06",
   "metadata": {},
   "outputs": [],
   "source": [
    "# 将匹配到的2u账号的时间匹配到原来大账号不为空的总表里\n",
    "df_2u_tmp = df_2u_tmp[['2u', '原始行号']]\n",
    "df_progress_transit_tmp2 = pd.merge(left=df_progress_transit_tmp2, right=df_2u_tmp, how='left', left_on='原始行号', right_on='原始行号', suffixes=('','_x')).fillna('')\n",
    "df_progress_transit_tmp2['2u'] = [df_progress_transit_tmp2.loc[i,'2u_x'] if pd.notna(df_progress_transit_tmp2.loc[i,'2u_x']) else df_progress_transit_tmp2.loc[i,'2u'] for i in range(df_progress_transit_tmp2.shape[0])]\n",
    "# df_progress_transit_tmp2 = df_progress_transit_tmp2 = df_progress_transit_tmp2[df_progress_transit_tmp2.columns[:-1]]"
   ]
  },
  {
   "cell_type": "code",
   "execution_count": 38,
   "id": "2df36768",
   "metadata": {},
   "outputs": [],
   "source": [
    "# 将匹配到的 US-T 账号的时间匹配到原来大账号不为空的总表里\n",
    "df_total_tmp = df_total_tmp[['total', '原始行号']]\n",
    "df_progress_transit_tmp2 = pd.merge(left=df_progress_transit_tmp2, \n",
    "                                    right=df_total_tmp, how='left', \n",
    "                                    left_on='原始行号', \n",
    "                                    right_on='原始行号',\n",
    "                                    suffixes=('','_x')).fillna('')\n",
    "df_progress_transit_tmp2['total'] = [df_progress_transit_tmp2.loc[i,'total_x'] if pd.notna(df_progress_transit_tmp2.loc[i,'total_x']) else df_progress_transit_tmp2.loc[i,'total'] for i in range(df_progress_transit_tmp2.shape[0])]\n",
    "df_progress_transit_tmp2 = df_progress_transit_tmp2 = df_progress_transit_tmp2[df_progress_transit_tmp2.columns[:-1]]"
   ]
  },
  {
   "cell_type": "code",
   "execution_count": 39,
   "id": "d902bd92",
   "metadata": {},
   "outputs": [],
   "source": [
    "df_progress_transit_tmp2 = df_progress_transit_tmp2[df_progress_transit_tmp2.columns[:-2]]"
   ]
  },
  {
   "cell_type": "code",
   "execution_count": 40,
   "id": "b71b1300",
   "metadata": {},
   "outputs": [
    {
     "data": {
      "text/plain": [
       "8052"
      ]
     },
     "execution_count": 40,
     "metadata": {},
     "output_type": "execute_result"
    }
   ],
   "source": [
    "len(df_progress_transit_tmp2)"
   ]
  },
  {
   "cell_type": "code",
   "execution_count": 41,
   "id": "69d5ddea",
   "metadata": {},
   "outputs": [],
   "source": [
    "df_progress_transit_null = df_progress_transit[(pd.isna(df_progress_transit['大账号']))].reset_index(drop=True)\n",
    "df_progress_transit_tmp3 = pd.concat([df_progress_transit_null, df_progress_transit_tmp2]).sort_values('原始行号').reset_index(drop=True)\n",
    "df_progress_transit_tmp3 = df_progress_transit_tmp3[['大账号', 'ap', '2u', 'total']]"
   ]
  },
  {
   "cell_type": "code",
   "execution_count": 63,
   "id": "3ace8aa1",
   "metadata": {},
   "outputs": [],
   "source": [
    "df_progress_transit_tmp3.to_excel('./ap_2u_total_time_{}.xlsx'.format(datetime.now().strftime(\"%Y%m%d_%H%M%S\")),index=False)"
   ]
  },
  {
   "cell_type": "code",
   "execution_count": null,
   "id": "40143246",
   "metadata": {},
   "outputs": [],
   "source": []
  },
  {
   "cell_type": "markdown",
   "id": "4da85e43",
   "metadata": {},
   "source": [
    "# 4.在途表匹配大账号刊登时间"
   ]
  },
  {
   "cell_type": "code",
   "execution_count": 43,
   "id": "e013c2a3",
   "metadata": {},
   "outputs": [],
   "source": [
    "df_progress_transit_isna = df_progress_transit_tmp_total[df_progress_transit_tmp_total['大账号'].isna()].reset_index(drop=True)\n",
    "  \n",
    "# 选择有row值来匹配相关替代料，无row值的则为没有替代料，后续直接根据SKU匹配刊登时间\n",
    "df_progress_transit_isna_row = df_progress_transit_isna[df_progress_transit_isna['row']!=''].reset_index(drop=True)\n",
    "df_progress_transit_isna_row = pd.merge(left=df_progress_transit_isna_row, \n",
    "                                             right=df_listing_ap, \n",
    "                                             how='left', \n",
    "                                             left_on='row', \n",
    "                                             right_on='row', \n",
    "                                             suffixes=('','_x'))\n",
    "df_progress_transit_isna_row['ap'] = [pd.NaT if pd.isna(df_progress_transit_isna_row.loc[i,'刊登日期']) else df_progress_transit_isna_row.loc[i,'刊登日期'] for i in range(df_progress_transit_isna_row.shape[0])]\n",
    "df_progress_transit_isna_row = df_progress_transit_isna_row[df_progress_transit_isna_row.columns[:-3]]\n",
    "# df_progress_transit_isna_row"
   ]
  },
  {
   "cell_type": "code",
   "execution_count": 44,
   "id": "f1b6c335",
   "metadata": {},
   "outputs": [],
   "source": [
    "# 无row值的则为没有替代料，直接根据SKU匹配刊登时间\n",
    "df_progress_transit_isna_notrow = df_progress_transit_isna[df_progress_transit_isna['row']==''].reset_index(drop=True)\n",
    "df_progress_transit_isna_notrow = pd.merge(left=df_progress_transit_isna_notrow, \n",
    "                                            right=df_listing_ap, \n",
    "                                            how='left', \n",
    "                                            left_on='SKU',\n",
    "                                            right_on='SKU', \n",
    "                                            suffixes=('','_x'))\n",
    "df_progress_transit_isna_notrow['ap'] = [df_progress_transit_isna_notrow.loc[i,'ap'] if pd.isna(df_progress_transit_isna_notrow.loc[i,'刊登日期']) else df_progress_transit_isna_notrow.loc[i,'刊登日期'] for i in range(df_progress_transit_isna_notrow.shape[0])]\n",
    "df_progress_transit_isna_notrow = df_progress_transit_isna_notrow[df_progress_transit_isna_notrow.columns[:-3]]\n",
    "# df_progress_transit_isna_notrow"
   ]
  },
  {
   "cell_type": "code",
   "execution_count": 45,
   "id": "17d3b4d7",
   "metadata": {},
   "outputs": [],
   "source": [
    "df_progress_transit_isna_tmp = pd.concat([df_progress_transit_isna_row,df_progress_transit_isna_notrow])\n",
    "df_progress_transit_isna_tmp = df_progress_transit_isna_tmp.sort_values(by='原始行号').reset_index(drop=True)\n",
    "# df_progress_transit_isna_tmp"
   ]
  },
  {
   "cell_type": "code",
   "execution_count": 46,
   "id": "f7242300",
   "metadata": {},
   "outputs": [],
   "source": [
    "df_progress_transit_isna_tmp_total = pd.concat([df_progress_transit_isna_tmp,df_progress_transit_tmp]).sort_values(by='原始行号').reset_index(drop=True)\n",
    "df_progress_transit_isna_tmp_total = df_progress_transit_tmp_total[['大账号', 'ap', '2u', 'total']]"
   ]
  },
  {
   "cell_type": "code",
   "execution_count": 64,
   "id": "4cd479a3",
   "metadata": {},
   "outputs": [],
   "source": [
    "df_progress_transit_isna_tmp_total.to_excel('./大账号为空_{}.xlsx'.format(datetime.now().strftime(\"%Y%m%d_%H%M%S\")), index=False)"
   ]
  },
  {
   "cell_type": "code",
   "execution_count": null,
   "id": "e21ea87c",
   "metadata": {},
   "outputs": [],
   "source": []
  },
  {
   "cell_type": "code",
   "execution_count": null,
   "id": "fef6e4c8",
   "metadata": {},
   "outputs": [],
   "source": []
  },
  {
   "cell_type": "code",
   "execution_count": null,
   "id": "31b455c1",
   "metadata": {},
   "outputs": [],
   "source": []
  }
 ],
 "metadata": {
  "kernelspec": {
   "display_name": "Python 3 (ipykernel)",
   "language": "python",
   "name": "python3"
  },
  "language_info": {
   "codemirror_mode": {
    "name": "ipython",
    "version": 3
   },
   "file_extension": ".py",
   "mimetype": "text/x-python",
   "name": "python",
   "nbconvert_exporter": "python",
   "pygments_lexer": "ipython3",
   "version": "3.11.3"
  }
 },
 "nbformat": 4,
 "nbformat_minor": 5
}
