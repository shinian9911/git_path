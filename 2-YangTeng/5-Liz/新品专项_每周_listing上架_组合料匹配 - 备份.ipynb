{
 "cells": [
  {
   "cell_type": "code",
   "execution_count": 58,
   "id": "346b2eb6",
   "metadata": {},
   "outputs": [],
   "source": [
    "from txdpy import get_letter,get_num\n",
    "from datetime import datetime\n",
    "from tqdm import tqdm\n",
    "import re\n",
    "import os\n",
    "import math\n",
    "import time\n",
    "import numpy as np\n",
    "import pandas as pd\n",
    "import xlwings as xw\n",
    "import PySimpleGUI as sg\n",
    "import win32api,win32con"
   ]
  },
  {
   "cell_type": "code",
   "execution_count": 2,
   "id": "27ab4d1a",
   "metadata": {},
   "outputs": [],
   "source": [
    "# 读取excel数据\n",
    "def read_data(file_path,first_cell):\n",
    "    app = xw.App(visible=False, add_book=False)\n",
    "    wb = app.books.open(file_path) # 打开Excel文件\n",
    "    sheet = wb.sheets[0] # 选择第0个表单\n",
    "    data = sheet.range(first_cell).expand().value # 读取全表数据\n",
    "    cols = data[0]\n",
    "    df = pd.DataFrame(data[1:], columns=cols)\n",
    "    return df"
   ]
  },
  {
   "cell_type": "code",
   "execution_count": 3,
   "id": "fabe1c42",
   "metadata": {},
   "outputs": [
    {
     "name": "stdout",
     "output_type": "stream",
     "text": [
      "D:/DeskTop/Learn/6-Liz\n"
     ]
    }
   ],
   "source": [
    "root_path = sg.popup_get_folder(\"请选择根目录文件夹\")\n",
    "print(root_path)"
   ]
  },
  {
   "cell_type": "code",
   "execution_count": 4,
   "id": "5e4c34dc",
   "metadata": {},
   "outputs": [],
   "source": [
    "listing_path = root_path + '/listing'"
   ]
  },
  {
   "cell_type": "code",
   "execution_count": 5,
   "id": "64bbf53f",
   "metadata": {},
   "outputs": [],
   "source": [
    "start_time = time.time()"
   ]
  },
  {
   "cell_type": "code",
   "execution_count": 6,
   "id": "d4782c39",
   "metadata": {},
   "outputs": [
    {
     "data": {
      "text/plain": [
       "'D:/DeskTop/Learn/6-Liz/listing'"
      ]
     },
     "execution_count": 6,
     "metadata": {},
     "output_type": "execute_result"
    }
   ],
   "source": [
    "listing_path"
   ]
  },
  {
   "cell_type": "markdown",
   "id": "57638e23",
   "metadata": {},
   "source": [
    "## 1.0 读取数据"
   ]
  },
  {
   "cell_type": "code",
   "execution_count": 7,
   "id": "a66a1b83",
   "metadata": {},
   "outputs": [
    {
     "name": "stdout",
     "output_type": "stream",
     "text": [
      "D:/DeskTop/Learn/6-Liz/【新品专项】在途新品模板进度表_2023-8-21.xlsx\n",
      "size：10997\n",
      "读取时间为3.52秒钟\n"
     ]
    }
   ],
   "source": [
    "# 读取新品在途进度表\n",
    "old_time = time.time()\n",
    "for file in os.listdir(root_path):\n",
    "    if '$' not in file and '在途' in file and '进度表' in file and '结果' not in file:\n",
    "        progress_transit_path = root_path + '/' + file\n",
    "        print(progress_transit_path)\n",
    "        df_progress_transit = pd.read_excel(progress_transit_path,sheet_name=\"各账号上架情况跟踪表-在途\")\n",
    "        print(\"size：{}\".format(len(df_progress_transit)))\n",
    "print(\"读取时间为%.2f秒钟\"%(time.time()-old_time))"
   ]
  },
  {
   "cell_type": "code",
   "execution_count": 8,
   "id": "bf2adfad",
   "metadata": {},
   "outputs": [
    {
     "name": "stdout",
     "output_type": "stream",
     "text": [
      "D:/DeskTop/Learn/6-Liz/替代料总表_处理后.xlsx\n",
      "size：56542\n",
      "读取时间为10.52秒钟\n"
     ]
    }
   ],
   "source": [
    "# 读取MRP替换料总表\n",
    "old_time = time.time()\n",
    "for file in os.listdir(root_path):\n",
    "    if '$' not in file and '替代料总表' in file and '_' in file:\n",
    "        altersku_mrp_path = root_path + '/' + file\n",
    "        print(altersku_mrp_path)\n",
    "        df_altersku_mrp = pd.read_excel(altersku_mrp_path,header=0, sheet_name='MRP SKU')[['主料SKU',\n",
    "                                                                                             '替换料1',\n",
    "                                                                                             '替换料2',\n",
    "                                                                                             '替换料3',\n",
    "                                                                                             '替换料4',\n",
    "                                                                                             '替换料5',\n",
    "                                                                                             '替换料6',\n",
    "                                                                                             '数量',\n",
    "                                                                                             'SKU1',\n",
    "                                                                                             'SKU2',\n",
    "                                                                                             'SKU3',\n",
    "                                                                                             'SKU4',\n",
    "                                                                                             'SKU5']]\n",
    "        \n",
    "        df_altersku_mrp['SKU6'] = np.nan\n",
    "        df_altersku_outmrp = pd.read_excel(altersku_mrp_path,header=0, sheet_name='MRP外SKU')[['主料SKU',\n",
    "                                                                                                 '替换料1',\n",
    "                                                                                                 '替换料2',\n",
    "                                                                                                 '替换料3',\n",
    "                                                                                                 '替换料4',\n",
    "                                                                                                 '替换料5',\n",
    "                                                                                                 '替换料6',\n",
    "                                                                                                 '数量',\n",
    "                                                                                                 'SKU1',\n",
    "                                                                                                 'SKU2',\n",
    "                                                                                                 'SKU3',\n",
    "                                                                                                 'SKU4',\n",
    "                                                                                                 'SKU5',\n",
    "                                                                                                 'SKU6']]\n",
    "        print(\"size：{}\".format(len(df_altersku_mrp)))\n",
    "print(\"读取时间为%.2f秒钟\"%(time.time()-old_time))"
   ]
  },
  {
   "cell_type": "code",
   "execution_count": 9,
   "id": "69eceb5a",
   "metadata": {},
   "outputs": [
    {
     "name": "stdout",
     "output_type": "stream",
     "text": [
      "====== D:/DeskTop/Learn/6-Liz/listing/2U-Listing20230911.xlsx——读取完成 ======\n",
      "====== D:/DeskTop/Learn/6-Liz/listing/AP-Listing20230911.084613.xlsx——读取完成 ======\n",
      "====== D:/DeskTop/Learn/6-Liz/listing/T-Listing20230911.085008.xlsx——读取完成 ======\n",
      "====== D:/DeskTop/Learn/6-Liz/listing/大账号-Listing20230911.082519.xlsx——读取完成 ======\n",
      "读取时间为50.62秒钟\n"
     ]
    }
   ],
   "source": [
    "# 读取listing\n",
    "list_listing = []\n",
    "old_time = time.time()\n",
    "for file in os.listdir(listing_path):\n",
    "    file_path = listing_path + '/' + file\n",
    "    if \"$\" not in file:\n",
    "        df = read_data(file_path,'A2')\n",
    "        df = df[['ItemID', 'Seller', '主SKU', 'SKU',  '刊登方式(天)', '在线数量','刊登日期']]\n",
    "        print(\"====== {}——读取完成 ======\".format(file_path))\n",
    "        list_listing.append(df)\n",
    "# 合并\n",
    "df_listing = pd.concat(list_listing)\n",
    "print(\"读取时间为%.2f秒钟\"%(time.time()-old_time))"
   ]
  },
  {
   "cell_type": "code",
   "execution_count": 10,
   "id": "ddf6125b",
   "metadata": {},
   "outputs": [
    {
     "data": {
      "text/html": [
       "<div>\n",
       "<style scoped>\n",
       "    .dataframe tbody tr th:only-of-type {\n",
       "        vertical-align: middle;\n",
       "    }\n",
       "\n",
       "    .dataframe tbody tr th {\n",
       "        vertical-align: top;\n",
       "    }\n",
       "\n",
       "    .dataframe thead th {\n",
       "        text-align: right;\n",
       "    }\n",
       "</style>\n",
       "<table border=\"1\" class=\"dataframe\">\n",
       "  <thead>\n",
       "    <tr style=\"text-align: right;\">\n",
       "      <th></th>\n",
       "      <th>ItemID</th>\n",
       "      <th>Seller</th>\n",
       "      <th>主SKU</th>\n",
       "      <th>SKU</th>\n",
       "      <th>刊登方式(天)</th>\n",
       "      <th>在线数量</th>\n",
       "      <th>刊登日期</th>\n",
       "    </tr>\n",
       "  </thead>\n",
       "  <tbody>\n",
       "    <tr>\n",
       "      <th>0</th>\n",
       "      <td>2.853753e+11</td>\n",
       "      <td>partswholesale2u</td>\n",
       "      <td>P-USCMPS70300</td>\n",
       "      <td>P-USCMPS70300</td>\n",
       "      <td>一口价(GTC)</td>\n",
       "      <td>25.0</td>\n",
       "      <td>2023-07-11 08:40:32</td>\n",
       "    </tr>\n",
       "    <tr>\n",
       "      <th>1</th>\n",
       "      <td>2.853753e+11</td>\n",
       "      <td>partswholesale2u</td>\n",
       "      <td>P-USABS20070</td>\n",
       "      <td>P-USABS20070</td>\n",
       "      <td>一口价(GTC)</td>\n",
       "      <td>0.0</td>\n",
       "      <td>2023-07-11 08:30:19</td>\n",
       "    </tr>\n",
       "    <tr>\n",
       "      <th>2</th>\n",
       "      <td>2.853753e+11</td>\n",
       "      <td>partswholesale2u</td>\n",
       "      <td>P-USABS18460</td>\n",
       "      <td>P-USABS18460</td>\n",
       "      <td>一口价(GTC)</td>\n",
       "      <td>25.0</td>\n",
       "      <td>2023-07-11 08:20:15</td>\n",
       "    </tr>\n",
       "    <tr>\n",
       "      <th>3</th>\n",
       "      <td>2.840760e+11</td>\n",
       "      <td>partswholesale2u</td>\n",
       "      <td>P-USGS45850TY</td>\n",
       "      <td>P-USGS45850TY</td>\n",
       "      <td>一口价(GTC)</td>\n",
       "      <td>25.0</td>\n",
       "      <td>2020-11-11 09:18:42</td>\n",
       "    </tr>\n",
       "    <tr>\n",
       "      <th>4</th>\n",
       "      <td>2.853753e+11</td>\n",
       "      <td>partswholesale2u</td>\n",
       "      <td>P-USBHH04792</td>\n",
       "      <td>P-USBHH04792</td>\n",
       "      <td>一口价(GTC)</td>\n",
       "      <td>25.0</td>\n",
       "      <td>2023-07-11 08:10:14</td>\n",
       "    </tr>\n",
       "  </tbody>\n",
       "</table>\n",
       "</div>"
      ],
      "text/plain": [
       "         ItemID            Seller           主SKU            SKU   刊登方式(天)  \\\n",
       "0  2.853753e+11  partswholesale2u  P-USCMPS70300  P-USCMPS70300  一口价(GTC)   \n",
       "1  2.853753e+11  partswholesale2u   P-USABS20070   P-USABS20070  一口价(GTC)   \n",
       "2  2.853753e+11  partswholesale2u   P-USABS18460   P-USABS18460  一口价(GTC)   \n",
       "3  2.840760e+11  partswholesale2u  P-USGS45850TY  P-USGS45850TY  一口价(GTC)   \n",
       "4  2.853753e+11  partswholesale2u   P-USBHH04792   P-USBHH04792  一口价(GTC)   \n",
       "\n",
       "   在线数量                刊登日期  \n",
       "0  25.0 2023-07-11 08:40:32  \n",
       "1   0.0 2023-07-11 08:30:19  \n",
       "2  25.0 2023-07-11 08:20:15  \n",
       "3  25.0 2020-11-11 09:18:42  \n",
       "4  25.0 2023-07-11 08:10:14  "
      ]
     },
     "execution_count": 10,
     "metadata": {},
     "output_type": "execute_result"
    }
   ],
   "source": [
    "# seller对应不同的账号名称，分别为：\n",
    "# 2U: partswholesale2u\n",
    "# Ap: a-premium-us\n",
    "# US-T: total_autopart\n",
    "# 大账号: autoparts_premium\n",
    "# partswholesale2u,a-premium-us,total_autopart,autoparts_premium\n",
    "df_listing.head()"
   ]
  },
  {
   "cell_type": "markdown",
   "id": "d12e9ff7",
   "metadata": {},
   "source": [
    "## 2.0 listiing处理"
   ]
  },
  {
   "cell_type": "code",
   "execution_count": 11,
   "id": "d11c3c20",
   "metadata": {},
   "outputs": [
    {
     "data": {
      "text/plain": [
       "'size：271228'"
      ]
     },
     "execution_count": 11,
     "metadata": {},
     "output_type": "execute_result"
    }
   ],
   "source": [
    "df_listing = df_listing.reset_index(drop=True)\n",
    "df_listing = df_listing.drop_duplicates()\n",
    "df_listing['ItemID'] = df_listing['ItemID'].apply(int)\n",
    "'size：{}'.format(len(df_listing))"
   ]
  },
  {
   "cell_type": "code",
   "execution_count": 12,
   "id": "c39eb04a",
   "metadata": {},
   "outputs": [],
   "source": [
    "list_sku=df_listing['主SKU'].to_list()"
   ]
  },
  {
   "cell_type": "code",
   "execution_count": 13,
   "id": "3066611c",
   "metadata": {},
   "outputs": [],
   "source": [
    "# 主SKU清洗\n",
    "def clear_sku(list_skux):\n",
    "    for i in range(0,len(list_skux)):\n",
    "        a = re.sub('\\（','(',list_skux[i])#转化(\n",
    "        a1 = re.sub('\\）',')',a)#转化）\n",
    "        a2 = re.sub('\\(.*?\\)','',a1)#删除（）内信息\n",
    "        a2 = re.sub('-测试','',a2)\n",
    "        a2 = re.sub('，','',a2)\n",
    "        a3 = re.sub(r'^[A-Z]{1,2}-{1}','',a2,count=1)#删除前缀\n",
    "        a4 = re.sub('-NC','',a3)#删除-NC后缀-少数，USOS24423H-NC，USIC02680I-6-NC(质量投诉，需退回检测)\n",
    "        a5 = re.sub('-N$','',a4)#删除-N后缀\n",
    "        y=re.sub('-Scion$','',a5)\n",
    "        z=re.sub(r'-Chevrolet$','',y)\n",
    "        h = re.sub('-1\\*2','*2',z)\n",
    "        j =re.sub('USIC20181/USIC65500','USIC65500',h)\n",
    "        k = re.sub('USBCB92767/USBC477563','USBC477563',j)\n",
    "        l = re.sub('USHLS29918/USHLS60843','USHLS60843',k)\n",
    "        m = re.sub('USGS436403','USGS43640B',l)\n",
    "        m1=re.sub(r'USDS36847case停售10.19','USDS36847',m)\n",
    "        n = re.sub('-US1$','',m1)\n",
    "        o = re.sub('-Ford$','',n)\n",
    "        p = re.sub('-MAP$','',o)\n",
    "        q = re.sub('-Dodge$','',p)\n",
    "        a6 = re.sub('-2021','',q)#删除后缀为-2021的SKU，USSGTE003-2021，USSGTE004-2021\n",
    "        z=re.sub('case较高暂停出售','',a6)\n",
    "        a7 = re.sub('-U$','',z)#删除后缀为-U的SKU，USGS47710-U，USIM15178-U先发测试\n",
    "        a8 = re.sub('-4Runner$','',a7)#删除后缀为-4runner的SKU，USIFTO001Z-4Runner\n",
    "        a9 = re.sub('-1A$','',a8)#删除后缀为‘-1A’的SKU,'-1AL'无误\n",
    "        a10 = re.sub('-1B$','',a9)#删除后缀为‘-1B’的SKU\n",
    "        a11 = re.sub('-1C$','',a10)#删除后缀为‘-1C’的SKU,'-1CA'无误\n",
    "        a12 = re.sub('-1D$','',a11)#删除后缀为‘-1D’的SKU\n",
    "        a13 = re.sub('-C1$','',a12)#删除后缀为‘-C1’的SKU\n",
    "        a14 = re.sub('-M$','',a13)#删除后缀为‘-M’的SKU\n",
    "        a15 = re.sub('-A$','',a14)#删除后缀为‘-A’的SKU\n",
    "        a16 = re.sub('-B$','',a15)#删除后缀为‘-B’的SKU\n",
    "        a17 = re.sub('-R2021$','-R',a16)\n",
    "        a18 = re.sub('-L2021$','-L',a17)#删除后缀‘2021’\n",
    "        a19= re.sub(' / ','/',a18)\n",
    "        a20=re.sub('-$','',a19)\n",
    "        a21=re.sub('-Rear$','',a20)\n",
    "        a22=re.sub('-1.7kw$','',a21)\n",
    "        a23=re.sub('-GMC$','',a22)\n",
    "        a24=re.sub('-AMC$','',a23)\n",
    "        a25=re.sub('-Chrysler$','',a24)\n",
    "        a26=re.sub('-JPN$','',a25)\n",
    "        a27=re.sub('-Other$','',a26)\n",
    "        a28=re.sub('-US2$','',a27)\n",
    "        a29=re.sub('-UR$','',a28)\n",
    "        a29=re.sub('-UK$','',a29)\n",
    "        a30=re.sub('-IT','',a29)\n",
    "        a30=re.sub('-Ford$','',a30)\n",
    "        a30=re.sub('-Left$','',a30)\n",
    "        a30=re.sub('-Chevrolet$','',a30)\n",
    "        a30=re.sub('-Dodge$','',a30)\n",
    "        a30=re.sub('-N$','',a30)\n",
    "        a30=re.sub('-D$','',a30)\n",
    "        a32=re.sub('-DE$','',a30)\n",
    "        a34=re.sub('-GMC1$','',a32)\n",
    "        a35=re.sub('-GMC22$','',a34)\n",
    "        a36=re.sub('-GMC2$','',a35)\n",
    "        a37=re.sub('-Dodge Other$','',a36)\n",
    "        a38=re.sub('-Dodge Ram$','',a37)\n",
    "        a39=re.sub('-Oldsmobile$','',a38)\n",
    "        a40=re.sub('-Reservoir$','',a39)\n",
    "        a41=re.sub(r'-Chevy[0-9]{0,1}$','',a40)\n",
    "        a42=re.sub(r'-UP$','',a41)\n",
    "        a43=re.sub(r'-Return$','',a42)\n",
    "        a44=re.sub(r'-MF$','',a43)\n",
    "        a45=re.sub(r'-Front$','',a44)\n",
    "        a46=re.sub(r'-Nissan$','',a45)\n",
    "        a46=re.sub(r'-Toyota$','',a46)\n",
    "        a46=re.sub(r'-VW$','',a46)\n",
    "        a46=re.sub(r'-RH$','',a46)\n",
    "        a46=re.sub(r'pin','',a46)\n",
    "        a46=re.sub(r'-Case','',a46)\n",
    "        a46=re.sub(r'-Saab','',a46)\n",
    "        a46=re.sub(r'Note','',a46)\n",
    "        a46=re.sub(r'\\)','',a46)\n",
    "        a46 = re.sub(r'[\\u4e00-\\u9fa5]', '', a46)\n",
    "        a46 = re.sub(r'\\-C','',a46)\n",
    "        a46 = re.sub(r'\\*','-',a46)\n",
    "        a46=a46.rstrip('/')\n",
    "        a46=a46.rstrip('+')\n",
    "        a46=a46.strip()\n",
    "        a46=a46.split('(')[0]\n",
    "        list_skux[i]=a46\n",
    "    return list_skux"
   ]
  },
  {
   "cell_type": "code",
   "execution_count": 14,
   "id": "314a2d7a",
   "metadata": {},
   "outputs": [],
   "source": [
    "list_sku = clear_sku(list_sku)\n",
    "df_listing['处理后SKU'] = list_sku"
   ]
  },
  {
   "cell_type": "code",
   "execution_count": 15,
   "id": "dd69a477",
   "metadata": {},
   "outputs": [],
   "source": [
    "# 处理异常UUS的SKU\n",
    "index_u = df_listing[df_listing['处理后SKU'].str.startswith('UUS')].index.tolist()\n",
    "for i in index_u:\n",
    "    df_listing.loc[i,'处理后SKU'] = df_listing.loc[i,'处理后SKU'][1:]\n",
    "    list_sku[i] = list_sku[i][1:]"
   ]
  },
  {
   "cell_type": "code",
   "execution_count": 16,
   "id": "1a06c747",
   "metadata": {},
   "outputs": [],
   "source": [
    "# MRP替换料\n",
    "# 将替换料关系变成每一行，对应相同的row，index\n",
    "# 将组合料SKU，用“+”拼接起来\n",
    "df_altersku_mrp_alt =  df_altersku_mrp\n",
    "df_altersku_mrp_alt = df_altersku_mrp_alt.copy()\n",
    "df_altersku_mrp_alt['替换料SKU'] = df_altersku_mrp_alt[df_altersku_mrp.columns[:7]].apply(lambda x: ','.join(x[x.notnull()]).split(','),axis=1)\n",
    "df_altersku_mrp_alt['commbination_sku'] = df_altersku_mrp_alt[df_altersku_mrp.columns[8:-1]].apply(lambda x: '+'.join(x[x.notnull()]),axis=1)\n",
    "df_altersku_mrp_alt_e = df_altersku_mrp_alt[['数量','替换料SKU', 'commbination_sku']]\n",
    "df_altersku_mrp_alt_e = df_altersku_mrp_alt_e.explode('替换料SKU')\n",
    "# df_altersku_mrp_alt_e"
   ]
  },
  {
   "cell_type": "code",
   "execution_count": null,
   "id": "6de8b5e1",
   "metadata": {},
   "outputs": [],
   "source": []
  },
  {
   "cell_type": "code",
   "execution_count": 17,
   "id": "aa83c40c",
   "metadata": {},
   "outputs": [
    {
     "data": {
      "text/html": [
       "<div>\n",
       "<style scoped>\n",
       "    .dataframe tbody tr th:only-of-type {\n",
       "        vertical-align: middle;\n",
       "    }\n",
       "\n",
       "    .dataframe tbody tr th {\n",
       "        vertical-align: top;\n",
       "    }\n",
       "\n",
       "    .dataframe thead th {\n",
       "        text-align: right;\n",
       "    }\n",
       "</style>\n",
       "<table border=\"1\" class=\"dataframe\">\n",
       "  <thead>\n",
       "    <tr style=\"text-align: right;\">\n",
       "      <th></th>\n",
       "      <th>数量</th>\n",
       "      <th>SKU</th>\n",
       "      <th>commbination_sku</th>\n",
       "      <th>row</th>\n",
       "      <th>index</th>\n",
       "    </tr>\n",
       "  </thead>\n",
       "  <tbody>\n",
       "    <tr>\n",
       "      <th>0</th>\n",
       "      <td>1+1+1</td>\n",
       "      <td>USCA171876D-3</td>\n",
       "      <td>USCA51317D+USCA51318D+USCAB3376D</td>\n",
       "      <td>0</td>\n",
       "      <td>1</td>\n",
       "    </tr>\n",
       "    <tr>\n",
       "      <th>1</th>\n",
       "      <td>1+1+1</td>\n",
       "      <td>USCA171876D</td>\n",
       "      <td>USCA51317D+USCA51318D+USCAB3376D</td>\n",
       "      <td>0</td>\n",
       "      <td>1</td>\n",
       "    </tr>\n",
       "    <tr>\n",
       "      <th>2</th>\n",
       "      <td>1+1+1</td>\n",
       "      <td>USCA171876-3</td>\n",
       "      <td>USCA51317D+USCA51318D+USCAB3376D</td>\n",
       "      <td>0</td>\n",
       "      <td>1</td>\n",
       "    </tr>\n",
       "    <tr>\n",
       "      <th>3</th>\n",
       "      <td>1+1+1</td>\n",
       "      <td>USCA171876</td>\n",
       "      <td>USCA51317D+USCA51318D+USCAB3376D</td>\n",
       "      <td>0</td>\n",
       "      <td>1</td>\n",
       "    </tr>\n",
       "    <tr>\n",
       "      <th>4</th>\n",
       "      <td>1</td>\n",
       "      <td>USGS37022T</td>\n",
       "      <td></td>\n",
       "      <td>1</td>\n",
       "      <td>2</td>\n",
       "    </tr>\n",
       "  </tbody>\n",
       "</table>\n",
       "</div>"
      ],
      "text/plain": [
       "      数量            SKU                  commbination_sku  row index\n",
       "0  1+1+1  USCA171876D-3  USCA51317D+USCA51318D+USCAB3376D    0     1\n",
       "1  1+1+1    USCA171876D  USCA51317D+USCA51318D+USCAB3376D    0     1\n",
       "2  1+1+1   USCA171876-3  USCA51317D+USCA51318D+USCAB3376D    0     1\n",
       "3  1+1+1     USCA171876  USCA51317D+USCA51318D+USCAB3376D    0     1\n",
       "4      1     USGS37022T                                      1     2"
      ]
     },
     "execution_count": 17,
     "metadata": {},
     "output_type": "execute_result"
    }
   ],
   "source": [
    "# 给替代料增加标识符row\n",
    "index_list = list(df_altersku_mrp_alt_e.index)\n",
    "index_row_list = [str(x+1) for x in index_list]\n",
    "df_altersku_mrp_alt_e['index'] = index_list\n",
    "df_altersku_mrp_alt_e['row'] = index_row_list\n",
    "df_altersku_mrp_alt_e.columns = ['数量','SKU', 'commbination_sku','row','index']\n",
    "df_altersku_mrp_alt_e = df_altersku_mrp_alt_e.drop_duplicates(keep='first')\n",
    "df_altersku_mrp_alt_e = df_altersku_mrp_alt_e.reset_index(drop=True)\n",
    "df_altersku_mrp_alt_e.head()"
   ]
  },
  {
   "cell_type": "code",
   "execution_count": 18,
   "id": "f63b2956",
   "metadata": {},
   "outputs": [],
   "source": [
    "df_listing_dazhanghao  = df_listing[df_listing['Seller']=='autoparts_premium'].reset_index(drop=True)\n",
    "df_listing_dazhanghao = df_listing_dazhanghao[['Seller','处理后SKU','刊登日期']]\n",
    "df_listing_dazhanghao.columns = ['Seller','SKU', '刊登日期']\n",
    "df_listing_dazhanghao = df_listing_dazhanghao.copy()\n",
    "df_listing_dazhanghao['刊登日期'] = pd.to_datetime(df_listing_dazhanghao['刊登日期'], errors='coerce')\n",
    "# df_listing_dazhanghao.head()"
   ]
  },
  {
   "cell_type": "code",
   "execution_count": 19,
   "id": "38ece6e8",
   "metadata": {},
   "outputs": [
    {
     "data": {
      "text/html": [
       "<div>\n",
       "<style scoped>\n",
       "    .dataframe tbody tr th:only-of-type {\n",
       "        vertical-align: middle;\n",
       "    }\n",
       "\n",
       "    .dataframe tbody tr th {\n",
       "        vertical-align: top;\n",
       "    }\n",
       "\n",
       "    .dataframe thead th {\n",
       "        text-align: right;\n",
       "    }\n",
       "</style>\n",
       "<table border=\"1\" class=\"dataframe\">\n",
       "  <thead>\n",
       "    <tr style=\"text-align: right;\">\n",
       "      <th></th>\n",
       "      <th>主料SKU</th>\n",
       "      <th>替换料1</th>\n",
       "      <th>替换料2</th>\n",
       "      <th>替换料3</th>\n",
       "      <th>替换料4</th>\n",
       "      <th>替换料5</th>\n",
       "      <th>替换料6</th>\n",
       "      <th>数量</th>\n",
       "      <th>SKU1</th>\n",
       "      <th>SKU2</th>\n",
       "      <th>SKU3</th>\n",
       "      <th>SKU4</th>\n",
       "      <th>SKU5</th>\n",
       "      <th>SKU6</th>\n",
       "      <th>outsku</th>\n",
       "    </tr>\n",
       "  </thead>\n",
       "  <tbody>\n",
       "    <tr>\n",
       "      <th>0</th>\n",
       "      <td>USHLS41285+USHLS41286</td>\n",
       "      <td>NaN</td>\n",
       "      <td>NaN</td>\n",
       "      <td>NaN</td>\n",
       "      <td>NaN</td>\n",
       "      <td>NaN</td>\n",
       "      <td>NaN</td>\n",
       "      <td>1+1</td>\n",
       "      <td>USHLS41285</td>\n",
       "      <td>USHLS41286</td>\n",
       "      <td>NaN</td>\n",
       "      <td>NaN</td>\n",
       "      <td>NaN</td>\n",
       "      <td>NaN</td>\n",
       "      <td>USHLS41285+USHLS41286</td>\n",
       "    </tr>\n",
       "    <tr>\n",
       "      <th>1</th>\n",
       "      <td>USDLA31004+USDLA31005+USDLA31006+USDLA31007</td>\n",
       "      <td>USDLA31004+DLA31005+DLA31006+DLA31007</td>\n",
       "      <td>NaN</td>\n",
       "      <td>NaN</td>\n",
       "      <td>NaN</td>\n",
       "      <td>NaN</td>\n",
       "      <td>NaN</td>\n",
       "      <td>1+1+1+1</td>\n",
       "      <td>USDLA31004</td>\n",
       "      <td>USDLA31005</td>\n",
       "      <td>USDLA31006</td>\n",
       "      <td>USDLA31007</td>\n",
       "      <td>NaN</td>\n",
       "      <td>NaN</td>\n",
       "      <td>USDLA31004+USDLA31005+USDLA31006+USDLA31007</td>\n",
       "    </tr>\n",
       "    <tr>\n",
       "      <th>2</th>\n",
       "      <td>USDLA31008+USDLA31009</td>\n",
       "      <td>NaN</td>\n",
       "      <td>NaN</td>\n",
       "      <td>NaN</td>\n",
       "      <td>NaN</td>\n",
       "      <td>NaN</td>\n",
       "      <td>NaN</td>\n",
       "      <td>1+1</td>\n",
       "      <td>USDLA31008</td>\n",
       "      <td>USDLA31009</td>\n",
       "      <td>NaN</td>\n",
       "      <td>NaN</td>\n",
       "      <td>NaN</td>\n",
       "      <td>NaN</td>\n",
       "      <td>USDLA31008+USDLA31009</td>\n",
       "    </tr>\n",
       "    <tr>\n",
       "      <th>3</th>\n",
       "      <td>USDLA76319+USDLA76544</td>\n",
       "      <td>NaN</td>\n",
       "      <td>NaN</td>\n",
       "      <td>NaN</td>\n",
       "      <td>NaN</td>\n",
       "      <td>NaN</td>\n",
       "      <td>NaN</td>\n",
       "      <td>1+1</td>\n",
       "      <td>USDLA76319</td>\n",
       "      <td>USDLA76544</td>\n",
       "      <td>NaN</td>\n",
       "      <td>NaN</td>\n",
       "      <td>NaN</td>\n",
       "      <td>NaN</td>\n",
       "      <td>USDLA76319+USDLA76544</td>\n",
       "    </tr>\n",
       "    <tr>\n",
       "      <th>4</th>\n",
       "      <td>USDLA20273+USDLA20303</td>\n",
       "      <td>NaN</td>\n",
       "      <td>NaN</td>\n",
       "      <td>NaN</td>\n",
       "      <td>NaN</td>\n",
       "      <td>NaN</td>\n",
       "      <td>NaN</td>\n",
       "      <td>1+1</td>\n",
       "      <td>USDLA20273</td>\n",
       "      <td>USDLA20303</td>\n",
       "      <td>NaN</td>\n",
       "      <td>NaN</td>\n",
       "      <td>NaN</td>\n",
       "      <td>NaN</td>\n",
       "      <td>USDLA20273+USDLA20303</td>\n",
       "    </tr>\n",
       "  </tbody>\n",
       "</table>\n",
       "</div>"
      ],
      "text/plain": [
       "                                         主料SKU  \\\n",
       "0                        USHLS41285+USHLS41286   \n",
       "1  USDLA31004+USDLA31005+USDLA31006+USDLA31007   \n",
       "2                        USDLA31008+USDLA31009   \n",
       "3                        USDLA76319+USDLA76544   \n",
       "4                        USDLA20273+USDLA20303   \n",
       "\n",
       "                                    替换料1 替换料2 替换料3 替换料4 替换料5  替换料6       数量  \\\n",
       "0                                    NaN  NaN  NaN  NaN  NaN   NaN      1+1   \n",
       "1  USDLA31004+DLA31005+DLA31006+DLA31007  NaN  NaN  NaN  NaN   NaN  1+1+1+1   \n",
       "2                                    NaN  NaN  NaN  NaN  NaN   NaN      1+1   \n",
       "3                                    NaN  NaN  NaN  NaN  NaN   NaN      1+1   \n",
       "4                                    NaN  NaN  NaN  NaN  NaN   NaN      1+1   \n",
       "\n",
       "         SKU1        SKU2        SKU3        SKU4 SKU5 SKU6  \\\n",
       "0  USHLS41285  USHLS41286         NaN         NaN  NaN  NaN   \n",
       "1  USDLA31004  USDLA31005  USDLA31006  USDLA31007  NaN  NaN   \n",
       "2  USDLA31008  USDLA31009         NaN         NaN  NaN  NaN   \n",
       "3  USDLA76319  USDLA76544         NaN         NaN  NaN  NaN   \n",
       "4  USDLA20273  USDLA20303         NaN         NaN  NaN  NaN   \n",
       "\n",
       "                                        outsku  \n",
       "0                        USHLS41285+USHLS41286  \n",
       "1  USDLA31004+USDLA31005+USDLA31006+USDLA31007  \n",
       "2                        USDLA31008+USDLA31009  \n",
       "3                        USDLA76319+USDLA76544  \n",
       "4                        USDLA20273+USDLA20303  "
      ]
     },
     "execution_count": 19,
     "metadata": {},
     "output_type": "execute_result"
    }
   ],
   "source": [
    "# 将MRP外的SKU，处理之后的拼接起来，得到outsku\n",
    "df_altersku_outmrp_tmp = df_altersku_outmrp\n",
    "df_altersku_outmrp_tmp['outsku'] = df_altersku_outmrp_tmp[df_altersku_outmrp_tmp.columns[8:]].apply(lambda x: '+'.join(x[x.notnull()]), axis=1)\n",
    "df_altersku_outmrp_tmp.head()"
   ]
  },
  {
   "cell_type": "code",
   "execution_count": 20,
   "id": "c3fdadf3",
   "metadata": {},
   "outputs": [
    {
     "data": {
      "text/html": [
       "<div>\n",
       "<style scoped>\n",
       "    .dataframe tbody tr th:only-of-type {\n",
       "        vertical-align: middle;\n",
       "    }\n",
       "\n",
       "    .dataframe tbody tr th {\n",
       "        vertical-align: top;\n",
       "    }\n",
       "\n",
       "    .dataframe thead th {\n",
       "        text-align: right;\n",
       "    }\n",
       "</style>\n",
       "<table border=\"1\" class=\"dataframe\">\n",
       "  <thead>\n",
       "    <tr style=\"text-align: right;\">\n",
       "      <th></th>\n",
       "      <th>Seller</th>\n",
       "      <th>SKU</th>\n",
       "      <th>刊登日期</th>\n",
       "    </tr>\n",
       "  </thead>\n",
       "  <tbody>\n",
       "    <tr>\n",
       "      <th>0</th>\n",
       "      <td>autoparts_premium</td>\n",
       "      <td>USBRPS258485FR+USBCB73130LR+USBCB72928BLR</td>\n",
       "      <td>2023-03-11 08:53:32</td>\n",
       "    </tr>\n",
       "    <tr>\n",
       "      <th>1</th>\n",
       "      <td>autoparts_premium</td>\n",
       "      <td>USCTP00003</td>\n",
       "      <td>2023-03-11 08:29:30</td>\n",
       "    </tr>\n",
       "    <tr>\n",
       "      <th>2</th>\n",
       "      <td>autoparts_premium</td>\n",
       "      <td>USABS308AAJ+USABS316AAJ+USABS317ABJ+USABS509AA</td>\n",
       "      <td>2015-11-11 04:30:15</td>\n",
       "    </tr>\n",
       "    <tr>\n",
       "      <th>3</th>\n",
       "      <td>autoparts_premium</td>\n",
       "      <td>USCAK556LRD+USCAK091LRD</td>\n",
       "      <td>2020-03-11 01:16:03</td>\n",
       "    </tr>\n",
       "    <tr>\n",
       "      <th>4</th>\n",
       "      <td>autoparts_premium</td>\n",
       "      <td>USFP3621S0Z</td>\n",
       "      <td>2016-08-10 22:26:19</td>\n",
       "    </tr>\n",
       "  </tbody>\n",
       "</table>\n",
       "</div>"
      ],
      "text/plain": [
       "              Seller                                             SKU  \\\n",
       "0  autoparts_premium       USBRPS258485FR+USBCB73130LR+USBCB72928BLR   \n",
       "1  autoparts_premium                                      USCTP00003   \n",
       "2  autoparts_premium  USABS308AAJ+USABS316AAJ+USABS317ABJ+USABS509AA   \n",
       "3  autoparts_premium                         USCAK556LRD+USCAK091LRD   \n",
       "4  autoparts_premium                                     USFP3621S0Z   \n",
       "\n",
       "                 刊登日期  \n",
       "0 2023-03-11 08:53:32  \n",
       "1 2023-03-11 08:29:30  \n",
       "2 2015-11-11 04:30:15  \n",
       "3 2020-03-11 01:16:03  \n",
       "4 2016-08-10 22:26:19  "
      ]
     },
     "execution_count": 20,
     "metadata": {},
     "output_type": "execute_result"
    }
   ],
   "source": [
    "# 将大账号listing中MRP没有的SKU进行匹配，然后更新为处理之后的\n",
    "df_account = df_listing_dazhanghao\n",
    "df_account = pd.merge(left=df_account, \n",
    "                      right=df_altersku_outmrp_tmp, \n",
    "                      how='left',\n",
    "                      left_on='SKU', \n",
    "                      right_on='主料SKU')\n",
    "df_account['SKU'] = [df_account.loc[i,'outsku'] if pd.notna(df_account.loc[i,'outsku']) else df_account.loc[i,'SKU'] for i in range(df_account.shape[0])]\n",
    "df_account = df_account[['Seller', 'SKU', '刊登日期']]\n",
    "df_account.head()"
   ]
  },
  {
   "cell_type": "code",
   "execution_count": 21,
   "id": "ca329fde",
   "metadata": {},
   "outputs": [],
   "source": [
    "# 将每一个组合SKU根据“+”号分开，然后每个SKU去寻找是否有对应的替代料\n",
    "def new_sku(values):\n",
    "    values = values.split('+')\n",
    "    \n",
    "    for value in values:\n",
    "        element_to_find = value\n",
    "        row_index, col_index = (df_altersku_mrp_alt_e == element_to_find).values.nonzero()\n",
    "        if len(row_index)>0:\n",
    "            row_index = row_index[0]\n",
    "            commbination_sku = df_altersku_mrp_alt_e.loc[row_index,'commbination_sku']\n",
    "            \n",
    "            if isinstance(commbination_sku, pd.DataFrame) or isinstance(commbination_sku, pd.Series):\n",
    "                if commbination_sku.iloc[0]!='':\n",
    "                    values.remove(value)\n",
    "                    values.append(commbination_sku.iloc[0])\n",
    "                    \n",
    "            elif isinstance(commbination_sku, str):\n",
    "                if commbination_sku!='':\n",
    "                    values.remove(value)\n",
    "                    values.append(commbination_sku)\n",
    "                    \n",
    "    return set(values)"
   ]
  },
  {
   "cell_type": "code",
   "execution_count": 22,
   "id": "275c50eb",
   "metadata": {
    "scrolled": true
   },
   "outputs": [
    {
     "name": "stdout",
     "output_type": "stream",
     "text": [
      "{'USBCB73130LR', 'USBCB84728B-C+USBCB84729B-C', 'USBRS55072+USBPD78400+USBRS55055+USBPD78500'}\n"
     ]
    }
   ],
   "source": [
    "a = 'USBRPS258485FR+USBCB73130LR+USBCB72928BLR'\n",
    "b = new_sku(a)\n",
    "print(b)"
   ]
  },
  {
   "cell_type": "code",
   "execution_count": 50,
   "id": "4f629ffc",
   "metadata": {},
   "outputs": [],
   "source": [
    "# 筛选新品在途表中大账号刊登日期为空的，并且匹配替代料表，匹配新品在途表每个SKU是否有对应的替代料关系\n",
    "df_progress_transit_notnull = df_progress_transit[pd.isna(df_progress_transit['大账号'])][['SKU', '大账号', 'ap', '2u', 'total']].reset_index(drop=True)\n",
    "df_progress_transit_notnull = pd.merge(left=df_progress_transit_notnull, right=df_altersku_mrp_alt_e, how='left', left_on='SKU', right_on='SKU')\n",
    "# df_progress_transit_notnull"
   ]
  },
  {
   "cell_type": "code",
   "execution_count": 60,
   "id": "b3f8b702",
   "metadata": {},
   "outputs": [],
   "source": [
    "# 1 - 排除没有row值的，即为没有对应的替代料关系\n",
    "# 2 - 再筛选对应的数量关系，排除掉数量为1以及空的，因为这些不存在组合料，只有替代料关系\n",
    "df_progress_transit_notnull_mul = df_progress_transit_notnull[df_progress_transit_notnull['row'].notna()].fillna('')\n",
    "df_progress_transit_notnull_mul = df_progress_transit_notnull_mul[(df_progress_transit_notnull_mul['数量']!=1)&(df_progress_transit_notnull_mul['数量']!='')]\n",
    "# df_progress_transit_notnull_mul"
   ]
  },
  {
   "cell_type": "code",
   "execution_count": 70,
   "id": "e0b20183",
   "metadata": {},
   "outputs": [],
   "source": [
    "tqdm.pandas()\n",
    "df_progress_transit_notnull_mul['new_commbination_transit'] = df_progress_transit_notnull_mul['commbination_sku'].progress_apply(new_sku)\n",
    "tqdm.close()\n",
    "# df_progress_transit_notnull_mul"
   ]
  },
  {
   "cell_type": "code",
   "execution_count": 74,
   "id": "ab35c6c5",
   "metadata": {},
   "outputs": [],
   "source": [
    "df_account_alter = pd.merge(left=df_account, right=df_altersku_mrp_alt_e, how='left', left_on='SKU', right_on='SKU')\n",
    "df_account_alter = df_account_alter[(pd.notna(df_account_alter['row']))&(df_account_alter['数量']!=1)]\n",
    "# df_account_alter"
   ]
  },
  {
   "cell_type": "code",
   "execution_count": 79,
   "id": "cf1fc5e0",
   "metadata": {},
   "outputs": [],
   "source": [
    "df_account_alter['new_commbination_account'] = df_account_alter['commbination_sku'].progress_apply(new_sku)\n",
    "df_account_alter"
   ]
  },
  {
   "cell_type": "code",
   "execution_count": 96,
   "id": "42e62e79",
   "metadata": {},
   "outputs": [],
   "source": [
    "df_account_alter.iloc[2257]"
   ]
  },
  {
   "cell_type": "code",
   "execution_count": null,
   "id": "cd51c3a6",
   "metadata": {},
   "outputs": [],
   "source": []
  },
  {
   "cell_type": "code",
   "execution_count": null,
   "id": "6d6c1f3a",
   "metadata": {},
   "outputs": [],
   "source": []
  },
  {
   "cell_type": "code",
   "execution_count": null,
   "id": "153e6050",
   "metadata": {},
   "outputs": [],
   "source": []
  },
  {
   "cell_type": "code",
   "execution_count": null,
   "id": "bcdc17aa",
   "metadata": {},
   "outputs": [],
   "source": []
  },
  {
   "cell_type": "code",
   "execution_count": null,
   "id": "d5d1e8e0",
   "metadata": {},
   "outputs": [],
   "source": []
  },
  {
   "cell_type": "code",
   "execution_count": null,
   "id": "90aeeeee",
   "metadata": {},
   "outputs": [],
   "source": []
  },
  {
   "cell_type": "code",
   "execution_count": null,
   "id": "b835e5f6",
   "metadata": {},
   "outputs": [],
   "source": []
  },
  {
   "cell_type": "code",
   "execution_count": null,
   "id": "297665f1",
   "metadata": {},
   "outputs": [],
   "source": []
  },
  {
   "cell_type": "code",
   "execution_count": null,
   "id": "6e2ae87d",
   "metadata": {},
   "outputs": [],
   "source": []
  },
  {
   "cell_type": "code",
   "execution_count": null,
   "id": "1c337034",
   "metadata": {},
   "outputs": [],
   "source": []
  },
  {
   "cell_type": "code",
   "execution_count": null,
   "id": "66f91f8d",
   "metadata": {},
   "outputs": [],
   "source": []
  },
  {
   "cell_type": "code",
   "execution_count": null,
   "id": "20ba9a00",
   "metadata": {},
   "outputs": [],
   "source": []
  },
  {
   "cell_type": "code",
   "execution_count": null,
   "id": "77fece36",
   "metadata": {},
   "outputs": [],
   "source": []
  },
  {
   "cell_type": "code",
   "execution_count": null,
   "id": "8dc517e9",
   "metadata": {},
   "outputs": [],
   "source": []
  },
  {
   "cell_type": "code",
   "execution_count": null,
   "id": "7588ce0b",
   "metadata": {},
   "outputs": [],
   "source": []
  },
  {
   "cell_type": "code",
   "execution_count": null,
   "id": "b4ece339",
   "metadata": {},
   "outputs": [],
   "source": []
  },
  {
   "cell_type": "code",
   "execution_count": null,
   "id": "24243eec",
   "metadata": {},
   "outputs": [],
   "source": []
  },
  {
   "cell_type": "code",
   "execution_count": null,
   "id": "86522c1d",
   "metadata": {},
   "outputs": [],
   "source": []
  },
  {
   "cell_type": "code",
   "execution_count": null,
   "id": "3acff67e",
   "metadata": {},
   "outputs": [],
   "source": []
  },
  {
   "cell_type": "code",
   "execution_count": null,
   "id": "e21ea87c",
   "metadata": {},
   "outputs": [],
   "source": []
  },
  {
   "cell_type": "code",
   "execution_count": null,
   "id": "fef6e4c8",
   "metadata": {},
   "outputs": [],
   "source": []
  },
  {
   "cell_type": "code",
   "execution_count": null,
   "id": "31b455c1",
   "metadata": {},
   "outputs": [],
   "source": []
  }
 ],
 "metadata": {
  "kernelspec": {
   "display_name": "Python 3 (ipykernel)",
   "language": "python",
   "name": "python3"
  },
  "language_info": {
   "codemirror_mode": {
    "name": "ipython",
    "version": 3
   },
   "file_extension": ".py",
   "mimetype": "text/x-python",
   "name": "python",
   "nbconvert_exporter": "python",
   "pygments_lexer": "ipython3",
   "version": "3.11.3"
  }
 },
 "nbformat": 4,
 "nbformat_minor": 5
}
